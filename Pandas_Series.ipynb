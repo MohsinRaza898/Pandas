{
 "cells": [
  {
   "cell_type": "markdown",
   "metadata": {
    "id": "-XJ7e6F9hvLj"
   },
   "source": [
    "**Pandas use for any kind of data analysis and manuplation**\n",
    "\n",
    "*   Series\n",
    "*   Frames\n",
    "\n"
   ]
  },
  {
   "cell_type": "markdown",
   "metadata": {
    "id": "Bnx9T9TZijFm"
   },
   "source": [
    "**Series**\n",
    "\n",
    "\n",
    "*   A Pandas Series is like a column in a table.It is a 1-D array holding data of any type.\n",
    "\n"
   ]
  },
  {
   "cell_type": "code",
   "execution_count": null,
   "metadata": {
    "id": "Qg0_I572hnhn"
   },
   "outputs": [],
   "source": [
    "import pandas as pd\n",
    "import numpy as np"
   ]
  },
  {
   "cell_type": "markdown",
   "metadata": {
    "id": "F2HqBp7kj9bq"
   },
   "source": [
    "*Series from list*"
   ]
  },
  {
   "cell_type": "code",
   "execution_count": null,
   "metadata": {
    "colab": {
     "base_uri": "https://localhost:8080/"
    },
    "executionInfo": {
     "elapsed": 6,
     "status": "ok",
     "timestamp": 1702244845180,
     "user": {
      "displayName": "Mohsin Raza",
      "userId": "02069157311777040551"
     },
     "user_tz": -300
    },
    "id": "bi56phUdjQBl",
    "outputId": "7c508d96-2060-43e0-f227-a991b8c1ed7a"
   },
   "outputs": [
    {
     "data": {
      "text/plain": [
       "0    Pakistan\n",
       "1       India\n",
       "2         USA\n",
       "3         Afg\n",
       "4         Ban\n",
       "dtype: object"
      ]
     },
     "execution_count": 2,
     "metadata": {},
     "output_type": "execute_result"
    }
   ],
   "source": [
    "# series caries two part 1) index 2) value\n",
    "# Strings\n",
    "country = ['Pakistan','India','USA','Afg','Ban']\n",
    "\n",
    "pd.Series(country)"
   ]
  },
  {
   "cell_type": "code",
   "execution_count": null,
   "metadata": {
    "colab": {
     "base_uri": "https://localhost:8080/"
    },
    "executionInfo": {
     "elapsed": 477,
     "status": "ok",
     "timestamp": 1702244845655,
     "user": {
      "displayName": "Mohsin Raza",
      "userId": "02069157311777040551"
     },
     "user_tz": -300
    },
    "id": "zRgHrtIckytd",
    "outputId": "68e1a5d7-b336-4b67-f1e2-436f0b312345"
   },
   "outputs": [
    {
     "data": {
      "text/plain": [
       "0    23\n",
       "1    50\n",
       "2    65\n",
       "3    81\n",
       "4     3\n",
       "dtype: int64"
      ]
     },
     "execution_count": 3,
     "metadata": {},
     "output_type": "execute_result"
    }
   ],
   "source": [
    "# Integers\n",
    "runs = [23,50,65,81,3]\n",
    "runs_series = pd.Series(runs)\n",
    "runs_series"
   ]
  },
  {
   "cell_type": "code",
   "execution_count": null,
   "metadata": {
    "colab": {
     "base_uri": "https://localhost:8080/"
    },
    "executionInfo": {
     "elapsed": 20,
     "status": "ok",
     "timestamp": 1702244845656,
     "user": {
      "displayName": "Mohsin Raza",
      "userId": "02069157311777040551"
     },
     "user_tz": -300
    },
    "id": "-i8tCDzJlJkI",
    "outputId": "c85b7264-c94d-4468-a7fd-b99f330f00d4"
   },
   "outputs": [
    {
     "data": {
      "text/plain": [
       "Seience     67\n",
       "Eng         57\n",
       "urdu        89\n",
       "Maths      100\n",
       "dtype: int64"
      ]
     },
     "execution_count": 4,
     "metadata": {},
     "output_type": "execute_result"
    }
   ],
   "source": [
    "# Custom Index\n",
    "marks = [67,57,89,100]\n",
    "subjects = ['Seience','Eng','urdu','Maths']\n",
    "\n",
    "pd.Series(marks, index = subjects)"
   ]
  },
  {
   "cell_type": "code",
   "execution_count": null,
   "metadata": {
    "colab": {
     "base_uri": "https://localhost:8080/"
    },
    "executionInfo": {
     "elapsed": 17,
     "status": "ok",
     "timestamp": 1702244845656,
     "user": {
      "displayName": "Mohsin Raza",
      "userId": "02069157311777040551"
     },
     "user_tz": -300
    },
    "id": "ju28IfYSlsAd",
    "outputId": "5c22543e-6a06-4982-e955-38c3b738f9b4"
   },
   "outputs": [
    {
     "data": {
      "text/plain": [
       "Seience     67\n",
       "Eng         57\n",
       "urdu        89\n",
       "Maths      100\n",
       "Name: Marks of Mohsin, dtype: int64"
      ]
     },
     "execution_count": 5,
     "metadata": {},
     "output_type": "execute_result"
    }
   ],
   "source": [
    "# Setting a name\n",
    "marks_series = pd.Series(marks, index = subjects,name=\"Marks of Mohsin\")\n",
    "marks_series"
   ]
  },
  {
   "cell_type": "markdown",
   "metadata": {
    "id": "t26oDIx9mg-V"
   },
   "source": [
    "**Series from Dict**"
   ]
  },
  {
   "cell_type": "code",
   "execution_count": null,
   "metadata": {
    "colab": {
     "base_uri": "https://localhost:8080/"
    },
    "executionInfo": {
     "elapsed": 15,
     "status": "ok",
     "timestamp": 1702244845656,
     "user": {
      "displayName": "Mohsin Raza",
      "userId": "02069157311777040551"
     },
     "user_tz": -300
    },
    "id": "ZSrbEIxnmKuM",
    "outputId": "a1eb04ba-6a78-45ff-f586-ec6b935e754d"
   },
   "outputs": [
    {
     "data": {
      "text/plain": [
       "Seience     67\n",
       "Eng         57\n",
       "urdu        89\n",
       "Maths      100\n",
       "Name: Marks of Mohsin, dtype: int64"
      ]
     },
     "execution_count": 6,
     "metadata": {},
     "output_type": "execute_result"
    }
   ],
   "source": [
    "info ={\n",
    "    'Seience':67,\n",
    "    'Eng'    :57,\n",
    "    'urdu'   :89,\n",
    "    'Maths'  :100\n",
    "}\n",
    "info_series = pd.Series(info,name=\"Marks of Mohsin\")\n",
    "info_series"
   ]
  },
  {
   "cell_type": "markdown",
   "metadata": {
    "id": "a_JJdViWoAT2"
   },
   "source": [
    "**Series Attributes**"
   ]
  },
  {
   "cell_type": "code",
   "execution_count": null,
   "metadata": {
    "colab": {
     "base_uri": "https://localhost:8080/"
    },
    "executionInfo": {
     "elapsed": 11,
     "status": "ok",
     "timestamp": 1702244845656,
     "user": {
      "displayName": "Mohsin Raza",
      "userId": "02069157311777040551"
     },
     "user_tz": -300
    },
    "id": "QGsdW5fmnQsM",
    "outputId": "636bf7c8-4899-4ee3-8a6f-1265a9826d58"
   },
   "outputs": [
    {
     "data": {
      "text/plain": [
       "4"
      ]
     },
     "execution_count": 7,
     "metadata": {},
     "output_type": "execute_result"
    }
   ],
   "source": [
    "#size\n",
    "info_series.size"
   ]
  },
  {
   "cell_type": "code",
   "execution_count": null,
   "metadata": {
    "colab": {
     "base_uri": "https://localhost:8080/"
    },
    "executionInfo": {
     "elapsed": 8,
     "status": "ok",
     "timestamp": 1702244845656,
     "user": {
      "displayName": "Mohsin Raza",
      "userId": "02069157311777040551"
     },
     "user_tz": -300
    },
    "id": "Xv24hnSXoQFz",
    "outputId": "d3d7b9a5-1562-4284-f4f6-352afe48694c"
   },
   "outputs": [
    {
     "data": {
      "text/plain": [
       "dtype('int64')"
      ]
     },
     "execution_count": 8,
     "metadata": {},
     "output_type": "execute_result"
    }
   ],
   "source": [
    "# dtype\n",
    "info_series.dtype"
   ]
  },
  {
   "cell_type": "code",
   "execution_count": null,
   "metadata": {
    "colab": {
     "base_uri": "https://localhost:8080/",
     "height": 35
    },
    "executionInfo": {
     "elapsed": 609,
     "status": "ok",
     "timestamp": 1702244846260,
     "user": {
      "displayName": "Mohsin Raza",
      "userId": "02069157311777040551"
     },
     "user_tz": -300
    },
    "id": "aU2M3uY6oX1K",
    "outputId": "65ea3af1-2367-49b9-9bdb-6994fc503847"
   },
   "outputs": [
    {
     "data": {
      "application/vnd.google.colaboratory.intrinsic+json": {
       "type": "string"
      },
      "text/plain": [
       "'Marks of Mohsin'"
      ]
     },
     "execution_count": 9,
     "metadata": {},
     "output_type": "execute_result"
    }
   ],
   "source": [
    "# name\n",
    "info_series.name"
   ]
  },
  {
   "cell_type": "code",
   "execution_count": null,
   "metadata": {
    "colab": {
     "base_uri": "https://localhost:8080/"
    },
    "executionInfo": {
     "elapsed": 38,
     "status": "ok",
     "timestamp": 1702244846260,
     "user": {
      "displayName": "Mohsin Raza",
      "userId": "02069157311777040551"
     },
     "user_tz": -300
    },
    "id": "T3H9wg9Mocz4",
    "outputId": "5bb6756f-aabb-414d-cdd4-539ec072e67b"
   },
   "outputs": [
    {
     "data": {
      "text/plain": [
       "True"
      ]
     },
     "execution_count": 10,
     "metadata": {},
     "output_type": "execute_result"
    }
   ],
   "source": [
    "# is_unique\n",
    "info_series.is_unique"
   ]
  },
  {
   "cell_type": "code",
   "execution_count": null,
   "metadata": {
    "colab": {
     "base_uri": "https://localhost:8080/"
    },
    "executionInfo": {
     "elapsed": 36,
     "status": "ok",
     "timestamp": 1702244846261,
     "user": {
      "displayName": "Mohsin Raza",
      "userId": "02069157311777040551"
     },
     "user_tz": -300
    },
    "id": "GsKFxNgDooKx",
    "outputId": "0acf0cfc-4d45-40d2-a44e-f813e8224686"
   },
   "outputs": [
    {
     "data": {
      "text/plain": [
       "Index(['Seience', 'Eng', 'urdu', 'Maths'], dtype='object')"
      ]
     },
     "execution_count": 11,
     "metadata": {},
     "output_type": "execute_result"
    }
   ],
   "source": [
    "# Index\n",
    "info_series.index"
   ]
  },
  {
   "cell_type": "code",
   "execution_count": null,
   "metadata": {
    "colab": {
     "base_uri": "https://localhost:8080/"
    },
    "executionInfo": {
     "elapsed": 35,
     "status": "ok",
     "timestamp": 1702244846262,
     "user": {
      "displayName": "Mohsin Raza",
      "userId": "02069157311777040551"
     },
     "user_tz": -300
    },
    "id": "_V1ioX-GovNO",
    "outputId": "0c34dcda-405f-48a1-8852-b3231c612114"
   },
   "outputs": [
    {
     "data": {
      "text/plain": [
       "array([ 67,  57,  89, 100])"
      ]
     },
     "execution_count": 12,
     "metadata": {},
     "output_type": "execute_result"
    }
   ],
   "source": [
    "# values\n",
    "info_series.values"
   ]
  },
  {
   "cell_type": "markdown",
   "metadata": {
    "id": "Jy1o0ucrpdte"
   },
   "source": [
    "**Series Using read_csv**"
   ]
  },
  {
   "cell_type": "code",
   "execution_count": null,
   "metadata": {
    "id": "IKJxPE5mo61b"
   },
   "outputs": [],
   "source": [
    "# csv is a comma seperated values"
   ]
  },
  {
   "cell_type": "code",
   "execution_count": null,
   "metadata": {
    "colab": {
     "base_uri": "https://localhost:8080/",
     "height": 423
    },
    "executionInfo": {
     "elapsed": 31,
     "status": "ok",
     "timestamp": 1702244846262,
     "user": {
      "displayName": "Mohsin Raza",
      "userId": "02069157311777040551"
     },
     "user_tz": -300
    },
    "id": "DmJBX5XkgPqn",
    "outputId": "895ea1f8-f0d7-4e1c-c20d-179bafa0499c"
   },
   "outputs": [
    {
     "data": {
      "text/html": [
       "\n",
       "  <div id=\"df-94c5bf3e-f13b-44ec-b214-4522f6531e8a\" class=\"colab-df-container\">\n",
       "    <div>\n",
       "<style scoped>\n",
       "    .dataframe tbody tr th:only-of-type {\n",
       "        vertical-align: middle;\n",
       "    }\n",
       "\n",
       "    .dataframe tbody tr th {\n",
       "        vertical-align: top;\n",
       "    }\n",
       "\n",
       "    .dataframe thead th {\n",
       "        text-align: right;\n",
       "    }\n",
       "</style>\n",
       "<table border=\"1\" class=\"dataframe\">\n",
       "  <thead>\n",
       "    <tr style=\"text-align: right;\">\n",
       "      <th></th>\n",
       "      <th>Subscribers gained</th>\n",
       "    </tr>\n",
       "  </thead>\n",
       "  <tbody>\n",
       "    <tr>\n",
       "      <th>0</th>\n",
       "      <td>48</td>\n",
       "    </tr>\n",
       "    <tr>\n",
       "      <th>1</th>\n",
       "      <td>57</td>\n",
       "    </tr>\n",
       "    <tr>\n",
       "      <th>2</th>\n",
       "      <td>40</td>\n",
       "    </tr>\n",
       "    <tr>\n",
       "      <th>3</th>\n",
       "      <td>43</td>\n",
       "    </tr>\n",
       "    <tr>\n",
       "      <th>4</th>\n",
       "      <td>44</td>\n",
       "    </tr>\n",
       "    <tr>\n",
       "      <th>...</th>\n",
       "      <td>...</td>\n",
       "    </tr>\n",
       "    <tr>\n",
       "      <th>360</th>\n",
       "      <td>231</td>\n",
       "    </tr>\n",
       "    <tr>\n",
       "      <th>361</th>\n",
       "      <td>226</td>\n",
       "    </tr>\n",
       "    <tr>\n",
       "      <th>362</th>\n",
       "      <td>155</td>\n",
       "    </tr>\n",
       "    <tr>\n",
       "      <th>363</th>\n",
       "      <td>144</td>\n",
       "    </tr>\n",
       "    <tr>\n",
       "      <th>364</th>\n",
       "      <td>172</td>\n",
       "    </tr>\n",
       "  </tbody>\n",
       "</table>\n",
       "<p>365 rows × 1 columns</p>\n",
       "</div>\n",
       "    <div class=\"colab-df-buttons\">\n",
       "\n",
       "  <div class=\"colab-df-container\">\n",
       "    <button class=\"colab-df-convert\" onclick=\"convertToInteractive('df-94c5bf3e-f13b-44ec-b214-4522f6531e8a')\"\n",
       "            title=\"Convert this dataframe to an interactive table.\"\n",
       "            style=\"display:none;\">\n",
       "\n",
       "  <svg xmlns=\"http://www.w3.org/2000/svg\" height=\"24px\" viewBox=\"0 -960 960 960\">\n",
       "    <path d=\"M120-120v-720h720v720H120Zm60-500h600v-160H180v160Zm220 220h160v-160H400v160Zm0 220h160v-160H400v160ZM180-400h160v-160H180v160Zm440 0h160v-160H620v160ZM180-180h160v-160H180v160Zm440 0h160v-160H620v160Z\"/>\n",
       "  </svg>\n",
       "    </button>\n",
       "\n",
       "  <style>\n",
       "    .colab-df-container {\n",
       "      display:flex;\n",
       "      gap: 12px;\n",
       "    }\n",
       "\n",
       "    .colab-df-convert {\n",
       "      background-color: #E8F0FE;\n",
       "      border: none;\n",
       "      border-radius: 50%;\n",
       "      cursor: pointer;\n",
       "      display: none;\n",
       "      fill: #1967D2;\n",
       "      height: 32px;\n",
       "      padding: 0 0 0 0;\n",
       "      width: 32px;\n",
       "    }\n",
       "\n",
       "    .colab-df-convert:hover {\n",
       "      background-color: #E2EBFA;\n",
       "      box-shadow: 0px 1px 2px rgba(60, 64, 67, 0.3), 0px 1px 3px 1px rgba(60, 64, 67, 0.15);\n",
       "      fill: #174EA6;\n",
       "    }\n",
       "\n",
       "    .colab-df-buttons div {\n",
       "      margin-bottom: 4px;\n",
       "    }\n",
       "\n",
       "    [theme=dark] .colab-df-convert {\n",
       "      background-color: #3B4455;\n",
       "      fill: #D2E3FC;\n",
       "    }\n",
       "\n",
       "    [theme=dark] .colab-df-convert:hover {\n",
       "      background-color: #434B5C;\n",
       "      box-shadow: 0px 1px 3px 1px rgba(0, 0, 0, 0.15);\n",
       "      filter: drop-shadow(0px 1px 2px rgba(0, 0, 0, 0.3));\n",
       "      fill: #FFFFFF;\n",
       "    }\n",
       "  </style>\n",
       "\n",
       "    <script>\n",
       "      const buttonEl =\n",
       "        document.querySelector('#df-94c5bf3e-f13b-44ec-b214-4522f6531e8a button.colab-df-convert');\n",
       "      buttonEl.style.display =\n",
       "        google.colab.kernel.accessAllowed ? 'block' : 'none';\n",
       "\n",
       "      async function convertToInteractive(key) {\n",
       "        const element = document.querySelector('#df-94c5bf3e-f13b-44ec-b214-4522f6531e8a');\n",
       "        const dataTable =\n",
       "          await google.colab.kernel.invokeFunction('convertToInteractive',\n",
       "                                                    [key], {});\n",
       "        if (!dataTable) return;\n",
       "\n",
       "        const docLinkHtml = 'Like what you see? Visit the ' +\n",
       "          '<a target=\"_blank\" href=https://colab.research.google.com/notebooks/data_table.ipynb>data table notebook</a>'\n",
       "          + ' to learn more about interactive tables.';\n",
       "        element.innerHTML = '';\n",
       "        dataTable['output_type'] = 'display_data';\n",
       "        await google.colab.output.renderOutput(dataTable, element);\n",
       "        const docLink = document.createElement('div');\n",
       "        docLink.innerHTML = docLinkHtml;\n",
       "        element.appendChild(docLink);\n",
       "      }\n",
       "    </script>\n",
       "  </div>\n",
       "\n",
       "\n",
       "<div id=\"df-7e0eeeae-ad56-4a97-a701-51486e3abcb3\">\n",
       "  <button class=\"colab-df-quickchart\" onclick=\"quickchart('df-7e0eeeae-ad56-4a97-a701-51486e3abcb3')\"\n",
       "            title=\"Suggest charts\"\n",
       "            style=\"display:none;\">\n",
       "\n",
       "<svg xmlns=\"http://www.w3.org/2000/svg\" height=\"24px\"viewBox=\"0 0 24 24\"\n",
       "     width=\"24px\">\n",
       "    <g>\n",
       "        <path d=\"M19 3H5c-1.1 0-2 .9-2 2v14c0 1.1.9 2 2 2h14c1.1 0 2-.9 2-2V5c0-1.1-.9-2-2-2zM9 17H7v-7h2v7zm4 0h-2V7h2v10zm4 0h-2v-4h2v4z\"/>\n",
       "    </g>\n",
       "</svg>\n",
       "  </button>\n",
       "\n",
       "<style>\n",
       "  .colab-df-quickchart {\n",
       "      --bg-color: #E8F0FE;\n",
       "      --fill-color: #1967D2;\n",
       "      --hover-bg-color: #E2EBFA;\n",
       "      --hover-fill-color: #174EA6;\n",
       "      --disabled-fill-color: #AAA;\n",
       "      --disabled-bg-color: #DDD;\n",
       "  }\n",
       "\n",
       "  [theme=dark] .colab-df-quickchart {\n",
       "      --bg-color: #3B4455;\n",
       "      --fill-color: #D2E3FC;\n",
       "      --hover-bg-color: #434B5C;\n",
       "      --hover-fill-color: #FFFFFF;\n",
       "      --disabled-bg-color: #3B4455;\n",
       "      --disabled-fill-color: #666;\n",
       "  }\n",
       "\n",
       "  .colab-df-quickchart {\n",
       "    background-color: var(--bg-color);\n",
       "    border: none;\n",
       "    border-radius: 50%;\n",
       "    cursor: pointer;\n",
       "    display: none;\n",
       "    fill: var(--fill-color);\n",
       "    height: 32px;\n",
       "    padding: 0;\n",
       "    width: 32px;\n",
       "  }\n",
       "\n",
       "  .colab-df-quickchart:hover {\n",
       "    background-color: var(--hover-bg-color);\n",
       "    box-shadow: 0 1px 2px rgba(60, 64, 67, 0.3), 0 1px 3px 1px rgba(60, 64, 67, 0.15);\n",
       "    fill: var(--button-hover-fill-color);\n",
       "  }\n",
       "\n",
       "  .colab-df-quickchart-complete:disabled,\n",
       "  .colab-df-quickchart-complete:disabled:hover {\n",
       "    background-color: var(--disabled-bg-color);\n",
       "    fill: var(--disabled-fill-color);\n",
       "    box-shadow: none;\n",
       "  }\n",
       "\n",
       "  .colab-df-spinner {\n",
       "    border: 2px solid var(--fill-color);\n",
       "    border-color: transparent;\n",
       "    border-bottom-color: var(--fill-color);\n",
       "    animation:\n",
       "      spin 1s steps(1) infinite;\n",
       "  }\n",
       "\n",
       "  @keyframes spin {\n",
       "    0% {\n",
       "      border-color: transparent;\n",
       "      border-bottom-color: var(--fill-color);\n",
       "      border-left-color: var(--fill-color);\n",
       "    }\n",
       "    20% {\n",
       "      border-color: transparent;\n",
       "      border-left-color: var(--fill-color);\n",
       "      border-top-color: var(--fill-color);\n",
       "    }\n",
       "    30% {\n",
       "      border-color: transparent;\n",
       "      border-left-color: var(--fill-color);\n",
       "      border-top-color: var(--fill-color);\n",
       "      border-right-color: var(--fill-color);\n",
       "    }\n",
       "    40% {\n",
       "      border-color: transparent;\n",
       "      border-right-color: var(--fill-color);\n",
       "      border-top-color: var(--fill-color);\n",
       "    }\n",
       "    60% {\n",
       "      border-color: transparent;\n",
       "      border-right-color: var(--fill-color);\n",
       "    }\n",
       "    80% {\n",
       "      border-color: transparent;\n",
       "      border-right-color: var(--fill-color);\n",
       "      border-bottom-color: var(--fill-color);\n",
       "    }\n",
       "    90% {\n",
       "      border-color: transparent;\n",
       "      border-bottom-color: var(--fill-color);\n",
       "    }\n",
       "  }\n",
       "</style>\n",
       "\n",
       "  <script>\n",
       "    async function quickchart(key) {\n",
       "      const quickchartButtonEl =\n",
       "        document.querySelector('#' + key + ' button');\n",
       "      quickchartButtonEl.disabled = true;  // To prevent multiple clicks.\n",
       "      quickchartButtonEl.classList.add('colab-df-spinner');\n",
       "      try {\n",
       "        const charts = await google.colab.kernel.invokeFunction(\n",
       "            'suggestCharts', [key], {});\n",
       "      } catch (error) {\n",
       "        console.error('Error during call to suggestCharts:', error);\n",
       "      }\n",
       "      quickchartButtonEl.classList.remove('colab-df-spinner');\n",
       "      quickchartButtonEl.classList.add('colab-df-quickchart-complete');\n",
       "    }\n",
       "    (() => {\n",
       "      let quickchartButtonEl =\n",
       "        document.querySelector('#df-7e0eeeae-ad56-4a97-a701-51486e3abcb3 button');\n",
       "      quickchartButtonEl.style.display =\n",
       "        google.colab.kernel.accessAllowed ? 'block' : 'none';\n",
       "    })();\n",
       "  </script>\n",
       "</div>\n",
       "    </div>\n",
       "  </div>\n"
      ],
      "text/plain": [
       "     Subscribers gained\n",
       "0                    48\n",
       "1                    57\n",
       "2                    40\n",
       "3                    43\n",
       "4                    44\n",
       "..                  ...\n",
       "360                 231\n",
       "361                 226\n",
       "362                 155\n",
       "363                 144\n",
       "364                 172\n",
       "\n",
       "[365 rows x 1 columns]"
      ]
     },
     "execution_count": 14,
     "metadata": {},
     "output_type": "execute_result"
    }
   ],
   "source": [
    "pd.read_csv('/content/subs.csv')"
   ]
  },
  {
   "cell_type": "code",
   "execution_count": null,
   "metadata": {
    "colab": {
     "base_uri": "https://localhost:8080/"
    },
    "executionInfo": {
     "elapsed": 30,
     "status": "ok",
     "timestamp": 1702244846262,
     "user": {
      "displayName": "Mohsin Raza",
      "userId": "02069157311777040551"
     },
     "user_tz": -300
    },
    "id": "gCljrGDdgb7r",
    "outputId": "1151d519-f835-43f4-f0ed-fcb9a38c9cf9"
   },
   "outputs": [
    {
     "data": {
      "text/plain": [
       "pandas.core.frame.DataFrame"
      ]
     },
     "execution_count": 15,
     "metadata": {},
     "output_type": "execute_result"
    }
   ],
   "source": [
    "# with one col\n",
    "type(pd.read_csv('/content/subs.csv'))"
   ]
  },
  {
   "cell_type": "markdown",
   "metadata": {
    "id": "3dfrL7oblIjD"
   },
   "source": [
    "**(squeeze = True) to convert frame data into series data**"
   ]
  },
  {
   "cell_type": "code",
   "execution_count": null,
   "metadata": {
    "colab": {
     "base_uri": "https://localhost:8080/"
    },
    "executionInfo": {
     "elapsed": 28,
     "status": "ok",
     "timestamp": 1702244846262,
     "user": {
      "displayName": "Mohsin Raza",
      "userId": "02069157311777040551"
     },
     "user_tz": -300
    },
    "id": "_aiVTgzrgqrL",
    "outputId": "6fb1e8de-f261-4975-fe6f-8a6190c993e9"
   },
   "outputs": [
    {
     "name": "stdout",
     "output_type": "stream",
     "text": [
      "0       48\n",
      "1       57\n",
      "2       40\n",
      "3       43\n",
      "4       44\n",
      "      ... \n",
      "360    231\n",
      "361    226\n",
      "362    155\n",
      "363    144\n",
      "364    172\n",
      "Name: Subscribers gained, Length: 365, dtype: int64\n"
     ]
    },
    {
     "name": "stderr",
     "output_type": "stream",
     "text": [
      "<ipython-input-16-2d74f1ce1079>:1: FutureWarning: The squeeze argument has been deprecated and will be removed in a future version. Append .squeeze(\"columns\") to the call to squeeze.\n",
      "\n",
      "\n",
      "  subs = pd.read_csv('/content/subs.csv', squeeze = True)\n"
     ]
    }
   ],
   "source": [
    "subs = pd.read_csv('/content/subs.csv', squeeze = True)\n",
    "print(subs)"
   ]
  },
  {
   "cell_type": "code",
   "execution_count": null,
   "metadata": {
    "colab": {
     "base_uri": "https://localhost:8080/"
    },
    "executionInfo": {
     "elapsed": 26,
     "status": "ok",
     "timestamp": 1702244846263,
     "user": {
      "displayName": "Mohsin Raza",
      "userId": "02069157311777040551"
     },
     "user_tz": -300
    },
    "id": "e9phxG8ciHjq",
    "outputId": "a707ba76-4c73-43b9-e8dc-2bba2d767132"
   },
   "outputs": [
    {
     "data": {
      "text/plain": [
       "pandas.core.series.Series"
      ]
     },
     "execution_count": 17,
     "metadata": {},
     "output_type": "execute_result"
    }
   ],
   "source": [
    "type(subs)"
   ]
  },
  {
   "cell_type": "code",
   "execution_count": null,
   "metadata": {
    "id": "jcdDK29PinQF"
   },
   "outputs": [],
   "source": []
  },
  {
   "cell_type": "code",
   "execution_count": null,
   "metadata": {
    "colab": {
     "base_uri": "https://localhost:8080/"
    },
    "executionInfo": {
     "elapsed": 25,
     "status": "ok",
     "timestamp": 1702244846265,
     "user": {
      "displayName": "Mohsin Raza",
      "userId": "02069157311777040551"
     },
     "user_tz": -300
    },
    "id": "ip9-xW9YjOE_",
    "outputId": "d09256c4-d22e-4c9e-e3ed-3d9221bf1a8c"
   },
   "outputs": [
    {
     "name": "stderr",
     "output_type": "stream",
     "text": [
      "<ipython-input-18-6fcfec7450b0>:2: FutureWarning: The squeeze argument has been deprecated and will be removed in a future version. Append .squeeze(\"columns\") to the call to squeeze.\n",
      "\n",
      "\n",
      "  vk = pd.read_csv('/content/kohli_ipl.csv',index_col= 'match_no',squeeze=True)\n"
     ]
    },
    {
     "data": {
      "text/plain": [
       "match_no\n",
       "1       1\n",
       "2      23\n",
       "3      13\n",
       "4      12\n",
       "5       1\n",
       "       ..\n",
       "211     0\n",
       "212    20\n",
       "213    73\n",
       "214    25\n",
       "215     7\n",
       "Name: runs, Length: 215, dtype: int64"
      ]
     },
     "execution_count": 18,
     "metadata": {},
     "output_type": "execute_result"
    }
   ],
   "source": [
    "# with 2 cols\n",
    "vk = pd.read_csv('/content/kohli_ipl.csv',index_col= 'match_no',squeeze=True)\n",
    "vk"
   ]
  },
  {
   "cell_type": "code",
   "execution_count": null,
   "metadata": {
    "colab": {
     "base_uri": "https://localhost:8080/"
    },
    "executionInfo": {
     "elapsed": 23,
     "status": "ok",
     "timestamp": 1702244846265,
     "user": {
      "displayName": "Mohsin Raza",
      "userId": "02069157311777040551"
     },
     "user_tz": -300
    },
    "id": "voIPdk6Bj9Oc",
    "outputId": "cfe61a50-fcb0-4fa3-9651-035753d17943"
   },
   "outputs": [
    {
     "name": "stderr",
     "output_type": "stream",
     "text": [
      "<ipython-input-19-27c5766633d2>:1: FutureWarning: The squeeze argument has been deprecated and will be removed in a future version. Append .squeeze(\"columns\") to the call to squeeze.\n",
      "\n",
      "\n",
      "  movies = pd.read_csv('/content/bollywood.csv',index_col='movie',squeeze=True)\n"
     ]
    },
    {
     "data": {
      "text/plain": [
       "movie\n",
       "Uri: The Surgical Strike                   Vicky Kaushal\n",
       "Battalion 609                                Vicky Ahuja\n",
       "The Accidental Prime Minister (film)         Anupam Kher\n",
       "Why Cheat India                            Emraan Hashmi\n",
       "Evening Shadows                         Mona Ambegaonkar\n",
       "                                              ...       \n",
       "Hum Tumhare Hain Sanam                    Shah Rukh Khan\n",
       "Aankhen (2002 film)                     Amitabh Bachchan\n",
       "Saathiya (film)                             Vivek Oberoi\n",
       "Company (film)                                Ajay Devgn\n",
       "Awara Paagal Deewana                        Akshay Kumar\n",
       "Name: lead, Length: 1500, dtype: object"
      ]
     },
     "execution_count": 19,
     "metadata": {},
     "output_type": "execute_result"
    }
   ],
   "source": [
    "movies = pd.read_csv('/content/bollywood.csv',index_col='movie',squeeze=True)\n",
    "movies"
   ]
  },
  {
   "cell_type": "markdown",
   "metadata": {
    "id": "Gry5ky7Zlmpr"
   },
   "source": [
    "**Series Methods**"
   ]
  },
  {
   "cell_type": "markdown",
   "metadata": {
    "id": "ehqHI2MOnX_q"
   },
   "source": [
    "1) *Head*"
   ]
  },
  {
   "cell_type": "code",
   "execution_count": null,
   "metadata": {
    "colab": {
     "base_uri": "https://localhost:8080/"
    },
    "executionInfo": {
     "elapsed": 23,
     "status": "ok",
     "timestamp": 1702244846268,
     "user": {
      "displayName": "Mohsin Raza",
      "userId": "02069157311777040551"
     },
     "user_tz": -300
    },
    "id": "yfpImQLkko5r",
    "outputId": "0c4c39b3-76dc-459b-d506-f1b57622be8a"
   },
   "outputs": [
    {
     "name": "stdout",
     "output_type": "stream",
     "text": [
      "0    48\n",
      "1    57\n",
      "2    40\n",
      "3    43\n",
      "4    44\n",
      "Name: Subscribers gained, dtype: int64 \n",
      "\n",
      "0    48\n",
      "1    57\n",
      "2    40\n",
      "Name: Subscribers gained, dtype: int64\n"
     ]
    }
   ],
   "source": [
    "print(subs.head(),'\\n') # by default top 5 rows\n",
    "print(subs.head(3))"
   ]
  },
  {
   "cell_type": "markdown",
   "metadata": {
    "id": "bDtS6qNrncL2"
   },
   "source": [
    "2) *Tail*"
   ]
  },
  {
   "cell_type": "code",
   "execution_count": null,
   "metadata": {
    "colab": {
     "base_uri": "https://localhost:8080/"
    },
    "executionInfo": {
     "elapsed": 458,
     "status": "ok",
     "timestamp": 1702244846706,
     "user": {
      "displayName": "Mohsin Raza",
      "userId": "02069157311777040551"
     },
     "user_tz": -300
    },
    "id": "TvvKe3jql-Iy",
    "outputId": "08c8f969-28a4-4b63-b7f9-90028b83d228"
   },
   "outputs": [
    {
     "name": "stdout",
     "output_type": "stream",
     "text": [
      "match_no\n",
      "211     0\n",
      "212    20\n",
      "213    73\n",
      "214    25\n",
      "215     7\n",
      "Name: runs, dtype: int64 \n",
      "\n",
      "match_no\n",
      "210    30\n",
      "211     0\n",
      "212    20\n",
      "213    73\n",
      "214    25\n",
      "215     7\n",
      "Name: runs, dtype: int64\n"
     ]
    }
   ],
   "source": [
    "print(vk.tail(),'\\n') # by default bottom 5 rows\n",
    "print(vk.tail(6))"
   ]
  },
  {
   "cell_type": "markdown",
   "metadata": {
    "id": "I_EtPhl6IntG"
   },
   "source": [
    "3) *value counts*"
   ]
  },
  {
   "cell_type": "code",
   "execution_count": null,
   "metadata": {
    "colab": {
     "base_uri": "https://localhost:8080/"
    },
    "executionInfo": {
     "elapsed": 66,
     "status": "ok",
     "timestamp": 1702244846707,
     "user": {
      "displayName": "Mohsin Raza",
      "userId": "02069157311777040551"
     },
     "user_tz": -300
    },
    "id": "GYOKk-wAn4iL",
    "outputId": "2554eac2-7925-4230-f8cb-54a7b723d4e3"
   },
   "outputs": [
    {
     "name": "stdout",
     "output_type": "stream",
     "text": [
      "movie\n",
      "Uri: The Surgical Strike                   Vicky Kaushal\n",
      "Battalion 609                                Vicky Ahuja\n",
      "The Accidental Prime Minister (film)         Anupam Kher\n",
      "Why Cheat India                            Emraan Hashmi\n",
      "Evening Shadows                         Mona Ambegaonkar\n",
      "                                              ...       \n",
      "Hum Tumhare Hain Sanam                    Shah Rukh Khan\n",
      "Aankhen (2002 film)                     Amitabh Bachchan\n",
      "Saathiya (film)                             Vivek Oberoi\n",
      "Company (film)                                Ajay Devgn\n",
      "Awara Paagal Deewana                        Akshay Kumar\n",
      "Name: lead, Length: 1500, dtype: object \n",
      "\n",
      "Akshay Kumar        48\n",
      "Amitabh Bachchan    45\n",
      "Ajay Devgn          38\n",
      "Salman Khan         31\n",
      "Sanjay Dutt         26\n",
      "                    ..\n",
      "Diganth              1\n",
      "Parveen Kaur         1\n",
      "Seema Azmi           1\n",
      "Akanksha Puri        1\n",
      "Edwin Fernandes      1\n",
      "Name: lead, Length: 566, dtype: int64\n"
     ]
    }
   ],
   "source": [
    "print(movies,'\\n')\n",
    "print(movies.value_counts())"
   ]
  },
  {
   "cell_type": "markdown",
   "metadata": {
    "id": "rGHMSdV7JJGx"
   },
   "source": [
    "4) *sort_values -> inplace*"
   ]
  },
  {
   "cell_type": "code",
   "execution_count": null,
   "metadata": {
    "colab": {
     "base_uri": "https://localhost:8080/"
    },
    "executionInfo": {
     "elapsed": 63,
     "status": "ok",
     "timestamp": 1702244846707,
     "user": {
      "displayName": "Mohsin Raza",
      "userId": "02069157311777040551"
     },
     "user_tz": -300
    },
    "id": "unGjH0iyItp7",
    "outputId": "ad979bd9-cd77-4a0f-b39e-3c89ac8eb07b"
   },
   "outputs": [
    {
     "data": {
      "text/plain": [
       "match_no\n",
       "87       0\n",
       "211      0\n",
       "207      0\n",
       "206      0\n",
       "91       0\n",
       "      ... \n",
       "164    100\n",
       "120    100\n",
       "123    108\n",
       "126    109\n",
       "128    113\n",
       "Name: runs, Length: 215, dtype: int64"
      ]
     },
     "execution_count": 23,
     "metadata": {},
     "output_type": "execute_result"
    }
   ],
   "source": [
    "vk.sort_values() # ascending"
   ]
  },
  {
   "cell_type": "code",
   "execution_count": null,
   "metadata": {
    "colab": {
     "base_uri": "https://localhost:8080/"
    },
    "executionInfo": {
     "elapsed": 62,
     "status": "ok",
     "timestamp": 1702244846709,
     "user": {
      "displayName": "Mohsin Raza",
      "userId": "02069157311777040551"
     },
     "user_tz": -300
    },
    "id": "gN-gzCzgJV4H",
    "outputId": "94394c9e-edfd-469e-f456-72468f8c3b73"
   },
   "outputs": [
    {
     "name": "stdout",
     "output_type": "stream",
     "text": [
      "match_no\n",
      "128    113\n",
      "126    109\n",
      "123    108\n",
      "164    100\n",
      "120    100\n",
      "      ... \n",
      "93       0\n",
      "211      0\n",
      "130      0\n",
      "8        0\n",
      "135      0\n",
      "Name: runs, Length: 215, dtype: int64 \n",
      "\n",
      "match_no\n",
      "128    113\n",
      "Name: runs, dtype: int64 \n",
      "\n",
      "[113] \n",
      "\n",
      "113 \n",
      "\n"
     ]
    }
   ],
   "source": [
    "print(vk.sort_values(ascending=False),'\\n') # decending\n",
    "print(vk.sort_values(ascending=False).head(1),'\\n')\n",
    "print(vk.sort_values(ascending=False).head(1).values,'\\n')\n",
    "print(vk.sort_values(ascending=False).head(1).values[0],'\\n') # output of first method becomes input for next method called method chaining"
   ]
  },
  {
   "cell_type": "code",
   "execution_count": null,
   "metadata": {
    "id": "Y2ErhFAgLTLL"
   },
   "outputs": [],
   "source": [
    "# vk.sort_values(inplace=True) sort the vk dataset permenently"
   ]
  },
  {
   "cell_type": "markdown",
   "metadata": {
    "id": "ZpLOQ9WIJxrv"
   },
   "source": [
    "5) sort_index -> inplace"
   ]
  },
  {
   "cell_type": "code",
   "execution_count": null,
   "metadata": {
    "colab": {
     "base_uri": "https://localhost:8080/"
    },
    "executionInfo": {
     "elapsed": 60,
     "status": "ok",
     "timestamp": 1702244846710,
     "user": {
      "displayName": "Mohsin Raza",
      "userId": "02069157311777040551"
     },
     "user_tz": -300
    },
    "id": "Tr33dZOqJh5l",
    "outputId": "e3a18c49-24d2-4f14-e913-922c975e3a1c"
   },
   "outputs": [
    {
     "data": {
      "text/plain": [
       "movie\n",
       "1920 (film)                   Rajniesh Duggall\n",
       "1920: London                     Sharman Joshi\n",
       "1920: The Evil Returns             Vicky Ahuja\n",
       "1971 (2007 film)                Manoj Bajpayee\n",
       "2 States (2014 film)              Arjun Kapoor\n",
       "                                   ...        \n",
       "Zindagi 50-50                      Veena Malik\n",
       "Zindagi Na Milegi Dobara        Hrithik Roshan\n",
       "Zindagi Tere Naam           Mithun Chakraborty\n",
       "Zokkomon                       Darsheel Safary\n",
       "Zor Lagaa Ke...Haiya!            Meghan Jadhav\n",
       "Name: lead, Length: 1500, dtype: object"
      ]
     },
     "execution_count": 26,
     "metadata": {},
     "output_type": "execute_result"
    }
   ],
   "source": [
    "movies.sort_index() # sort index digits than alphabatically"
   ]
  },
  {
   "cell_type": "markdown",
   "metadata": {
    "id": "jbYokxK7MXCh"
   },
   "source": [
    "**Series Mathematical Methods**"
   ]
  },
  {
   "cell_type": "markdown",
   "metadata": {
    "id": "VaxkLzd1MhzW"
   },
   "source": [
    "1) *count*"
   ]
  },
  {
   "cell_type": "code",
   "execution_count": null,
   "metadata": {
    "colab": {
     "base_uri": "https://localhost:8080/"
    },
    "executionInfo": {
     "elapsed": 57,
     "status": "ok",
     "timestamp": 1702244846710,
     "user": {
      "displayName": "Mohsin Raza",
      "userId": "02069157311777040551"
     },
     "user_tz": -300
    },
    "id": "z_sq6BVHM1Q2",
    "outputId": "d3ba359c-4f26-4a43-b695-07ae4cd2d979"
   },
   "outputs": [
    {
     "data": {
      "text/plain": [
       "215"
      ]
     },
     "execution_count": 27,
     "metadata": {},
     "output_type": "execute_result"
    }
   ],
   "source": [
    "vk.count() # Missing value not included"
   ]
  },
  {
   "cell_type": "markdown",
   "metadata": {
    "id": "GrtpcJPzModm"
   },
   "source": [
    "2) *sum - > product*"
   ]
  },
  {
   "cell_type": "code",
   "execution_count": null,
   "metadata": {
    "colab": {
     "base_uri": "https://localhost:8080/"
    },
    "executionInfo": {
     "elapsed": 54,
     "status": "ok",
     "timestamp": 1702244846710,
     "user": {
      "displayName": "Mohsin Raza",
      "userId": "02069157311777040551"
     },
     "user_tz": -300
    },
    "id": "jSyjgUN-NJDh",
    "outputId": "ceed80ac-6dc7-4b02-e912-e576df66b831"
   },
   "outputs": [
    {
     "data": {
      "text/plain": [
       "49510"
      ]
     },
     "execution_count": 28,
     "metadata": {},
     "output_type": "execute_result"
    }
   ],
   "source": [
    "subs.sum()"
   ]
  },
  {
   "cell_type": "markdown",
   "metadata": {
    "id": "TSwMCakxMxPo"
   },
   "source": [
    "3) *mean , median , mode , std , var *"
   ]
  },
  {
   "cell_type": "code",
   "execution_count": null,
   "metadata": {
    "colab": {
     "base_uri": "https://localhost:8080/"
    },
    "executionInfo": {
     "elapsed": 53,
     "status": "ok",
     "timestamp": 1702244846711,
     "user": {
      "displayName": "Mohsin Raza",
      "userId": "02069157311777040551"
     },
     "user_tz": -300
    },
    "id": "iVtg6tBuNXAU",
    "outputId": "9710ea63-e7d1-4876-ef43-c69bea1810df"
   },
   "outputs": [
    {
     "name": "stdout",
     "output_type": "stream",
     "text": [
      "135.64383561643837 \n",
      "\n",
      "24.0 \n",
      "\n",
      "0    Akshay Kumar\n",
      "Name: lead, dtype: object \n",
      "\n",
      "62.6750230372527 \n",
      "\n",
      "688.0024777222343 \n",
      "\n"
     ]
    }
   ],
   "source": [
    "print(subs.mean(),'\\n')\n",
    "print(vk.median(),'\\n')\n",
    "print(movies.mode(),'\\n')\n",
    "print(subs.std(),'\\n')\n",
    "print(vk.var(),'\\n')"
   ]
  },
  {
   "cell_type": "markdown",
   "metadata": {
    "id": "my9-RVAeMw-j"
   },
   "source": [
    "4) *min , max*"
   ]
  },
  {
   "cell_type": "code",
   "execution_count": null,
   "metadata": {
    "colab": {
     "base_uri": "https://localhost:8080/"
    },
    "executionInfo": {
     "elapsed": 49,
     "status": "ok",
     "timestamp": 1702244846711,
     "user": {
      "displayName": "Mohsin Raza",
      "userId": "02069157311777040551"
     },
     "user_tz": -300
    },
    "id": "t30HdFGEMPg9",
    "outputId": "6de42d34-4e74-4444-a654-19db753b6142"
   },
   "outputs": [
    {
     "name": "stdout",
     "output_type": "stream",
     "text": [
      "33 \n",
      "\n",
      "396 \n",
      "\n"
     ]
    }
   ],
   "source": [
    "print(subs.min(),'\\n')\n",
    "print(subs.max(),'\\n')"
   ]
  },
  {
   "cell_type": "markdown",
   "metadata": {
    "id": "4L6XCk-dOxB_"
   },
   "source": [
    "5) *describe*"
   ]
  },
  {
   "cell_type": "code",
   "execution_count": null,
   "metadata": {
    "colab": {
     "base_uri": "https://localhost:8080/"
    },
    "executionInfo": {
     "elapsed": 46,
     "status": "ok",
     "timestamp": 1702244846712,
     "user": {
      "displayName": "Mohsin Raza",
      "userId": "02069157311777040551"
     },
     "user_tz": -300
    },
    "id": "sSulCOJZOrrl",
    "outputId": "a095426d-3708-4c33-9a4f-887e9ababc80"
   },
   "outputs": [
    {
     "name": "stdout",
     "output_type": "stream",
     "text": [
      "count    365.000000\n",
      "mean     135.643836\n",
      "std       62.675023\n",
      "min       33.000000\n",
      "25%       88.000000\n",
      "50%      123.000000\n",
      "75%      177.000000\n",
      "max      396.000000\n",
      "Name: Subscribers gained, dtype: float64 \n",
      "\n"
     ]
    },
    {
     "data": {
      "text/plain": [
       "count    215.000000\n",
       "mean      30.855814\n",
       "std       26.229801\n",
       "min        0.000000\n",
       "25%        9.000000\n",
       "50%       24.000000\n",
       "75%       48.000000\n",
       "max      113.000000\n",
       "Name: runs, dtype: float64"
      ]
     },
     "execution_count": 31,
     "metadata": {},
     "output_type": "execute_result"
    }
   ],
   "source": [
    "print(subs.describe(),'\\n')\n",
    "vk.describe()"
   ]
  },
  {
   "cell_type": "markdown",
   "metadata": {
    "id": "nhyu0xPPPqnS"
   },
   "source": [
    "**Series Indexing**"
   ]
  },
  {
   "cell_type": "code",
   "execution_count": null,
   "metadata": {
    "id": "MFjeyX_dO5sd"
   },
   "outputs": [],
   "source": [
    "# integer indexing"
   ]
  },
  {
   "cell_type": "code",
   "execution_count": null,
   "metadata": {
    "id": "9fo2G6cIRJ-3"
   },
   "outputs": [],
   "source": [
    "# negative indexing"
   ]
  },
  {
   "cell_type": "code",
   "execution_count": null,
   "metadata": {
    "colab": {
     "base_uri": "https://localhost:8080/"
    },
    "executionInfo": {
     "elapsed": 41,
     "status": "ok",
     "timestamp": 1702244846713,
     "user": {
      "displayName": "Mohsin Raza",
      "userId": "02069157311777040551"
     },
     "user_tz": -300
    },
    "id": "tg3OOvGxROTU",
    "outputId": "c1daf74d-a28f-4078-fc3f-a3e42bcff1d0"
   },
   "outputs": [
    {
     "data": {
      "text/plain": [
       "match_no\n",
       "6      9\n",
       "7     34\n",
       "8      0\n",
       "9     21\n",
       "10     3\n",
       "Name: runs, dtype: int64"
      ]
     },
     "execution_count": 34,
     "metadata": {},
     "output_type": "execute_result"
    }
   ],
   "source": [
    "# slicing\n",
    "vk[5:10]"
   ]
  },
  {
   "cell_type": "code",
   "execution_count": null,
   "metadata": {
    "colab": {
     "base_uri": "https://localhost:8080/"
    },
    "executionInfo": {
     "elapsed": 37,
     "status": "ok",
     "timestamp": 1702244846713,
     "user": {
      "displayName": "Mohsin Raza",
      "userId": "02069157311777040551"
     },
     "user_tz": -300
    },
    "id": "daH1j3-2RW_d",
    "outputId": "a172e899-0e10-4c62-c4a8-57a41ccf651f"
   },
   "outputs": [
    {
     "name": "stdout",
     "output_type": "stream",
     "text": [
      "match_no\n",
      "211     0\n",
      "212    20\n",
      "213    73\n",
      "214    25\n",
      "215     7\n",
      "Name: runs, dtype: int64 \n",
      "\n",
      "movie\n",
      "Uri: The Surgical Strike                   Vicky Kaushal\n",
      "The Accidental Prime Minister (film)         Anupam Kher\n",
      "Evening Shadows                         Mona Ambegaonkar\n",
      "Fraud Saiyaan                               Arshad Warsi\n",
      "Manikarnika: The Queen of Jhansi          Kangana Ranaut\n",
      "                                              ...       \n",
      "Raaz (2002 film)                              Dino Morea\n",
      "Waisa Bhi Hota Hai Part II                  Arshad Warsi\n",
      "Kaante                                  Amitabh Bachchan\n",
      "Aankhen (2002 film)                     Amitabh Bachchan\n",
      "Company (film)                                Ajay Devgn\n",
      "Name: lead, Length: 750, dtype: object\n"
     ]
    }
   ],
   "source": [
    "print(vk[-5:],'\\n') # negative slicing\n",
    "print(movies[::2])"
   ]
  },
  {
   "cell_type": "code",
   "execution_count": null,
   "metadata": {
    "colab": {
     "base_uri": "https://localhost:8080/"
    },
    "executionInfo": {
     "elapsed": 33,
     "status": "ok",
     "timestamp": 1702244846713,
     "user": {
      "displayName": "Mohsin Raza",
      "userId": "02069157311777040551"
     },
     "user_tz": -300
    },
    "id": "W5ctQj-xUZmY",
    "outputId": "77540b97-c2b0-4709-c2c1-6be702a3b3d9"
   },
   "outputs": [
    {
     "data": {
      "text/plain": [
       "match_no\n",
       "1     1\n",
       "3    13\n",
       "5     1\n",
       "6     9\n",
       "Name: runs, dtype: int64"
      ]
     },
     "execution_count": 36,
     "metadata": {},
     "output_type": "execute_result"
    }
   ],
   "source": [
    "# Fancy indexing\n",
    "vk[[1,3,5,6]]"
   ]
  },
  {
   "cell_type": "code",
   "execution_count": null,
   "metadata": {
    "colab": {
     "base_uri": "https://localhost:8080/",
     "height": 278
    },
    "executionInfo": {
     "elapsed": 29,
     "status": "ok",
     "timestamp": 1702244846713,
     "user": {
      "displayName": "Mohsin Raza",
      "userId": "02069157311777040551"
     },
     "user_tz": -300
    },
    "id": "7fVAqD1AUrOw",
    "outputId": "134fd132-1ee0-4efb-9433-745749940c63"
   },
   "outputs": [
    {
     "name": "stdout",
     "output_type": "stream",
     "text": [
      "movie\n",
      "Uri: The Surgical Strike                   Vicky Kaushal\n",
      "Battalion 609                                Vicky Ahuja\n",
      "The Accidental Prime Minister (film)         Anupam Kher\n",
      "Why Cheat India                            Emraan Hashmi\n",
      "Evening Shadows                         Mona Ambegaonkar\n",
      "                                              ...       \n",
      "Hum Tumhare Hain Sanam                    Shah Rukh Khan\n",
      "Aankhen (2002 film)                     Amitabh Bachchan\n",
      "Saathiya (film)                             Vivek Oberoi\n",
      "Company (film)                                Ajay Devgn\n",
      "Awara Paagal Deewana                        Akshay Kumar\n",
      "Name: lead, Length: 1500, dtype: object \n",
      "\n"
     ]
    },
    {
     "data": {
      "application/vnd.google.colaboratory.intrinsic+json": {
       "type": "string"
      },
      "text/plain": [
       "'Vicky Ahuja'"
      ]
     },
     "execution_count": 37,
     "metadata": {},
     "output_type": "execute_result"
    }
   ],
   "source": [
    "# indexing with labels - > fsncy indexing\n",
    "print(movies,'\\n')\n",
    "movies['Battalion 609']"
   ]
  },
  {
   "cell_type": "markdown",
   "metadata": {
    "id": "Eim_qJfCVWuu"
   },
   "source": [
    "**Editing Series**"
   ]
  },
  {
   "cell_type": "code",
   "execution_count": null,
   "metadata": {
    "colab": {
     "base_uri": "https://localhost:8080/"
    },
    "executionInfo": {
     "elapsed": 25,
     "status": "ok",
     "timestamp": 1702244846714,
     "user": {
      "displayName": "Mohsin Raza",
      "userId": "02069157311777040551"
     },
     "user_tz": -300
    },
    "id": "xEpIYVaSU6bB",
    "outputId": "ea9d94da-414a-45c8-efbf-9da2bd3f5186"
   },
   "outputs": [
    {
     "name": "stdout",
     "output_type": "stream",
     "text": [
      "Seience     67\n",
      "Eng         57\n",
      "urdu        89\n",
      "Maths      100\n",
      "Name: Marks of Mohsin, dtype: int64 \n",
      "\n",
      "Seience     67\n",
      "Eng         80\n",
      "urdu        89\n",
      "Maths      100\n",
      "Name: Marks of Mohsin, dtype: int64 \n",
      "\n"
     ]
    }
   ],
   "source": [
    "# using indexing\n",
    "print(marks_series,'\\n')\n",
    "marks_series[1] = 80\n",
    "print(marks_series,'\\n')"
   ]
  },
  {
   "cell_type": "code",
   "execution_count": null,
   "metadata": {
    "colab": {
     "base_uri": "https://localhost:8080/"
    },
    "executionInfo": {
     "elapsed": 21,
     "status": "ok",
     "timestamp": 1702244846714,
     "user": {
      "displayName": "Mohsin Raza",
      "userId": "02069157311777040551"
     },
     "user_tz": -300
    },
    "id": "pdPV1n4_WDnq",
    "outputId": "61625e68-5210-41e0-ffd9-cd937104fe4d"
   },
   "outputs": [
    {
     "data": {
      "text/plain": [
       "Seience     67\n",
       "Eng         80\n",
       "urdu        89\n",
       "Maths      100\n",
       "Pst         92\n",
       "Name: Marks of Mohsin, dtype: int64"
      ]
     },
     "execution_count": 39,
     "metadata": {},
     "output_type": "execute_result"
    }
   ],
   "source": [
    "# what if an index does not exist\n",
    "marks_series['Pst'] = 92\n",
    "marks_series\n",
    "# marks_series['biology'] if we read biology its gives error because biology is not exist in series"
   ]
  },
  {
   "cell_type": "code",
   "execution_count": null,
   "metadata": {
    "colab": {
     "base_uri": "https://localhost:8080/"
    },
    "executionInfo": {
     "elapsed": 644,
     "status": "ok",
     "timestamp": 1702244847341,
     "user": {
      "displayName": "Mohsin Raza",
      "userId": "02069157311777040551"
     },
     "user_tz": -300
    },
    "id": "s4-BpdgRXMmf",
    "outputId": "6a63b33b-ae14-4b45-e954-f124ab5830f1"
   },
   "outputs": [
    {
     "name": "stdout",
     "output_type": "stream",
     "text": [
      "0    23\n",
      "1    50\n",
      "2    65\n",
      "3    81\n",
      "4     3\n",
      "dtype: int64 \n",
      "\n",
      "0     23\n",
      "1     50\n",
      "2    100\n",
      "3    100\n",
      "4      3\n",
      "dtype: int64 \n",
      "\n"
     ]
    }
   ],
   "source": [
    "# Editing series with slicing\n",
    "print(runs_series,'\\n')\n",
    "runs_series[2:4] = 100\n",
    "print(runs_series,'\\n')"
   ]
  },
  {
   "cell_type": "code",
   "execution_count": null,
   "metadata": {
    "colab": {
     "base_uri": "https://localhost:8080/"
    },
    "executionInfo": {
     "elapsed": 92,
     "status": "ok",
     "timestamp": 1702244847342,
     "user": {
      "displayName": "Mohsin Raza",
      "userId": "02069157311777040551"
     },
     "user_tz": -300
    },
    "id": "nKV3xby9YNMY",
    "outputId": "dd4c0925-b6f8-4bde-adac-cf504ba3fbf7"
   },
   "outputs": [
    {
     "name": "stdout",
     "output_type": "stream",
     "text": [
      "0      0\n",
      "1     50\n",
      "2    100\n",
      "3      0\n",
      "4      0\n",
      "dtype: int64 \n",
      "\n"
     ]
    }
   ],
   "source": [
    "# Editing series with fancy indexing\n",
    "runs_series[[0,3,4]] = 0\n",
    "print(runs_series,'\\n')"
   ]
  },
  {
   "cell_type": "code",
   "execution_count": null,
   "metadata": {
    "colab": {
     "base_uri": "https://localhost:8080/"
    },
    "executionInfo": {
     "elapsed": 91,
     "status": "ok",
     "timestamp": 1702244847343,
     "user": {
      "displayName": "Mohsin Raza",
      "userId": "02069157311777040551"
     },
     "user_tz": -300
    },
    "id": "1c6xZy5yY8d7",
    "outputId": "c6bd80e7-526d-4f32-92b3-098539b610ff"
   },
   "outputs": [
    {
     "name": "stdout",
     "output_type": "stream",
     "text": [
      "movie\n",
      "Uri: The Surgical Strike                   Vicky Kaushal\n",
      "Battalion 609                                Vicky Ahuja\n",
      "The Accidental Prime Minister (film)         Anupam Kher\n",
      "Why Cheat India                            Emraan Hashmi\n",
      "Evening Shadows                         Mona Ambegaonkar\n",
      "                                              ...       \n",
      "Hum Tumhare Hain Sanam                    Shah Rukh Khan\n",
      "Aankhen (2002 film)                     Amitabh Bachchan\n",
      "Saathiya (film)                             Vivek Oberoi\n",
      "Company (film)                                Ajay Devgn\n",
      "Awara Paagal Deewana                        Akshay Kumar\n",
      "Name: lead, Length: 1500, dtype: object \n",
      "\n"
     ]
    },
    {
     "data": {
      "text/plain": [
       "movie\n",
       "Uri: The Surgical Strike                   Vicky Kaushal\n",
       "Battalion 609                                Vicky Ahuja\n",
       "The Accidental Prime Minister (film)         Anupam Kher\n",
       "Why Cheat India                            Emraan Hashmi\n",
       "Evening Shadows                         Mona Ambegaonkar\n",
       "                                              ...       \n",
       "Hum Tumhare Hain Sanam                         Alia Butt\n",
       "Aankhen (2002 film)                     Amitabh Bachchan\n",
       "Saathiya (film)                             Vivek Oberoi\n",
       "Company (film)                                Ajay Devgn\n",
       "Awara Paagal Deewana                        Akshay Kumar\n",
       "Name: lead, Length: 1500, dtype: object"
      ]
     },
     "execution_count": 42,
     "metadata": {},
     "output_type": "execute_result"
    }
   ],
   "source": [
    "# using index label\n",
    "print(movies,'\\n')\n",
    "movies['Hum Tumhare Hain Sanam'] = 'Alia Butt'\n",
    "movies"
   ]
  },
  {
   "cell_type": "markdown",
   "metadata": {
    "id": "iSeEODmUa1I-"
   },
   "source": [
    "**Series with Python Functionalities**"
   ]
  },
  {
   "cell_type": "code",
   "execution_count": null,
   "metadata": {
    "colab": {
     "base_uri": "https://localhost:8080/"
    },
    "executionInfo": {
     "elapsed": 88,
     "status": "ok",
     "timestamp": 1702244847343,
     "user": {
      "displayName": "Mohsin Raza",
      "userId": "02069157311777040551"
     },
     "user_tz": -300
    },
    "id": "Sz6mLvaXZmyt",
    "outputId": "f85aea10-1944-4c1d-9f78-e81c123ae742"
   },
   "outputs": [
    {
     "name": "stdout",
     "output_type": "stream",
     "text": [
      "365\n",
      "<class 'pandas.core.series.Series'>\n",
      "['T', '_AXIS_LEN', '_AXIS_ORDERS', '_AXIS_TO_AXIS_NUMBER', '_HANDLED_TYPES', '__abs__', '__add__', '__and__', '__annotations__', '__array__', '__array_priority__', '__array_ufunc__', '__array_wrap__', '__bool__', '__class__', '__contains__', '__copy__', '__deepcopy__', '__delattr__', '__delitem__', '__dict__', '__dir__', '__divmod__', '__doc__', '__eq__', '__finalize__', '__float__', '__floordiv__', '__format__', '__ge__', '__getattr__', '__getattribute__', '__getitem__', '__getstate__', '__gt__', '__hash__', '__iadd__', '__iand__', '__ifloordiv__', '__imod__', '__imul__', '__init__', '__init_subclass__', '__int__', '__invert__', '__ior__', '__ipow__', '__isub__', '__iter__', '__itruediv__', '__ixor__', '__le__', '__len__', '__long__', '__lt__', '__matmul__', '__mod__', '__module__', '__mul__', '__ne__', '__neg__', '__new__', '__nonzero__', '__or__', '__pos__', '__pow__', '__radd__', '__rand__', '__rdivmod__', '__reduce__', '__reduce_ex__', '__repr__', '__rfloordiv__', '__rmatmul__', '__rmod__', '__rmul__', '__ror__', '__round__', '__rpow__', '__rsub__', '__rtruediv__', '__rxor__', '__setattr__', '__setitem__', '__setstate__', '__sizeof__', '__str__', '__sub__', '__subclasshook__', '__truediv__', '__weakref__', '__xor__', '_accessors', '_accum_func', '_add_numeric_operations', '_agg_by_level', '_agg_examples_doc', '_agg_see_also_doc', '_align_frame', '_align_series', '_append', '_arith_method', '_as_manager', '_attrs', '_binop', '_can_hold_na', '_check_inplace_and_allows_duplicate_labels', '_check_inplace_setting', '_check_is_chained_assignment_possible', '_check_label_or_level_ambiguity', '_check_setitem_copy', '_clear_item_cache', '_clip_with_one_bound', '_clip_with_scalar', '_cmp_method', '_consolidate', '_consolidate_inplace', '_construct_axes_dict', '_construct_axes_from_arguments', '_construct_result', '_constructor', '_constructor_expanddim', '_convert', '_convert_dtypes', '_data', '_dir_additions', '_dir_deletions', '_drop_axis', '_drop_labels_or_levels', '_duplicated', '_find_valid_index', '_flags', '_get_axis', '_get_axis_name', '_get_axis_number', '_get_axis_resolvers', '_get_block_manager_axis', '_get_bool_data', '_get_cacher', '_get_cleaned_column_resolvers', '_get_index_resolvers', '_get_label_or_level_values', '_get_numeric_data', '_get_value', '_get_values', '_get_values_tuple', '_get_with', '_gotitem', '_hidden_attrs', '_indexed_same', '_info_axis', '_info_axis_name', '_info_axis_number', '_init_dict', '_init_mgr', '_inplace_method', '_internal_names', '_internal_names_set', '_is_cached', '_is_copy', '_is_label_or_level_reference', '_is_label_reference', '_is_level_reference', '_is_mixed_type', '_is_view', '_item_cache', '_ixs', '_logical_func', '_logical_method', '_map_values', '_maybe_update_cacher', '_memory_usage', '_metadata', '_mgr', '_min_count_stat_function', '_name', '_needs_reindex_multi', '_protect_consolidate', '_reduce', '_reindex_axes', '_reindex_indexer', '_reindex_multi', '_reindex_with_indexers', '_rename', '_replace_single', '_repr_data_resource_', '_repr_latex_', '_reset_cache', '_reset_cacher', '_set_as_cached', '_set_axis', '_set_axis_name', '_set_axis_nocheck', '_set_is_copy', '_set_labels', '_set_name', '_set_value', '_set_values', '_set_with', '_set_with_engine', '_slice', '_stat_axis', '_stat_axis_name', '_stat_axis_number', '_stat_function', '_stat_function_ddof', '_take', '_take_with_is_copy', '_typ', '_update_inplace', '_validate_dtype', '_values', '_where', 'abs', 'add', 'add_prefix', 'add_suffix', 'agg', 'aggregate', 'align', 'all', 'any', 'append', 'apply', 'argmax', 'argmin', 'argsort', 'array', 'asfreq', 'asof', 'astype', 'at', 'at_time', 'attrs', 'autocorr', 'axes', 'backfill', 'between', 'between_time', 'bfill', 'bool', 'clip', 'combine', 'combine_first', 'compare', 'convert_dtypes', 'copy', 'corr', 'count', 'cov', 'cummax', 'cummin', 'cumprod', 'cumsum', 'describe', 'diff', 'div', 'divide', 'divmod', 'dot', 'drop', 'drop_duplicates', 'droplevel', 'dropna', 'dtype', 'dtypes', 'duplicated', 'empty', 'eq', 'equals', 'ewm', 'expanding', 'explode', 'factorize', 'ffill', 'fillna', 'filter', 'first', 'first_valid_index', 'flags', 'floordiv', 'ge', 'get', 'groupby', 'gt', 'hasnans', 'head', 'hist', 'iat', 'idxmax', 'idxmin', 'iloc', 'index', 'infer_objects', 'info', 'interpolate', 'is_monotonic', 'is_monotonic_decreasing', 'is_monotonic_increasing', 'is_unique', 'isin', 'isna', 'isnull', 'item', 'items', 'iteritems', 'keys', 'kurt', 'kurtosis', 'last', 'last_valid_index', 'le', 'loc', 'lt', 'mad', 'map', 'mask', 'max', 'mean', 'median', 'memory_usage', 'min', 'mod', 'mode', 'mul', 'multiply', 'name', 'nbytes', 'ndim', 'ne', 'nlargest', 'notna', 'notnull', 'nsmallest', 'nunique', 'pad', 'pct_change', 'pipe', 'plot', 'pop', 'pow', 'prod', 'product', 'quantile', 'radd', 'rank', 'ravel', 'rdiv', 'rdivmod', 'reindex', 'reindex_like', 'rename', 'rename_axis', 'reorder_levels', 'repeat', 'replace', 'resample', 'reset_index', 'rfloordiv', 'rmod', 'rmul', 'rolling', 'round', 'rpow', 'rsub', 'rtruediv', 'sample', 'searchsorted', 'sem', 'set_axis', 'set_flags', 'shape', 'shift', 'size', 'skew', 'slice_shift', 'sort_index', 'sort_values', 'squeeze', 'std', 'sub', 'subtract', 'sum', 'swapaxes', 'swaplevel', 'tail', 'take', 'to_clipboard', 'to_csv', 'to_dict', 'to_excel', 'to_frame', 'to_hdf', 'to_json', 'to_latex', 'to_list', 'to_markdown', 'to_numpy', 'to_period', 'to_pickle', 'to_sql', 'to_string', 'to_timestamp', 'to_xarray', 'transform', 'transpose', 'truediv', 'truncate', 'tz_convert', 'tz_localize', 'unique', 'unstack', 'update', 'value_counts', 'values', 'var', 'view', 'where', 'xs']\n",
      "[33, 33, 35, 37, 39, 40, 40, 40, 40, 42, 42, 43, 44, 44, 44, 45, 46, 46, 48, 49, 49, 49, 49, 50, 50, 50, 51, 54, 56, 56, 56, 56, 57, 61, 62, 64, 65, 65, 66, 66, 66, 66, 67, 68, 70, 70, 70, 71, 71, 72, 72, 72, 72, 72, 73, 74, 74, 75, 76, 76, 76, 76, 77, 77, 78, 78, 78, 79, 79, 80, 80, 80, 81, 81, 82, 82, 83, 83, 83, 84, 84, 84, 85, 86, 86, 86, 87, 87, 87, 87, 88, 88, 88, 88, 88, 89, 89, 89, 90, 90, 90, 90, 91, 92, 92, 92, 93, 93, 93, 93, 95, 95, 96, 96, 96, 96, 97, 97, 98, 98, 99, 99, 100, 100, 100, 101, 101, 101, 102, 102, 103, 103, 104, 104, 104, 105, 105, 105, 105, 105, 105, 105, 105, 105, 108, 108, 108, 108, 108, 108, 109, 109, 110, 110, 110, 111, 111, 112, 113, 113, 113, 114, 114, 114, 114, 115, 115, 115, 115, 117, 117, 117, 118, 118, 119, 119, 119, 119, 120, 122, 123, 123, 123, 123, 123, 124, 125, 126, 127, 128, 128, 129, 130, 131, 131, 132, 132, 134, 134, 134, 135, 135, 136, 136, 136, 137, 138, 138, 138, 139, 140, 144, 145, 146, 146, 146, 146, 147, 149, 150, 150, 150, 150, 151, 152, 152, 152, 153, 153, 153, 154, 154, 154, 155, 155, 156, 156, 156, 156, 157, 157, 157, 157, 158, 158, 159, 159, 160, 160, 160, 160, 162, 164, 166, 167, 167, 168, 170, 170, 170, 170, 171, 172, 172, 173, 173, 173, 174, 174, 175, 175, 176, 176, 177, 178, 179, 179, 180, 180, 180, 182, 183, 183, 183, 184, 184, 184, 185, 185, 185, 185, 186, 186, 186, 188, 189, 190, 190, 192, 192, 192, 196, 196, 196, 197, 197, 202, 202, 202, 203, 204, 206, 207, 209, 210, 210, 211, 212, 213, 214, 216, 219, 220, 221, 221, 222, 222, 224, 225, 225, 226, 227, 228, 229, 230, 231, 233, 236, 236, 237, 241, 243, 244, 245, 247, 249, 254, 254, 258, 259, 259, 261, 261, 265, 267, 268, 269, 276, 276, 290, 295, 301, 306, 312, 396]\n",
      "33\n",
      "396\n"
     ]
    }
   ],
   "source": [
    "# len/type/dir/sorted/min/max\n",
    "print(len(subs))\n",
    "print(type(subs))\n",
    "print(dir(subs))\n",
    "print(sorted(subs))\n",
    "print(min(subs))\n",
    "print(max(subs))\n"
   ]
  },
  {
   "cell_type": "code",
   "execution_count": null,
   "metadata": {
    "colab": {
     "base_uri": "https://localhost:8080/"
    },
    "executionInfo": {
     "elapsed": 85,
     "status": "ok",
     "timestamp": 1702244847344,
     "user": {
      "displayName": "Mohsin Raza",
      "userId": "02069157311777040551"
     },
     "user_tz": -300
    },
    "id": "SW5maOyKbvu-",
    "outputId": "435c56b1-71c9-4cf8-dbf9-a8ae68f12e0f"
   },
   "outputs": [
    {
     "data": {
      "text/plain": [
       "{'Seience': 67, 'Eng': 80, 'urdu': 89, 'Maths': 100, 'Pst': 92}"
      ]
     },
     "execution_count": 44,
     "metadata": {},
     "output_type": "execute_result"
    }
   ],
   "source": [
    "# type conversion\n",
    "dict(marks_series)"
   ]
  },
  {
   "cell_type": "code",
   "execution_count": null,
   "metadata": {
    "colab": {
     "base_uri": "https://localhost:8080/"
    },
    "executionInfo": {
     "elapsed": 80,
     "status": "ok",
     "timestamp": 1702244847344,
     "user": {
      "displayName": "Mohsin Raza",
      "userId": "02069157311777040551"
     },
     "user_tz": -300
    },
    "id": "OKXSWzsDcbvs",
    "outputId": "781d2edd-521b-4ca2-fd2f-3852dd816b13"
   },
   "outputs": [
    {
     "data": {
      "text/plain": [
       "movie\n",
       "Uri: The Surgical Strike                   Vicky Kaushal\n",
       "Battalion 609                                Vicky Ahuja\n",
       "The Accidental Prime Minister (film)         Anupam Kher\n",
       "Why Cheat India                            Emraan Hashmi\n",
       "Evening Shadows                         Mona Ambegaonkar\n",
       "                                              ...       \n",
       "Hum Tumhare Hain Sanam                         Alia Butt\n",
       "Aankhen (2002 film)                     Amitabh Bachchan\n",
       "Saathiya (film)                             Vivek Oberoi\n",
       "Company (film)                                Ajay Devgn\n",
       "Awara Paagal Deewana                        Akshay Kumar\n",
       "Name: lead, Length: 1500, dtype: object"
      ]
     },
     "execution_count": 45,
     "metadata": {},
     "output_type": "execute_result"
    }
   ],
   "source": [
    "# membership opersator\n",
    "movies"
   ]
  },
  {
   "cell_type": "code",
   "execution_count": null,
   "metadata": {
    "colab": {
     "base_uri": "https://localhost:8080/"
    },
    "executionInfo": {
     "elapsed": 79,
     "status": "ok",
     "timestamp": 1702244847345,
     "user": {
      "displayName": "Mohsin Raza",
      "userId": "02069157311777040551"
     },
     "user_tz": -300
    },
    "id": "ba8JT0QwcAy7",
    "outputId": "161fef43-4a6f-42af-ae07-3fe20a3dfd96"
   },
   "outputs": [
    {
     "data": {
      "text/plain": [
       "True"
      ]
     },
     "execution_count": 46,
     "metadata": {},
     "output_type": "execute_result"
    }
   ],
   "source": [
    "'Evening Shadows' in movies # by default work on index"
   ]
  },
  {
   "cell_type": "code",
   "execution_count": null,
   "metadata": {
    "colab": {
     "base_uri": "https://localhost:8080/"
    },
    "executionInfo": {
     "elapsed": 77,
     "status": "ok",
     "timestamp": 1702244847345,
     "user": {
      "displayName": "Mohsin Raza",
      "userId": "02069157311777040551"
     },
     "user_tz": -300
    },
    "id": "lXvFnE97dCho",
    "outputId": "39701d90-868e-4830-c557-cb6887ed7d38"
   },
   "outputs": [
    {
     "data": {
      "text/plain": [
       "False"
      ]
     },
     "execution_count": 47,
     "metadata": {},
     "output_type": "execute_result"
    }
   ],
   "source": [
    "'Mona Ambegaonkar' in movies"
   ]
  },
  {
   "cell_type": "code",
   "execution_count": null,
   "metadata": {
    "colab": {
     "base_uri": "https://localhost:8080/"
    },
    "executionInfo": {
     "elapsed": 76,
     "status": "ok",
     "timestamp": 1702244847346,
     "user": {
      "displayName": "Mohsin Raza",
      "userId": "02069157311777040551"
     },
     "user_tz": -300
    },
    "id": "DgUWRcbidPpw",
    "outputId": "bf034793-8a69-4292-ae27-69dab0d6aec6"
   },
   "outputs": [
    {
     "data": {
      "text/plain": [
       "True"
      ]
     },
     "execution_count": 48,
     "metadata": {},
     "output_type": "execute_result"
    }
   ],
   "source": [
    "'Mona Ambegaonkar' in movies.values"
   ]
  },
  {
   "cell_type": "code",
   "execution_count": null,
   "metadata": {
    "colab": {
     "base_uri": "https://localhost:8080/"
    },
    "executionInfo": {
     "elapsed": 74,
     "status": "ok",
     "timestamp": 1702244847346,
     "user": {
      "displayName": "Mohsin Raza",
      "userId": "02069157311777040551"
     },
     "user_tz": -300
    },
    "id": "MgUna0GwdUGf",
    "outputId": "72ef249c-a324-462e-fae1-608685759aef"
   },
   "outputs": [
    {
     "name": "stdout",
     "output_type": "stream",
     "text": [
      "Vicky Kaushal\n",
      "Vicky Ahuja\n",
      "Anupam Kher\n",
      "Emraan Hashmi\n",
      "Mona Ambegaonkar\n",
      "Geetika Vidya Ohlyan\n",
      "Arshad Warsi\n",
      "Radhika Apte\n",
      "Kangana Ranaut\n",
      "Nawazuddin Siddiqui\n",
      "Ali Asgar\n",
      "Ranveer Singh\n",
      "Prit Kamani\n",
      "Ajay Devgn\n",
      "Sushant Singh Rajput\n",
      "Amitabh Bachchan\n",
      "Abhimanyu Dasani\n",
      "Talha Arshad Reshi\n",
      "Nawazuddin Siddiqui\n",
      "Garima Agarwal\n",
      "Rasika Agashe\n",
      "Barun Sobti\n",
      "Akshay Kumar\n",
      "Zaheer Iqbal\n",
      "Vidyut Jammwal\n",
      "Deepika Amin\n",
      "Manav Kaul\n",
      "Naseeruddin Shah\n",
      "Varun Dhawan\n",
      "Shreyas Talpade\n",
      "Tiger Shroff\n",
      "Boman Irani\n",
      "Ajay Devgn\n",
      "Arjun Kapoor\n",
      "Gavie Chahal\n",
      "Prabhu Deva\n",
      "Shahid Kapoor\n",
      "Ayushmann Khurrana\n",
      "Anupam Kher\n",
      "Karanvir Bohra\n",
      "Hrithik Roshan\n",
      "Jimmy Sheirgill\n",
      "John Abraham\n",
      "Rishi Kapoor\n",
      "Kangana Ranaut\n",
      "Natalia Janoszek\n",
      "Diljit Dosanjh\n",
      "Sidharth Malhotra\n",
      "Rajeev Khandelwal\n",
      "Zaira Wasim\n",
      "Akshay Kumar\n",
      "Jacqueline Fernandez\n",
      "Ayushmann Khurrana\n",
      "Akshaye Khanna\n",
      "Sonam Kapoor\n",
      "Karan Deol\n",
      "Sanjay Dutt\n",
      "Bhavesh Kumar\n",
      "Sanaya Irani\n",
      "Ayushmann Khurrana\n",
      "Siddhanth Kapoor\n",
      "Akshay Kumar\n",
      "Taapsee Pannu\n",
      "Rajkummar Rao\n",
      "Sunny Singh Nijjar\n",
      "Neil Nitin Mukesh\n",
      "Suraj Pancholi\n",
      "Boman Irani\n",
      "Riteish Deshmukh\n",
      "Nawazuddin Siddiqui\n",
      "Shahbaaz Khan\n",
      "Kriti Kharbanda\n",
      "Naseeruddin Shah\n",
      "Vardhan Puri\n",
      "Sushant Singh Rajput\n",
      "Kartik Aaryan\n",
      "Vidyut Jammwal\n",
      "Rani Mukerji\n",
      "Salman Khan\n",
      "Akshay Kumar\n",
      "Saif Ali Khan\n",
      "Kay Kay Menon\n",
      "Nora Fatehi\n",
      "Ashmit Patel\n",
      "Viineet Kumar\n",
      "Rahul Bhat\n",
      "Vicky Kaushal\n",
      "Sidharth Malhotra\n",
      "Deepika Padukone\n",
      "Geetanjali Thapa\n",
      "Akshay Anand\n",
      "Pulkit Samrat\n",
      "Kartik Aaryan\n",
      "Lee Byford\n",
      "Taapsee Pannu\n",
      "Aisha Ahmed\n",
      "Ajay Devgn\n",
      "Rani Mukerji\n",
      "Manoj Bajpayee\n",
      "Tiger Shroff\n",
      "Varun Dhawan\n",
      "Prabhu Deva\n",
      "Ishaan Khattar\n",
      "Abhay Deol\n",
      "Yogesh Raj Mishra\n",
      "Rajkummar Rao\n",
      "Alia Bhatt\n",
      "Naseeruddin Shah\n",
      "Sumeet Vyas\n",
      "Vinay Pathak\n",
      "John Abraham\n",
      "Danny Denzongpa\n",
      "Harshvardhan Kapoor\n",
      "Jimmy Sheirgill\n",
      "Anil Kapoor\n",
      "Ishaan Khattar\n",
      "Ranbir Kapoor\n",
      "Sanjay Dutt\n",
      "Dharmesh Yelande\n",
      "Taapsee Pannu\n",
      "Arjun Mathur\n",
      "Irrfan Khan\n",
      "Akshay Kumar\n",
      "John Abraham\n",
      "Sonakshi Sinha\n",
      "Utkarsh Sharma\n",
      "Dharmendra\n",
      "Rajkummar Rao\n",
      "Jackie Shroff\n",
      "Avinash Tiwary\n",
      "Manoj Bajpayee\n",
      "Paoli Dam\n",
      "Sanya Malhotra\n",
      "Shahid Kapoor\n",
      "Abhishek Bharate\n",
      "Nawazuddin Siddiqui\n",
      "Manish Anand\n",
      "Taapsee Pannu\n",
      "Jackky Bhagnani\n",
      "Anushka Sharma\n",
      "Radhika Apte\n",
      "Rhea Chakraborty\n",
      "Govinda\n",
      "Sohum Shah\n",
      "Kajol\n",
      "Arjun Kapoor\n",
      "Ayushmann Khurrana\n",
      "Ayushmann Khurrana\n",
      "Nargis Fakhri\n",
      "Aishwarya Devan\n",
      "Neil Nitin Mukesh\n",
      "Shakti Kapoor\n",
      "Amit Sadh\n",
      "Sunny Deol\n",
      "Rahul Bagga\n",
      "Sunny Deol\n",
      "Amyra Dastur\n",
      "Shah Rukh Khan\n",
      "Ranveer Singh\n",
      "Salman Khan\n",
      "Ajay Devgn\n",
      "Varun Dhawan\n",
      "Shraddha Kapoor\n",
      "Sunil Grover\n",
      "Hrithik Roshan\n",
      "Raj Arjun\n",
      "Aamir Khan\n",
      "Gurmeet Ram Rahim Singh\n",
      "Arsh Bajwa\n",
      "Rana Daggubati\n",
      "Naseeruddin Shah\n",
      "Kangana Ranaut\n",
      "Nana Patekar\n",
      "Arbaaz Khan\n",
      "Varun Dhawan\n",
      "Rajkummar Rao\n",
      "Govinda\n",
      "Rajat Kapoor\n",
      "Anushka Sharma\n",
      "Kiara Advani\n",
      "Shaurya Singh\n",
      "Pankaj Tripathi\n",
      "Taapsee Pannu\n",
      "Adil Hussain\n",
      "Amitabh Bachchan\n",
      "Sunny Leone\n",
      "Hema Malini\n",
      "Raveena Tandon\n",
      "Amitabh Bachchan\n",
      "Amardeep Insan\n",
      "Shraddha Kapoor\n",
      "Ayushmann Khurrana\n",
      "Sachin Tendulkar\n",
      "Irrfan Khan\n",
      "Himansh Kohli\n",
      "Adil Hussain\n",
      "Jayesh Raj\n",
      "Manisha Koirala\n",
      "Deepika Padukone\n",
      "Rajkummar Rao\n",
      "Salman Khan\n",
      "Riteish Deshmukh\n",
      "Shiv Darshan\n",
      "Ranbir Kapoor\n",
      "Ashish Bisht\n",
      "Aahana Kumra\n",
      "Manoj Babani\n",
      "Rajveer Ankur Singh\n",
      "Kirti Kulhari\n",
      "Shah Rukh Khan\n",
      "Tiger Shroff\n",
      "Akshay Kumar\n",
      "Anil Kapoor\n",
      "Kartik Aaryan\n",
      "Ayushmann Khurrana\n",
      "Nawazuddin Siddiqui\n",
      "Prisha Aneja\n",
      "Aadar Jain\n",
      "Ayushmann Khurrana\n",
      "Kunal Kapoor\n",
      "Arjun Rampal\n",
      "Kangana Ranaut\n",
      "Farhan Akhtar\n",
      "Sidharth Malhotra\n",
      "Hugh Bonneville\n",
      "Rishi Kapoor\n",
      "Rajkummar Rao\n",
      "Kunaal Roy Kapur\n",
      "Sunny Leone\n",
      "Shraddha Kapoor\n",
      "Rina Charaniya\n",
      "Nawazuddin Siddiqui\n",
      "Sunny Deol\n",
      "Sridevi\n",
      "Saif Ali Khan\n",
      "Soundarya Sharma\n",
      "Sudha Chandran\n",
      "Manoj Bajpayee\n",
      "Zaira Wasim\n",
      "Prakash Belawadi\n",
      "Kalki Koechlin\n",
      "Rajkummar Rao\n",
      "Richa Chadha\n",
      "Irrfan Khan\n",
      "Zareen Khan\n",
      "Nayna Bandhopadhyay\n",
      "Vidya Balan\n",
      "Nishikant Kamat\n",
      "Sanjay Mishra\n",
      "Kapil Sharma\n",
      "Pulkit Samrat\n",
      "Vijay Varma\n",
      "Sushama Deshpande\n",
      "Richa Chadha\n",
      "Prince Shah\n",
      "Tanima Bhattacharya\n",
      "Akshay Kumar\n",
      "Zeenat Aman\n",
      "Madhavan\n",
      "Tusshar Kapoor\n",
      "Tusshar Kapoor\n",
      "Himansh Kohli\n",
      "Sadhana Singh\n",
      "Sunny Deol\n",
      "Aditya Roy Kapoor\n",
      "Rishi Kapoor\n",
      "Rajniesh Duggall\n",
      "Krishna Chaturvedi\n",
      "Girish Taurani\n",
      "Sonam Kapoor\n",
      "Sukhesh Arora\n",
      "Raima Sen\n",
      "Anuj Sachdeva\n",
      "Parthaa Akerkar\n",
      "Priyanka Chopra\n",
      "Sidharth Malhotra\n",
      "John Abraham\n",
      "Patralekhaa Paul\n",
      "Shah Rukh Khan\n",
      "Swara Bhaskar\n",
      "Randeep Hooda\n",
      "Shraddha Kapoor\n",
      "Pankaj Tripathi\n",
      "Jimmy Sheirgill\n",
      "Kartik Elangovan\n",
      "Boman Irani\n",
      "Manoj Bajpayee\n",
      "Sharman Joshi\n",
      "Emraan Hashmi\n",
      "Aanchal Dwivedi\n",
      "Sanjay Singh\n",
      "Arvind Swamy\n",
      "Radhika Apte\n",
      "Randeep Hooda\n",
      "Sachiin Joshi\n",
      "Kajal Aggarwal\n",
      "Amitabh Bachchan\n",
      "Shahid Kapoor\n",
      "Hazel Croney\n",
      "V. Ravichandran\n",
      "Vipin Sharma\n",
      "Nawazuddin Siddiqui\n",
      "Pulkit Samrat\n",
      "Tannishtha Chatterjee\n",
      "Krrish Chhabria\n",
      "Avinash Dhyani\n",
      "Zeenat Aman\n",
      "Salman Khan\n",
      "Shashank Arora\n",
      "Urvashi Rautela\n",
      "Naseeruddin Shah\n",
      "Sara Loren\n",
      "Tom Alter\n",
      "Irrfan Khan\n",
      "John Abraham\n",
      "Rajeev Khandelwal\n",
      "Ileana D'Cruz\n",
      "Sahil Anand\n",
      "Hrithik Roshan\n",
      "Diana Penty\n",
      "Niharica Raizada\n",
      "Tiger Shroff\n",
      "Sidharth Malhotra\n",
      "Nawazuddin Siddiqui\n",
      "Emraan Hashmi\n",
      "Taapsee Pannu\n",
      "Tannishtha Chatterjee\n",
      "Riteish Deshmukh\n",
      "Yash Soni\n",
      "Shreyas Talpade\n",
      "Vinay Pathak\n",
      "Jimmy Sharma\n",
      "Sushant Singh Rajput\n",
      "Ashok Insan\n",
      "RJ Balaji\n",
      "Saurav Chakraborty\n",
      "Shashank Udapurkar\n",
      "Shubham\n",
      "Manoj Bajpayee\n",
      "Sunny Leone\n",
      "Aashish Bhatt\n",
      "Ajay Devgn\n",
      "Ronit Roy\n",
      "Ranbir Kapoor\n",
      "Neha Sharma\n",
      "Farhan Akhtar\n",
      "John Abraham\n",
      "Alia Bhatt\n",
      "Vaani Kapoor\n",
      "Neha Dhupia\n",
      "Jimmy Sheirgill\n",
      "Sonarika Bhadoria\n",
      "Amitabh Bachchan\n",
      "Sharman Joshi\n",
      "Aamir Khan\n",
      "Harshvardhan Kapoor\n",
      "Salman Khan\n",
      "Kangana Ranaut\n",
      "Kangana Ranaut\n",
      "Soha Ali Khan\n",
      "Prabhu Deva\n",
      "Shah Rukh Khan\n",
      "Salman Khan\n",
      "Ranveer Singh\n",
      "Anil Kapoor\n",
      "Akshay Kumar\n",
      "Akshay Kumar\n",
      "Akshay Kumar\n",
      "Akshay Kumar\n",
      "Shakti Kapoor\n",
      "Bipasha Basu\n",
      "Arjun Kapoor\n",
      "Zayed Khan\n",
      "Malaika Arora\n",
      "Naman Jain\n",
      "Gurmeet Choudhary\n",
      "Kay Kay Menon\n",
      "Rati Agnihotri\n",
      "Amitabh Bachchan\n",
      "Arjun Rampal\n",
      "Varun Dhawan\n",
      "Swanand Kirkire\n",
      "Sulabha Arya\n",
      "Irrfan Khan\n",
      "Nana Patekar\n",
      "Ayushmann Khurrana\n",
      "Anupam Kher\n",
      "Gurmeet Ram Rahim Singh\n",
      "Sidhant Gupta\n",
      "Arjun Mathur\n",
      "Ganesh Acharya\n",
      "Anushka Sharma\n",
      "Gulshan Devaiah\n",
      "Sushant Singh Rajput\n",
      "Adhyayan Suman\n",
      "Vira Sathidar\n",
      "Kalki Koechlin\n",
      "Sunny Leone\n",
      "Sara Loren\n",
      "Emraan Hashmi\n",
      "Auroshika Dey\n",
      "Ira Dubey\n",
      "Naseeruddin Shah\n",
      "Vinay Pathak\n",
      "Ram Kapoor\n",
      "Deepika Padukone\n",
      "Ranbir Kapoor\n",
      "Shakti Anand\n",
      "Anil Kapoor\n",
      "Arshad Warsi\n",
      "Meenakshi Dixit\n",
      "Yash Acharya\n",
      "Rajkummar Rao\n",
      "Rahul Bagga\n",
      "Mohit Baghel\n",
      "Rishi Verma\n",
      "Mimoh Chakraborty\n",
      "Swara Bhaskar\n",
      "Richa Chadha\n",
      "Arshad Warsi\n",
      "Mugdha Godse\n",
      "Yashpal Sharma\n",
      "Dharmendra\n",
      "Sunny Deol\n",
      "Smitha Gondkar\n",
      "Kunal Kapoor\n",
      "Ajay Devgn\n",
      "Jacqueline Fernandez\n",
      "Rishi Kapoor\n",
      "Akshay Kumar\n",
      "Vinay Pathak\n",
      "Nawazuddin Siddiqui\n",
      "Bhavita Anand\n",
      "Saif Ali Khan\n",
      "Suraj Pancholi\n",
      "Shamim Khan\n",
      "Irrfan Khan\n",
      "Suhaas Ahuja\n",
      "Jaideep Ahlawat\n",
      "Charanpreet Insan\n",
      "Akanksha Puri\n",
      "Kunal Khemu\n",
      "Aishwarya Rai Bachchan\n",
      "Seema Azmi\n",
      "Parveen Kaur\n",
      "Kapil Sharma\n",
      "Kartik Aaryan\n",
      "Diganth\n",
      "Shahid Kapoor\n",
      "Nawazuddin Siddiqui\n",
      "Kunal Khemu\n",
      "Mann Bagga\n",
      "Manish Paul\n",
      "Sanjeev Kumar\n",
      "Madhuri Dixit\n",
      "Shiv Darshan\n",
      "Gopi Desai\n",
      "Mohinder Gujral\n",
      "Zeenat Aman\n",
      "Ranveer Singh\n",
      "Salman Khan\n",
      "Sidharth Malhotra\n",
      "Adhyayan Suman\n",
      "Indrapal Ahuja\n",
      "Jimmy Sheirgill\n",
      "Abhay Deol\n",
      "Sahil Anand\n",
      "Alia Bhatt\n",
      "Sampat Pal Devi\n",
      "Farhan Akhtar\n",
      "Madhuri Dixit\n",
      "Kangana Ranaut\n",
      "Ayushmann Khurrana\n",
      "Ali Zafar\n",
      "Mahek Chahal\n",
      "Monali Thakur\n",
      "Sunny Leone\n",
      "Harman Baweja\n",
      "Sanjay Mishra\n",
      "Sharman Joshi\n",
      "Sachin Khedekar\n",
      "Leeza Mangaldas\n",
      "Pulkit Samrat\n",
      "Zara Sheikh\n",
      "Arjun Kapoor\n",
      "Purab Kohli\n",
      "Amitabh Bachchan\n",
      "Varun Dhawan\n",
      "Arvinder Bhatti\n",
      "Kanika Batra\n",
      "Jackky Bhagnani\n",
      "Rajeev Khandelwal\n",
      "Tanuj Virwani\n",
      "Vijay Raaz\n",
      "Kannan Arunachalam\n",
      "Anjori Alagh\n",
      "Satish Kaushik\n",
      "Rahul Bagga\n",
      "Himesh Reshammiya\n",
      "Farooq Shaikh\n",
      "Makrand Deshpande\n",
      "Eesha Agarwal\n",
      "Siddharth Gupta\n",
      "Tiger Shroff\n",
      "Rajkummar Rao\n",
      "Sharib Hashmi\n",
      "Kangana Ranaut\n",
      "Kartik Aaryan\n",
      "Swara Bhaskar\n",
      "Simer Motiani\n",
      "Anshuman Jha\n",
      "Sidharth Malhotra\n",
      "Vidya Balan\n",
      "Saif Ali Khan\n",
      "Varun Dhawan\n",
      "Jay Bhanushali\n",
      "Armaan Jain\n",
      "Rajesh Khanna\n",
      "Vir Das\n",
      "Akshay Kumar\n",
      "Jimmy Sheirgill\n",
      "Reshmi Ghosh\n",
      "Akshay Oberoi\n",
      "Akshay Kumar\n",
      "Anupam Kher\n",
      "Rani Mukerji\n",
      "Emraan Hashmi\n",
      "Priyanka Chopra\n",
      "Bipasha Basu\n",
      "Deepika Padukone\n",
      "Sonam Kapoor\n",
      "Salil Acharya\n",
      "Salman Khan\n",
      "Saahil Prem\n",
      "Alieesa P Badresia\n",
      "Manoj Amarnani\n",
      "Sasha Aagha\n",
      "Tabu\n",
      "Hrithik Roshan\n",
      "Rati Agnihotri\n",
      "Aditya Roy Kapoor\n",
      "Asrani\n",
      "Harshvardhan Deo\n",
      "Nikhil Dwivedi\n",
      "Karanvir Bohra\n",
      "Puru Chibber\n",
      "Soha Ali Khan\n",
      "Rhea Chakraborty\n",
      "Shah Rukh Khan\n",
      "Rekha\n",
      "Anupam Kher\n",
      "Randeep Hooda\n",
      "Akshay Kumar\n",
      "Aadil Chahal\n",
      "Shabana Azmi\n",
      "Dimple Kapadia\n",
      "Nishant Dahiya\n",
      "Ranveer Singh\n",
      "Emraan Hashmi\n",
      "Saif Ali Khan\n",
      "Vinod Acharya\n",
      "Mannara Chopra\n",
      "Prabhas\n",
      "Mischa Barton\n",
      "Shiv Panditt\n",
      "Annu Kapoor\n",
      "Barun Sobti\n",
      "Rahul Bhat\n",
      "Aamir Khan\n",
      "Adhyayan Suman\n",
      "Imran Khan\n",
      "Naveen Kasturia\n",
      "Arjun Rampal\n",
      "Sarita Joshi\n",
      "Kartik Aaryan\n",
      "Juhi Chawla\n",
      "Saif Ali Khan\n",
      "Manisha Kelkar\n",
      "Farooq Shaikh\n",
      "Akshay Kumar\n",
      "Randeep Hooda\n",
      "Vivek Oberoi\n",
      "Rajkummar Rao\n",
      "Akash\n",
      "Vishwa Mohan Badola\n",
      "Neil Nitin Mukesh\n",
      "Saqib Saleem\n",
      "Arshad Warsi\n",
      "Jimmy Sheirgill\n",
      "Asha Bhosle\n",
      "Kamal Haasan\n",
      "Jackky Bhagnani\n",
      "Aditya Roy Kapoor\n",
      "Emraan Hashmi\n",
      "Ajay Devgn\n",
      "Ayushmann Khurrana\n",
      "Vivek Oberoi\n",
      "Vidyut Jammwal\n",
      "Rani Mukerji\n",
      "Saif Ali Khan\n",
      "Riya Vij\n",
      "Arjun Kapoor\n",
      "Preity Zinta\n",
      "Veena Malik\n",
      "Ranbir Kapoor\n",
      "Pulkit Samrat\n",
      "Rupa Bhimani\n",
      "Dhanush\n",
      "Kay Kay Menon\n",
      "Neil Nitin Mukesh\n",
      "Vidya Balan\n",
      "Anupam Kher\n",
      "Sanjay Dutt\n",
      "Farhan Akhtar\n",
      "Wamiqa Gabbi\n",
      "Shadab Kamal\n",
      "Sunil Shetty\n",
      "Prateik\n",
      "Tusshar Kapoor\n",
      "Tanuj Virwani\n",
      "Poonam Pandey\n",
      "Deepak Dobriyal\n",
      "Hemant Gopal\n",
      "Joy Mukherjee\n",
      "Rishi Kapoor\n",
      "Rajesh Tailang\n",
      "Akshay Kumar\n",
      "John Abraham\n",
      "Amitabh Bachchan\n",
      "Sushant Singh Rajput\n",
      "Shruti Haasan\n",
      "Deepika Padukone\n",
      "Vivek Oberoi\n",
      "Naseeruddin Shah\n",
      "Karan Kundrra\n",
      "Shahid Kapoor\n",
      "Aida Elkashef\n",
      "Irrfan Khan\n",
      "Anisa Butt\n",
      "Akshay Kumar\n",
      "Rajkummar Rao\n",
      "Manish Paul\n",
      "Puneet Singh Ratn\n",
      "Kangana Ranaut\n",
      "Sumit Nijhawan\n",
      "Tinnu Anand\n",
      "Chandan Roy Sanyal\n",
      "Elisha Kriis\n",
      "Ashmit Patel\n",
      "Imran Khan\n",
      "Manu Rishi Chadha\n",
      "Naseeruddin Shah\n",
      "Paresh Rawal\n",
      "Saif Ali Khan\n",
      "Aamir Khan\n",
      "Ali Zafar\n",
      "Ranveer Singh\n",
      "Sharman Joshi\n",
      "Naseeruddin Shah\n",
      "Shiney Ahuja\n",
      "Karan Sharma\n",
      "Sunny Deol\n",
      "Ranveer Singh\n",
      "Hrithik Roshan\n",
      "Kareena Kapoor\n",
      "Prateik\n",
      "Kiran Bhatia\n",
      "Bipasha Basu\n",
      "Riteish Deshmukh\n",
      "Jahangir Khan\n",
      "Irrfan Khan\n",
      "Vidya Balan\n",
      "Mithun Chakraborty\n",
      "Kareena Kapoor\n",
      "Manish Chaudhary\n",
      "Kavin Dave\n",
      "Shikhi Gupta\n",
      "Archana Joglekar\n",
      "Tusshar Kapoor\n",
      "Pulkit Samrat\n",
      "Ayushmann Khurrana\n",
      "Nikhil Dwivedi\n",
      "Anil Kapoor\n",
      "Karisma Kapoor\n",
      "Arjun Kapoor\n",
      "Sanjay Dutt\n",
      "Gul Panag\n",
      "Yudhveer Bakoliya\n",
      "Kay Kay Menon\n",
      "Emraan Hashmi\n",
      "Sharman Joshi\n",
      "Shahid Kapoor\n",
      "Anupam Kher\n",
      "Anya Anand\n",
      "Julia Datt\n",
      "Manoj Bajpayee\n",
      "Manoj Bajpayee\n",
      "Saif Ali Khan\n",
      "Naresh Sharma\n",
      "Riteish Deshmukh\n",
      "Sonu Sood\n",
      "Nassar Abdulla\n",
      "Salman Khan\n",
      "Vickrant Mahajan\n",
      "Freny Bhagat\n",
      "Akshay Kumar\n",
      "Omkar Das Manikpuri\n",
      "Sunil Shetty\n",
      "Manoj Bajpayee\n",
      "Bidita Bag\n",
      "Harish Chabbra\n",
      "Ranbir Kapoor\n",
      "Kareena Kapoor\n",
      "Sagar Bhangade\n",
      "Vivek Oberoi\n",
      "Ravi Kishan\n",
      "Paresh Rawal\n",
      "Rani Mukerji\n",
      "Manoj Bajpayee\n",
      "J.D. Chakravarthi\n",
      "Cary Elwes\n",
      "Arjun Rampal\n",
      "Alia Bhatt\n",
      "Jackky Bhagnani\n",
      "Emraan Hashmi\n",
      "Vicky Ahuja\n",
      "Sunidhi Chauhan\n",
      "Asrani\n",
      "Shah Rukh Khan\n",
      "Aamir Khan\n",
      "Himanshu Bhatt\n",
      "Ajay Devgn\n",
      "Ashok Banthia\n",
      "Salman Khan\n",
      "Vinod Khanna\n",
      "Akshay Kumar\n",
      "Amitabh Bachchan\n",
      "Sridevi\n",
      "Vivek Sudershan\n",
      "Nafisa Ali\n",
      "Mohsin\n",
      "Prateik\n",
      "Gul Panag\n",
      "Vatsal Sheth\n",
      "Ajay Devgn\n",
      "Russell Geoffrey Banks\n",
      "Vinay Pathak\n",
      "Rishi Kapoor\n",
      "Priyanka Chopra\n",
      "Madhavan\n",
      "Arshad Warsi\n",
      "Deepti Naval\n",
      "Akshay Kumar\n",
      "Sumit Arora\n",
      "Anay\n",
      "Om Puri\n",
      "Abhishek Bachchan\n",
      "Sendhil Ramamurthy\n",
      "Darsheel Safary\n",
      "Vinay Pathak\n",
      "Ishaan Manhaas\n",
      "Sanjay Mishra\n",
      "Ashutosh Rana\n",
      "Juhi Chawla\n",
      "Govinda\n",
      "Mimoh Chakraborty\n",
      "Tusshar Kapoor\n",
      "Kainaz Motivala\n",
      "Partho A. Gupte\n",
      "Nana Patekar\n",
      "Sara Arjun\n",
      "Kalki Koechlin\n",
      "Kartik Aaryan\n",
      "Vinay Pathak\n",
      "Lillete Dubey\n",
      "Sanjay Dutt\n",
      "Amitabh Bachchan\n",
      "Imran Khan\n",
      "Emraan Hashmi\n",
      "Aarav Khanna\n",
      "Hrithik Roshan\n",
      "Raghuvir Yadav\n",
      "Gulshan Grover\n",
      "Naushaad Abbas\n",
      "Shefali Shah\n",
      "Ajay Devgn\n",
      "Rahul Jaiswal\n",
      "Apoorva Arora\n",
      "Isha Koppikar\n",
      "Rajniesh Duggall\n",
      "Amitabh Bachchan\n",
      "Sanjay Dutt\n",
      "Anupam Kher\n",
      "Salman Khan\n",
      "Deepshika Nagpal\n",
      "Deepak Dobriyal\n",
      "Tusshar Kapoor\n",
      "Kiron Kher\n",
      "Imran Khan\n",
      "Shahid Kapoor\n",
      "Mikaal\n",
      "John Abraham\n",
      "Jimmy Sheirgill\n",
      "Vinay Pathak\n",
      "Vinay Virmani\n",
      "Dev Anand\n",
      "Zayed Khan\n",
      "Saqib Saleem\n",
      "Sachiin Joshi\n",
      "Shah Rukh Khan\n",
      "Ranbir Kapoor\n",
      "Chirag Paswan\n",
      "Dharmendra\n",
      "Himesh Reshammiya\n",
      "Ranveer Singh\n",
      "Akshay Kumar\n",
      "Abhishek Bachchan\n",
      "Rani Mukerji\n",
      "Ajay Devgn\n",
      "Vidya Balan\n",
      "Priyanka Chopra\n",
      "Shahid Kapoor\n",
      "Prateik\n",
      "Salman Khan\n",
      "Siddharth\n",
      "Amitabh Bachchan\n",
      "Vidya Balan\n",
      "Paresh Rawal\n",
      "Sunny Gill\n",
      "Shreyas Talpade\n",
      "Tabu\n",
      "Shah Rukh Khan\n",
      "Amitabh Bachchan\n",
      "Siddhartha Gupta\n",
      "Shah Rukh Khan\n",
      "Tanushree Dutta\n",
      "Paul Sidhu\n",
      "Sunny Deol\n",
      "Gurdas Maan\n",
      "Master Shams\n",
      "Om Puri\n",
      "Vikrum Kumar\n",
      "Aditya Narayan\n",
      "Arshad Warsi\n",
      "Boman Irani\n",
      "Nana Patekar\n",
      "Priyanka Chopra\n",
      "Arbaaz Khan\n",
      "Rekha\n",
      "Rahul Bose\n",
      "Nana Patekar\n",
      "Sudeep\n",
      "Farooq Shaikh\n",
      "Rohit Roy\n",
      "Sachin Khedekar\n",
      "Anuj Saxena\n",
      "Akshay Kumar\n",
      "Hazel Croney\n",
      "Sanjeev Bhaskar\n",
      "Vivek Oberoi\n",
      "Abhishek Bachchan\n",
      "Atul Kulkarni\n",
      "Rajpal Yadav\n",
      "Hrithik Roshan\n",
      "Nushrat Bharucha\n",
      "Kareena Kapoor\n",
      "Bhushan Agarwal\n",
      "Prashant Narayanan\n",
      "Sanjay Dutt\n",
      "Akshay Kumar\n",
      "Ali Zafar\n",
      "Rajat Barmecha\n",
      "Ajay Devgn\n",
      "Bobby Deol\n",
      "Omkar Das Manikpuri\n",
      "Neil Nitin Mukesh\n",
      "Gul Panag\n",
      "Raj Singh Chaudhary\n",
      "John Abraham\n",
      "Barkha Madan\n",
      "Salman Khan\n",
      "Supriya Pathak\n",
      "Sunil Shetty\n",
      "Rituparna Sengupta\n",
      "Ranvir Shorey\n",
      "Mallika Sherawat\n",
      "Emraan Hashmi\n",
      "Rishi Kapoor\n",
      "Ajay Devgn\n",
      "Manoj Bajpayee\n",
      "Sanjay Dutt\n",
      "John Abraham\n",
      "Hrithik Roshan\n",
      "Varun Bhagwat\n",
      "Deepika Padukone\n",
      "Sunny Deol\n",
      "Rajat Kapoor\n",
      "Akanksha\n",
      "Jimmy Sheirgill\n",
      "Sanjay Dutt\n",
      "Ranveer Singh\n",
      "Aditya Srivastava\n",
      "Arunoday Singh\n",
      "Akshay Kumar\n",
      "Akshay Oberoi\n",
      "Ajay Devgn\n",
      "Neil Nitin Mukesh\n",
      "Sahil Khan\n",
      "Imran Khan\n",
      "Sushmita Sen\n",
      "Priyanka Chopra\n",
      "Zeenat Aman\n",
      "Bipasha Basu\n",
      "Akshay Kumar\n",
      "Aamir Khan\n",
      "Farhan Akhtar\n",
      "Saif Ali Khan\n",
      "Salman Khan\n",
      "Waheeda Rehman\n",
      "Kangana Ranaut\n",
      "Hrishitaa Bhatt\n",
      "Ranbir Kapoor\n",
      "Asrani\n",
      "Irrfan Khan\n",
      "Kay Kay Menon\n",
      "Arshad Warsi\n",
      "Paresh Rawal\n",
      "Rati Agnihotri\n",
      "Harman Baweja\n",
      "Shahid Kapoor\n",
      "Fardeen Khan\n",
      "John Abraham\n",
      "Kay Kay Menon\n",
      "Aftab Shivdasani\n",
      "Naseeruddin Shah\n",
      "Inaamulhaq\n",
      "Neil Nitin Mukesh\n",
      "Kunal Khemu\n",
      "Bobby Deol\n",
      "Anita\n",
      "Parzaan Dastur\n",
      "Meghan Jadhav\n",
      "Shreyas Talpade\n",
      "John Abraham\n",
      "Kay Kay Menon\n",
      "Sanjay Dutt\n",
      "Mithun Chakraborty\n",
      "Govinda\n",
      "Sunil Shetty\n",
      "Jackie Shroff\n",
      "Anupam Kher\n",
      "Shreyas Talpade\n",
      "Rishi Kapoor\n",
      "Rajendra Prasad\n",
      "Arjun Rampal\n",
      "Mithun Chakraborty\n",
      "Mithun Chakraborty\n",
      "Bobby Deol\n",
      "Shahid Kapoor\n",
      "Harman Baweja\n",
      "Fardeen Khan\n",
      "Sanjay Dutt\n",
      "Ranbir Kapoor\n",
      "Salman Khan\n",
      "Akshay Kumar\n",
      "Atmaram Bhende\n",
      "Amitabh Bachchan\n",
      "Salman Khan\n",
      "Manoj Bajpayee\n",
      "Emraan Hashmi\n",
      "Lewis Tan\n",
      "Akshay Kumar\n",
      "Amitabh Bachchan\n",
      "Ranbir Kapoor\n",
      "Aamir Bashir\n",
      "Farooq Shaikh\n",
      "Mithun Chakraborty\n",
      "Abhishek Bachchan\n",
      "Saif Ali Khan\n",
      "Shah Rukh Khan\n",
      "Aamir Khan\n",
      "Akshay Kumar\n",
      "Ajay Devgn\n",
      "Hrithik Roshan\n",
      "Ranbir Kapoor\n",
      "Amitabh Bachchan\n",
      "Amitabh Bachchan\n",
      "Ajay Devgn\n",
      "Omkar Bhatkar\n",
      "Shreyas Talpade\n",
      "Manisha Koirala\n",
      "Ajay Devgn\n",
      "Tusshar Kapoor\n",
      "Juhi Chawla\n",
      "Ajay Devgn\n",
      "Kay Kay Menon\n",
      "Akshay Kumar\n",
      "Dino Morea\n",
      "Mimoh Chakraborty\n",
      "Emraan Hashmi\n",
      "Mithun Chakraborty\n",
      "Sikander Kher\n",
      "Paresh Rawal\n",
      "Ahraz Ahmed\n",
      "Aftab Shivdasani\n",
      "Amita Pathak\n",
      "Saahil Chadha\n",
      "Saif Ali Khan\n",
      "Kay Kay Menon\n",
      "Shahid Kapoor\n",
      "Harman Baweja\n",
      "Adhvik Mahajan\n",
      "Vivek Oberoi\n",
      "Govinda\n",
      "Amitabh Bachchan\n",
      "Paresh Rawal\n",
      "Mallika Sherawat\n",
      "Arjun Rampal\n",
      "Tusshar Kapoor\n",
      "Bobby Deol\n",
      "Sammir Dattani\n",
      "Victor Banerjee\n",
      "Rajniesh Duggall\n",
      "Amitabh Bachchan\n",
      "Shreyas Talpade\n",
      "Kiron Kher\n",
      "Jackie Shroff\n",
      "Jayshree Arora\n",
      "Sharman Joshi\n",
      "Himesh Reshammiya\n",
      "Sohail Khan\n",
      "Saif Ali Khan\n",
      "Isha Koppikar\n",
      "Kamal Rashid Khan\n",
      "Priyanka Chopra\n",
      "Vinay Pathak\n",
      "Salman Khan\n",
      "Abhay Deol\n",
      "Vinay Pathak\n",
      "Shabana Azmi\n",
      "Manoj Bajpayee\n",
      "Anupam Kher\n",
      "Rajesh Khanna\n",
      "Dino Morea\n",
      "Irrfan Khan\n",
      "Amitabh Bachchan\n",
      "Himesh Reshammiya\n",
      "Tusshar Kapoor\n",
      "Nauheed Cyrusi\n",
      "Madhuri Dixit\n",
      "Dharmendra\n",
      "Emraan Hashmi\n",
      "Vinay Pathak\n",
      "Akshay Kumar\n",
      "Dino Morea\n",
      "Sunny Deol\n",
      "Mouli Ganguly\n",
      "Krishna Abhishek\n",
      "Irrfan Khan\n",
      "Kay Kay Menon\n",
      "Pankaj Kapur\n",
      "Jazzy Doe\n",
      "Mona Ambegaonkar\n",
      "Ajay Devgn\n",
      "Amitabh Bachchan\n",
      "Jimmy Sheirgill\n",
      "Fardeen Khan\n",
      "Shah Rukh Khan\n",
      "Sanjay Dutt\n",
      "John Abraham\n",
      "Pankaj Kapur\n",
      "Sunil Pal\n",
      "Muzamil Ibrahim\n",
      "Imaaduddin Shah\n",
      "Sharman Joshi\n",
      "Abhay Deol\n",
      "Arjun Rampal\n",
      "Akshaye Khanna\n",
      "Rishi Kapoor\n",
      "Arbaaz Khan\n",
      "Amitabh Bachchan\n",
      "Gautam Gupta\n",
      "Mohan Azaad\n",
      "Juanna Sanghvi\n",
      "Mithun Chakraborty\n",
      "Ranvir Shorey\n",
      "Govinda\n",
      "Abhishek Bachchan\n",
      "Shahid Kapoor\n",
      "Tusshar Kapoor\n",
      "Shahid Kapoor\n",
      "Shiney Ahuja\n",
      "Dharmendra\n",
      "Fardeen Khan\n",
      "Tusshar Kapoor\n",
      "Rekha\n",
      "Jimmy Sheirgill\n",
      "Rani Mukerji\n",
      "Dharmendra\n",
      "Shabana Azmi\n",
      "Abhay Deol\n",
      "Salman Khan\n",
      "Menekka Arora\n",
      "Nana Patekar\n",
      "Bobby Deol\n",
      "Linda Arsenio\n",
      "Kal Penn\n",
      "Akshay Kumar\n",
      "Jason Lewis\n",
      "Sanjay Dutt\n",
      "Amitabh Bachchan\n",
      "John Abraham\n",
      "Shah Rukh Khan\n",
      "Salman Khan\n",
      "Rahul Khanna\n",
      "Dwij Yadav\n",
      "Aftab Shivdasani\n",
      "Vinod Khanna\n",
      "Bobby Deol\n",
      "Sherlyn Chopra\n",
      "Salman Khan\n",
      "Rani Mukerji\n",
      "Mahima Chaudhry\n",
      "Mandar Jadhav\n",
      "Aftab Shivdasani\n",
      "Amitabh Bachchan\n",
      "Jimmy Sheirgill\n",
      "Manoj Bajpayee\n",
      "Darsheel Safary\n",
      "Saif Ali Khan\n",
      "Urmila Matondkar\n",
      "Kunal Khemu\n",
      "Emraan Hashmi\n",
      "Tushar Jalota\n",
      "Jaya Bachchan\n",
      "Akshay Kumar\n",
      "Akshaye Khanna\n",
      "Jeetendra\n",
      "Akshaye Khanna\n",
      "Abhay Deol\n",
      "Emraan Hashmi\n",
      "Akshay Kapoor\n",
      "Sanjay Dutt\n",
      "Bobby Darling\n",
      "Aftab Shivdasani\n",
      "Rekha\n",
      "Amitabh Bachchan\n",
      "Rati Agnihotri\n",
      "Rahul Dev\n",
      "Naseeruddin Shah\n",
      "Urmila Matondkar\n",
      "Juhi Chawla\n",
      "Akshay Kumar\n",
      "Sushmita Sen\n",
      "Jackie Shroff\n",
      "Somesh Agarwal\n",
      "Sohail Khan\n",
      "Kareena Kapoor\n",
      "Bipasha Basu\n",
      "Amitabh Bachchan\n",
      "Rajit Kapoor\n",
      "Emraan Hashmi\n",
      "Ishrat Ali\n",
      "Raj Tara\n",
      "Hrithik Roshan\n",
      "Ayesha Takia\n",
      "Shah Rukh Khan\n",
      "Amitabh Bachchan\n",
      "Aamir Khan\n",
      "Kangana Ranaut\n",
      "Ajay Devgn\n",
      "Ram Kapoor\n",
      "Sunil Shetty\n",
      "Ajay Devgn\n",
      "Akshay Kumar\n",
      "Arjun Rampal\n",
      "Arjun Rampal\n",
      "Aftab Shivdasani\n",
      "Salman Khan\n",
      "Emraan Hashmi\n",
      "Onjolee Nair\n",
      "Amarjeet\n",
      "Anupam Kher\n",
      "Amitabh Bachchan\n",
      "Rishi Kapoor\n",
      "Sanjay Dutt\n",
      "John Abraham\n",
      "Nassar Abdulla\n",
      "Rekha\n",
      "Paresh Rawal\n",
      "Ajay Devgn\n",
      "Rahul Bose\n",
      "Sunny Deol\n",
      "Akshay Kumar\n",
      "Fardeen Khan\n",
      "Akshay Kumar\n",
      "Jeetendra\n",
      "Sarika\n",
      "Aamir Khan\n",
      "Salman Khan\n",
      "Govinda\n",
      "Akshaye Khanna\n",
      "Salman Khan\n",
      "Mohit Ahlawat\n",
      "Mahima Chaudhry\n",
      "Ajay Devgn\n",
      "Mohammad Amir Naji\n",
      "Sanjay Dutt\n",
      "Irrfan Khan\n",
      "Aishwarya Rai Bachchan\n",
      "Nana Patekar\n",
      "Sunny Deol\n",
      "Shahid Kapoor\n",
      "Priyanshu Chatterjee\n",
      "Gurdas Maan\n",
      "Kangana Ranaut\n",
      "Paresh Rawal\n",
      "Jimmy Sheirgill\n",
      "Sushmita Sen\n",
      "Rakesh Bedi\n",
      "Emraan Hashmi\n",
      "Manisha Koirala\n",
      "Ajay Devgn\n",
      "Rekha\n",
      "Juhi Chawla\n",
      "Bobby Deol\n",
      "Anil Kapoor\n",
      "Amitabh Bachchan\n",
      "Sanjay Dutt\n",
      "Abhishek Bachchan\n",
      "Shawar Ali\n",
      "Ali Asgar\n",
      "Tabu\n",
      "Ajay Devgn\n",
      "Abhishek Bachchan\n",
      "Aryan Vaid\n",
      "Jatin Grewal\n",
      "Samir Aftab\n",
      "Anil Kapoor\n",
      "Randeep Hooda\n",
      "Akshay Kumar\n",
      "Saayli Buva\n",
      "Bipasha Basu\n",
      "Amitabh Bachchan\n",
      "Akshay Kumar\n",
      "Mithun Chakraborty\n",
      "Sanjay Dutt\n",
      "Arjun Rampal\n",
      "Shilpa Shetty Kundra\n",
      "Amitabh Bachchan\n",
      "Siddharth Koirala\n",
      "Fardeen Khan\n",
      "Ayesha Jhulka\n",
      "Aseel Adel\n",
      "Vivek Oberoi\n",
      "Akshay Kumar\n",
      "Shreyas Talpade\n",
      "Chiranjeevi\n",
      "Kay Kay Menon\n",
      "Akshay Kumar\n",
      "Sunny Deol\n",
      "John Abraham\n",
      "Ajay Devgn\n",
      "Kunal Khemu\n",
      "Lucky Ali\n",
      "Mukesh Khanna\n",
      "Mohit Ahlawat\n",
      "Vivek Oberoi\n",
      "Aftab Shivdasani\n",
      "Shilpa Shetty Kundra\n",
      "Kamal Adib\n",
      "Arshad Warsi\n",
      "Tusshar Kapoor\n",
      "Salman Khan\n",
      "Ajay Devgn\n",
      "Salman Khan\n",
      "Rajpal Yadav\n",
      "Anupam Kher\n",
      "Salman Khan\n",
      "Aamir Khan\n",
      "Dia Mirza\n",
      "Dev Anand\n",
      "Sanjay Suri\n",
      "Anil Kapoor\n",
      "Urmila Matondkar\n",
      "Uday Chopra\n",
      "Anil Kapoor\n",
      "Sunil Shetty\n",
      "Konkona Sen Sharma\n",
      "Shabana Azmi\n",
      "Saif Ali Khan\n",
      "Vinod Khanna\n",
      "Shah Rukh Khan\n",
      "Irrfan Khan\n",
      "Rishi Kapoor\n",
      "Saif Ali Khan\n",
      "Kashmira Shah\n",
      "Amitabh Bachchan\n",
      "Arshad Warsi\n",
      "Sanjay Dutt\n",
      "Ashutosh Rana\n",
      "Neha Dhupia\n",
      "Madhavan\n",
      "Tabu\n",
      "Abhay Deol\n",
      "Zulfi Sayed\n",
      "Ajay Devgn\n",
      "Nassar Abdulla\n",
      "Arjun Rampal\n",
      "Shahid Kapoor\n",
      "Aarti Chhabria\n",
      "Fardeen Khan\n",
      "Amitabh Bachchan\n",
      "Amitabh Bachchan\n",
      "Vikram Aditya\n",
      "Arjun Rampal\n",
      "Emraan Hashmi\n",
      "Shah Rukh Khan\n",
      "Shah Rukh Khan\n",
      "Ajay Devgn\n",
      "Salman Khan\n",
      "Abhishek Bachchan\n",
      "Amitabh Bachchan\n",
      "Saif Ali Khan\n",
      "Akshaye Khanna\n",
      "Mallika Sherawat\n",
      "Ajay Devgn\n",
      "Akshay Kumar\n",
      "Amitabh Bachchan\n",
      "Amitabh Bachchan\n",
      "Shatrughan Sinha\n",
      "Bobby Deol\n",
      "Kareena Kapoor\n",
      "Jimmy Sheirgill\n",
      "Arjun Rampal\n",
      "Jimmy Sheirgill\n",
      "Amitabh Bachchan\n",
      "Amitabh Bachchan\n",
      "Shahid Kapoor\n",
      "Salman Khan\n",
      "Jackie Shroff\n",
      "Naveen Bawa\n",
      "Vikaas Kalantari\n",
      "Tusshar Kapoor\n",
      "Kareena Kapoor\n",
      "Salman Khan\n",
      "Sunil Shetty\n",
      "Saif Ali Khan\n",
      "Isha Koppikar\n",
      "Akshay Kumar\n",
      "Aniket Vishwasrao\n",
      "Shawar Ali\n",
      "Tisca Chopra\n",
      "Neha Dhupia\n",
      "Raqesh Bapat\n",
      "Manoj Bajpayee\n",
      "Mallika Sherawat\n",
      "Dino Morea\n",
      "Sohail Khan\n",
      "Kiron Kher\n",
      "Bobby Deol\n",
      "Sunny Deol\n",
      "Sohail Khan\n",
      "Amitabh Bachchan\n",
      "Bipasha Basu\n",
      "Hrithik Roshan\n",
      "Dino Morea\n",
      "Irrfan Khan\n",
      "Aftab Shivdasani\n",
      "Tabu\n",
      "Anil Kapoor\n",
      "Prithviraj Kapoor\n",
      "Aftab Shivdasani\n",
      "Akshay Kumar\n",
      "Antara Mali\n",
      "Vinay Anand\n",
      "John Abraham\n",
      "Salman Khan\n",
      "Sanjay Dutt\n",
      "Akshay Kumar\n",
      "Manisha Koirala\n",
      "Akshay Kapoor\n",
      "Sanjay Dutt\n",
      "Ajay Devgn\n",
      "Sanjay Dutt\n",
      "Sanjay Suri\n",
      "Abhishek Bachchan\n",
      "Sunny Deol\n",
      "Aftab Shivdasani\n",
      "Shah Rukh Khan\n",
      "Vatsal Sheth\n",
      "Madhavan\n",
      "Tusshar Kapoor\n",
      "Emraan Hashmi\n",
      "Vicky Ahuja\n",
      "Shah Rukh Khan\n",
      "Tarun Arora\n",
      "Diwakar Pathak\n",
      "Arya Babbar\n",
      "Rekha\n",
      "Shah Rukh Khan\n",
      "Anupam Kher\n",
      "Shah Rukh Khan\n",
      "Sunny Deol\n",
      "Amitabh Bachchan\n",
      "Hrithik Roshan\n",
      "Sanjay Dutt\n",
      "Sanjay Dutt\n",
      "Sanjay Dutt\n",
      "Ajay Devgn\n",
      "Atul Kulkarni\n",
      "Naseeruddin Shah\n",
      "Arun Bakshi\n",
      "Priyanshu Chatterjee\n",
      "Ajay Devgn\n",
      "Amitabh Bachchan\n",
      "Sudesh Berry\n",
      "Akshay Kumar\n",
      "Akshay Kumar\n",
      "Amitabh Bachchan\n",
      "Ajay Devgn\n",
      "Anil Kapoor\n",
      "Jackie Shroff\n",
      "Sadashiv Amrapurkar\n",
      "Sooraj Balaji\n",
      "Arjun Rampal\n",
      "Sameera Reddy\n",
      "Om Puri\n",
      "Amar Upadhyaya\n",
      "Zayed Khan\n",
      "Nawazuddin Siddiqui\n",
      "Vivek Oberoi\n",
      "Kapil Jhaveri\n",
      "Nandita Das\n",
      "Aftab Shivdasani\n",
      "Manisha Koirala\n",
      "Rahul Bose\n",
      "Ajay Devgn\n",
      "Tabu\n",
      "Jimmy Sheirgill\n",
      "Sanjay Dutt\n",
      "Akshaye Khanna\n",
      "Vikram Dasu\n",
      "Reef Karim\n",
      "Jaz Pandher\n",
      "Rushali Arora\n",
      "Ashmit Patel\n",
      "Sunny Deol\n",
      "Shahid Kapoor\n",
      "Babbu Mann\n",
      "Javed Jaffrey\n",
      "Bipasha Basu\n",
      "Sanjay Suri\n",
      "Om Puri\n",
      "Juhi Babbar\n",
      "Sunny Deol\n",
      "Feroz Khan\n",
      "Amit Hingorani\n",
      "Fardeen Khan\n",
      "Himanshu Malik\n",
      "Tusshar Kapoor\n",
      "Aishwarya Rai Bachchan\n",
      "Antara Mali\n",
      "Victor Banerjee\n",
      "Manisha Koirala\n",
      "Attin Bhalla\n",
      "Riteish Deshmukh\n",
      "Rahul Bose\n",
      "Tulip Joshi\n",
      "Ajay Devgn\n",
      "Urmila Matondkar\n",
      "Abhishek Bachchan\n",
      "John Abraham\n",
      "Sushmita Sen\n",
      "Vikas Kalantri\n",
      "Raveena Tandon\n",
      "Tanishaa Mukerji\n",
      "Raveena Tandon\n",
      "Vijay Raaz\n",
      "Raveena Tandon\n",
      "Tanuja\n",
      "Ankit\n",
      "Sadashiv Amrapurkar\n",
      "Salman Khan\n",
      "Riteish Deshmukh\n",
      "Rakhee Gulzar\n",
      "Shabana Azmi\n",
      "Edwin Fernandes\n",
      "Tusshar Kapoor\n",
      "Sharman Joshi\n",
      "Dino Morea\n",
      "Ajay Devgn\n",
      "Arshad Warsi\n",
      "Shah Rukh Khan\n",
      "Amitabh Bachchan\n",
      "Alia Butt\n",
      "Amitabh Bachchan\n",
      "Vivek Oberoi\n",
      "Ajay Devgn\n",
      "Akshay Kumar\n"
     ]
    }
   ],
   "source": [
    "# looping\n",
    "for i in movies:\n",
    "  print(i)  # by default work on values"
   ]
  },
  {
   "cell_type": "code",
   "execution_count": null,
   "metadata": {
    "colab": {
     "base_uri": "https://localhost:8080/"
    },
    "executionInfo": {
     "elapsed": 70,
     "status": "ok",
     "timestamp": 1702244847346,
     "user": {
      "displayName": "Mohsin Raza",
      "userId": "02069157311777040551"
     },
     "user_tz": -300
    },
    "id": "DnhoInLdd0Fx",
    "outputId": "66f6fe26-1735-481c-81c2-cb96dbb19bf1"
   },
   "outputs": [
    {
     "name": "stdout",
     "output_type": "stream",
     "text": [
      "Uri: The Surgical Strike\n",
      "Battalion 609\n",
      "The Accidental Prime Minister (film)\n",
      "Why Cheat India\n",
      "Evening Shadows\n",
      "Soni (film)\n",
      "Fraud Saiyaan\n",
      "Bombairiya\n",
      "Manikarnika: The Queen of Jhansi\n",
      "Thackeray (film)\n",
      "Amavas\n",
      "Gully Boy\n",
      "Hum Chaar\n",
      "Total Dhamaal\n",
      "Sonchiriya\n",
      "Badla (2019 film)\n",
      "Mard Ko Dard Nahi Hota\n",
      "Hamid (film)\n",
      "Photograph (film)\n",
      "Risknamaa\n",
      "Mere Pyare Prime Minister\n",
      "22 Yards\n",
      "Kesari (film)\n",
      "Notebook (2019 film)\n",
      "Junglee (2019 film)\n",
      "Gone Kesh\n",
      "Albert Pinto Ko Gussa Kyun Aata Hai?\n",
      "The Tashkent Files\n",
      "Kalank\n",
      "Setters (film)\n",
      "Student of the Year 2\n",
      "PM Narendra Modi\n",
      "De De Pyaar De\n",
      "India's Most Wanted (film)\n",
      "Yeh Hai India\n",
      "Khamoshi (2019 film)\n",
      "Kabir Singh\n",
      "Article 15 (film)\n",
      "One Day: Justice Delivered\n",
      "Hume Tumse Pyaar Kitna\n",
      "Super 30 (film)\n",
      "Family of Thakurganj\n",
      "Batla House\n",
      "Jhootha Kahin Ka\n",
      "Judgementall Hai Kya\n",
      "Chicken Curry Law\n",
      "Arjun Patiala\n",
      "Jabariya Jodi\n",
      "Pranaam\n",
      "The Sky Is Pink\n",
      "Mission Mangal\n",
      "Saaho\n",
      "Dream Girl (2019 film)\n",
      "Section 375\n",
      "The Zoya Factor (film)\n",
      "Pal Pal Dil Ke Paas\n",
      "Prassthanam\n",
      "P Se Pyaar F Se Faraar\n",
      "Ghost (2019 film)\n",
      "Bala (2019 film)\n",
      "Yaaram (2019 film)\n",
      "Housefull 4\n",
      "Saand Ki Aankh\n",
      "Made in China (2019 film)\n",
      "Ujda Chaman\n",
      "Bypass Road (film)\n",
      "Satellite Shankar\n",
      "Jhalki\n",
      "Marjaavaan\n",
      "Motichoor Chaknachoor\n",
      "Keep Safe Distance (film)\n",
      "Pagalpanti (2019 film)\n",
      "Ramprasad Ki Tehrvi\n",
      "Yeh Saali Aashiqui\n",
      "Dil Bechara\n",
      "Pati Patni Aur Woh (2019 film)\n",
      "Commando 3 (film)\n",
      "Mardaani 2\n",
      "Dabangg 3\n",
      "Good Newwz\n",
      "Kaalakaandi\n",
      "Vodka Diaries\n",
      "My Birthday Song\n",
      "Nirdosh\n",
      "Mukkabaaz\n",
      "Union Leader (film)\n",
      "Love per Square Foot\n",
      "Aiyaary\n",
      "Padmaavat\n",
      "Kuchh Bheege Alfaaz\n",
      "Jaane Kyun De Yaaron\n",
      "Veerey Ki Wedding\n",
      "Sonu Ke Titu Ki Sweety\n",
      "Hate Story 4\n",
      "Dil Juunglee\n",
      "3 Storeys\n",
      "Raid (2018 film)\n",
      "Hichki\n",
      "Missing (2018 film)\n",
      "Baaghi 2\n",
      "October (2018 film)\n",
      "Mercury (film)\n",
      "Beyond the Clouds (2017 film)\n",
      "Nanu Ki Jaanu\n",
      "Daas Dev\n",
      "Omerta (film)\n",
      "Raazi\n",
      "Hope Aur Hum\n",
      "High Jack (film)\n",
      "Khajoor Pe Atke\n",
      "Parmanu: The Story of Pokhran\n",
      "Bioscopewala\n",
      "Bhavesh Joshi Superhero\n",
      "Phamous\n",
      "Race 3\n",
      "Dhadak\n",
      "Sanju\n",
      "Saheb Biwi Aur Gangster 3\n",
      "Nawabzaade\n",
      "Mulk (film)\n",
      "Brij Mohan Amar Rahe\n",
      "Karwaan\n",
      "Gold (2018 film)\n",
      "Satyameva Jayate (2018 film)\n",
      "Happy Phirr Bhag Jayegi\n",
      "Genius (2018 Hindi film)\n",
      "Yamla Pagla Deewana: Phir Se\n",
      "Stree (2018 film)\n",
      "Paltan (film)\n",
      "Laila Majnu (2018 film)\n",
      "Gali Guleiyan\n",
      "Halkaa\n",
      "Pataakha\n",
      "Batti Gul Meter Chalu\n",
      "Love Sonia\n",
      "Manto (2018 film)\n",
      "Ishqeria\n",
      "Manmarziyaan\n",
      "Mitron\n",
      "Sui Dhaaga\n",
      "Baazaar\n",
      "Jalebi (film)\n",
      "FryDay\n",
      "Tumbbad\n",
      "Helicopter Eela\n",
      "Namaste England\n",
      "Andhadhun\n",
      "Badhaai Ho\n",
      "5 Weddings\n",
      "Kaashi in Search of Ganga\n",
      "Dassehra\n",
      "The Journey of Karma\n",
      "Jack and Dil\n",
      "Mohalla Assi\n",
      "Pihu\n",
      "Bhaiaji Superhit\n",
      "Rajma Chawal\n",
      "Zero (2018 film)\n",
      "Simmba\n",
      "Tiger Zinda Hai\n",
      "Golmaal Again\n",
      "Judwaa 2\n",
      "Ok Jaanu\n",
      "Coffee with D\n",
      "Kaabil\n",
      "Raees (film)\n",
      "Thugs of Hindostan\n",
      "Hind Ka Napak Ko Jawab: MSG Lion Heart 2\n",
      "Running Shaadi\n",
      "The Ghazi Attack\n",
      "Irada (2017 film)\n",
      "Rangoon (2017 Hindi film)\n",
      "Wedding Anniversary\n",
      "Jeena Isi Ka Naam Hai (film)\n",
      "Badrinath Ki Dulhania\n",
      "Trapped (2016 Hindi film)\n",
      "Aa Gaya Hero\n",
      "Mantra (2016 film)\n",
      "Phillauri (film)\n",
      "Machine (2017 film)\n",
      "Bhanwarey\n",
      "Anaarkali of Aarah\n",
      "Naam Shabana\n",
      "Hotel Salvation\n",
      "Begum Jaan\n",
      "Noor (film)\n",
      "Ek Thi Rani Aisi Bhi\n",
      "Maatr\n",
      "Sarkar 3\n",
      "Jattu Engineer\n",
      "Half Girlfriend (film)\n",
      "Meri Pyaari Bindu\n",
      "Sachin: A Billion Dreams\n",
      "Hindi Medium\n",
      "Sweetiee Weds NRI\n",
      "Dobaara: See Your Evil\n",
      "Flat 211\n",
      "Dear Maya\n",
      "Raabta (film)\n",
      "Behen Hogi Teri\n",
      "Tubelight (2017 Hindi film)\n",
      "Bank Chor\n",
      "Ek Haseena Thi Ek Deewana Tha\n",
      "Jagga Jasoos\n",
      "Shab (film)\n",
      "Lipstick Under My Burkha\n",
      "Bachche Kachche Sachche\n",
      "G Kutta Se\n",
      "Indu Sarkar\n",
      "Jab Harry Met Sejal\n",
      "Munna Michael\n",
      "Toilet: Ek Prem Katha\n",
      "Mubarakan\n",
      "Guest iin London\n",
      "Bareilly Ki Barfi\n",
      "Babumoshai Bandookbaaz\n",
      "Yadvi – The Dignified Princess\n",
      "Qaidi Band\n",
      "Shubh Mangal Saavdhan\n",
      "Raag Desh (film)\n",
      "Daddy (2017 film)\n",
      "Simran (film)\n",
      "Lucknow Central\n",
      "A Gentleman\n",
      "Viceroy's House (film)\n",
      "Patel Ki Punjabi Shaadi\n",
      "Newton (film)\n",
      "The Final Exit\n",
      "Bhoomi (film)\n",
      "Haseena Parkar\n",
      "JD (film)\n",
      "Haraamkhor\n",
      "Poster Boys\n",
      "Mom (film)\n",
      "Chef (2017 film)\n",
      "Ranchi Diaries\n",
      "Babuji Ek Ticket Bambai\n",
      "Rukh (film)\n",
      "Secret Superstar\n",
      "Aval (2017 film)\n",
      "Ribbon (film)\n",
      "Shaadi Mein Zaroor Aana\n",
      "Jia Aur Jia\n",
      "Qarib Qarib Singlle\n",
      "Aksar 2\n",
      "Panchlait\n",
      "Tumhari Sulu\n",
      "Julie 2\n",
      "Kadvi Hawa\n",
      "Firangi\n",
      "Fukrey Returns\n",
      "Monsoon Shootout\n",
      "Ajji\n",
      "Chalk n Duster\n",
      "Rebellious Flower\n",
      "Saankal\n",
      "Airlift (film)\n",
      "Sallu Ki Shaadi\n",
      "Irudhi Suttru\n",
      "Kyaa Kool Hain Hum 3\n",
      "Mastizaade\n",
      "Dil Jo Na Keh Saka\n",
      "Jugni (2016 film)\n",
      "Ghayal: Once Again\n",
      "Fitoor\n",
      "Sanam Re\n",
      "Direct Ishq\n",
      "Ishq Forever\n",
      "Loveshhuda\n",
      "Neerja\n",
      "Aligarh (film)\n",
      "Bollywood Diaries\n",
      "Love Shagun\n",
      "Tere Bin Laden: Dead or Alive\n",
      "Jai Gangaajal\n",
      "Kapoor & Sons\n",
      "Rocky Handsome\n",
      "Love Games (film)\n",
      "Fan (film)\n",
      "Nil Battey Sannata\n",
      "Laal Rang\n",
      "Baaghi (2016 film)\n",
      "Global Baba\n",
      "Shortcut Safari\n",
      "The Blueberry Hunt\n",
      "Santa Banta Pvt Ltd\n",
      "Traffic (2016 film)\n",
      "1920: London\n",
      "Azhar (film)\n",
      "Buddha in a Traffic Jam\n",
      "Murari the Mad Gentleman\n",
      "Dear Dad (film)\n",
      "Phobia (2016 film)\n",
      "Sarbjit (film)\n",
      "Veerappan (2016 film)\n",
      "Do Lafzon Ki Kahani (film)\n",
      "Te3n\n",
      "Udta Punjab\n",
      "Khel Toh Ab Shuru Hoga\n",
      "Luv U Alia\n",
      "7 Hours to Go\n",
      "Raman Raghav 2.0\n",
      "Junooniyat\n",
      "Rough Book\n",
      "Dhanak\n",
      "Fredrick (film)\n",
      "Dil Toh Deewana Hai\n",
      "Sultan (2016 film)\n",
      "Brahman Naman\n",
      "Great Grand Masti\n",
      "Waiting (2015 film)\n",
      "Ishq Click\n",
      "M Cream\n",
      "Madaari\n",
      "Dishoom\n",
      "Fever (2016 film)\n",
      "Rustom (film)\n",
      "Hai Apna Dil Toh Awara\n",
      "Mohenjo Daro (film)\n",
      "Happy Bhag Jayegi\n",
      "Waarrior Savitri\n",
      "A Flying Jatt\n",
      "Baar Baar Dekho\n",
      "Freaky Ali\n",
      "Raaz: Reboot\n",
      "Pink (2016 film)\n",
      "Parched\n",
      "Banjo (2016 film)\n",
      "Days of Tafree\n",
      "Wah Taj\n",
      "Island City (2015 film)\n",
      "Ek Kahani Julie Ki\n",
      "M.S. Dhoni: The Untold Story\n",
      "MSG: The Warrior Lion Heart\n",
      "Devi (2016 film)\n",
      "Motu Patlu: King of Kings\n",
      "Anna (2016 film)\n",
      "Fuddu\n",
      "Saat Uchakkey\n",
      "Beiimaan Love\n",
      "Umrika\n",
      "Shivaay\n",
      "Dongari Ka Raja\n",
      "Ae Dil Hai Mushkil\n",
      "Tum Bin II\n",
      "Rock On 2\n",
      "Force 2\n",
      "Dear Zindagi\n",
      "Befikre\n",
      "Moh Maya Money\n",
      "Shorgul\n",
      "Saansein\n",
      "Ki & Ka\n",
      "Wajah Tum Ho\n",
      "Dangal (film)\n",
      "Mirzya (film)\n",
      "Prem Ratan Dhan Payo\n",
      "Tanu Weds Manu: Returns\n",
      "Tanu Weds Manu: Returns\n",
      "31st October (film)\n",
      "ABCD 2\n",
      "Dilwale (2015 film)\n",
      "Bajrangi Bhaijaan\n",
      "Bajirao Mastani\n",
      "Welcome Back (film)\n",
      "Baby (2015 Hindi film)\n",
      "Singh Is Bliing\n",
      "Gabbar Is Back\n",
      "Gabbar Is Back\n",
      "Mumbai Can Dance Saala\n",
      "Alone (2015 Hindi film)\n",
      "Tevar\n",
      "Sharafat Gayi Tel Lene\n",
      "Dolly Ki Doli\n",
      "Hawaizaada\n",
      "Khamoshiyan\n",
      "Rahasya\n",
      "Jai Jawaan Jai Kisaan (film)\n",
      "Shamitabh\n",
      "Roy (film)\n",
      "Badlapur (film)\n",
      "Crazy Cukkad Family\n",
      "Take It Easy (2015 film)\n",
      "Qissa (film)\n",
      "Ab Tak Chhappan 2\n",
      "Dum Laga Ke Haisha\n",
      "Dirty Politics (film)\n",
      "MSG: The Messenger\n",
      "Badmashiyaan\n",
      "Coffee Bloom\n",
      "Hey Bro\n",
      "NH10 (film)\n",
      "Hunterrr\n",
      "Detective Byomkesh Bakshy!\n",
      "Luckhnowi Ishq\n",
      "Court (film)\n",
      "Margarita with a Straw\n",
      "Ek Paheli Leela\n",
      "Barkhaa\n",
      "Mr. X (2015 film)\n",
      "NH-8 Road to Nidhivan\n",
      "Dilliwali Zaalim Girlfriend\n",
      "Dharam Sankat Mein\n",
      "Kaagaz Ke Fools\n",
      "Kuch Kuch Locha Hai\n",
      "Piku\n",
      "Bombay Velvet\n",
      "I Love Desi\n",
      "Dil Dhadakne Do\n",
      "Welcome 2 Karachi\n",
      "P Se PM Tak\n",
      "Mere Genie Uncle\n",
      "Hamari Adhuri Kahani\n",
      "Miss Tanakpur Haazir Ho\n",
      "Uvaa\n",
      "Ishq Ke Parindey\n",
      "Ishqedarriyaan\n",
      "Sabki Bajegi Band\n",
      "Masaan\n",
      "Guddu Rangeela\n",
      "Bezubaan Ishq\n",
      "Aisa Yeh Jahaan\n",
      "Second Hand Husband\n",
      "I Love NY (2015 film)\n",
      "Main Hoon Part-Time Killer\n",
      "Kaun Kitne Paani Mein\n",
      "Drishyam (2015 film)\n",
      "Bangistan\n",
      "All Is Well (2015 film)\n",
      "Brothers (2015 film)\n",
      "Gour Hari Dastaan\n",
      "Manjhi – The Mountain Man\n",
      "Thoda Lutf Thoda Ishq\n",
      "Phantom (2015 film)\n",
      "Hero (2015 Hindi film)\n",
      "Sorry Daddy\n",
      "Talvar (film)\n",
      "Katti Batti\n",
      "Meeruthiya Gangsters\n",
      "MSG-2 The Messenger\n",
      "Calendar Girls (2015 film)\n",
      "Bhaag Johnny\n",
      "Jazbaa\n",
      "Bumper Draw\n",
      "Chinar Daastaan-E-Ishq\n",
      "Kis Kisko Pyaar Karoon\n",
      "Pyaar Ka Punchnama 2\n",
      "Wedding Pullav\n",
      "Shaandaar\n",
      "Titli (2014 film)\n",
      "Guddu Ki Gun\n",
      "The Silent Heroes\n",
      "Ranbanka\n",
      "Sholay\n",
      "Dedh Ishqiya\n",
      "Karle Pyaar Karle\n",
      "Om-Dar-B-Dar\n",
      "Paranthe Wali Gali\n",
      "Strings of Passion\n",
      "Gunday\n",
      "Jai Ho (film)\n",
      "Hasee Toh Phasee\n",
      "Heartless (2014 film)\n",
      "Ya Rab\n",
      "Darr @ the Mall\n",
      "One by Two (2014 film)\n",
      "Babloo Happy Hai\n",
      "Highway (2014 Hindi film)\n",
      "Gulabi Gang (film)\n",
      "Shaadi Ke Side Effects\n",
      "Gulaab Gang\n",
      "Queen (2014 film)\n",
      "Bewakoofiyaan\n",
      "Total Siyapaa\n",
      "Karar: The Deal\n",
      "Lakshmi (2014 film)\n",
      "Ragini MMS 2\n",
      "Dishkiyaoon\n",
      "Ankhon Dekhi\n",
      "Gang of Ghosts\n",
      "Anuradha (2014 film)\n",
      "W (2014 film)\n",
      "O Teri\n",
      "Honour Killing (film)\n",
      "2 States (2014 film)\n",
      "Jal (film)\n",
      "Bhoothnath Returns\n",
      "Main Tera Hero\n",
      "Lucky Kabootar\n",
      "Station (2014 film)\n",
      "Youngistaan\n",
      "Samrat & Co.\n",
      "Purani Jeans\n",
      "Kya Dilli Kya Lahore\n",
      "Koyelaanchal\n",
      "Manjunath (film)\n",
      "Dekh Tamasha Dekh\n",
      "Mastram\n",
      "The Xposé\n",
      "Children of War (2014 film)\n",
      "Hawaa Hawaai\n",
      "Kahin Hai Mera Pyar\n",
      "Kuku Mathur Ki Jhand Ho Gayi\n",
      "Heropanti\n",
      "CityLights (2014 film)\n",
      "Filmistaan\n",
      "Revolver Rani\n",
      "Kaanchi: The Unbreakable\n",
      "Machhli Jal Ki Rani Hai\n",
      "Khwaabb\n",
      "Yeh Hai Bakrapur\n",
      "Ek Villain\n",
      "Bobby Jasoos\n",
      "Humshakals\n",
      "Humpty Sharma Ki Dulhania\n",
      "Hate Story 2\n",
      "Lekar Hum Deewana Dil\n",
      "Riyasat (film)\n",
      "Amit Sahni Ki List\n",
      "Holiday: A Soldier Is Never Off Duty\n",
      "Fugly (film)\n",
      "Bazaar E Husn\n",
      "Pizza (2014 film)\n",
      "Entertainment (2014 film)\n",
      "Singham Returns\n",
      "Mardaani\n",
      "Raja Natwarlal\n",
      "Mary Kom (film)\n",
      "Creature 3D\n",
      "Finding Fanny\n",
      "Khoobsurat (2014 film)\n",
      "3 A.M. (2014 film)\n",
      "Kick (2014 film)\n",
      "Mad About Dance\n",
      "Mumbhai Connection\n",
      "Life Is Beautiful (2014 film)\n",
      "Desi Kattey\n",
      "Haider (film)\n",
      "Bang Bang!\n",
      "Spark (2014 film)\n",
      "Daawat-e-Ishq\n",
      "Balwinder Singh Famous Ho Gaya\n",
      "Jigariyaa\n",
      "Tamanchey\n",
      "Mumbai 125 KM\n",
      "Meinu Ek Ladki Chaahiye\n",
      "Chaarfutiya Chhokare\n",
      "Sonali Cable\n",
      "Happy New Year (2014 film)\n",
      "Super Nani\n",
      "Ekkees Toppon Ki Salaami\n",
      "Rang Rasiya\n",
      "The Shaukeens\n",
      "Roar: Tigers of the Sundarbans\n",
      "A Decent Arrangement\n",
      "Gollu Aur Pappu\n",
      "Titoo MBA\n",
      "Kill Dil\n",
      "Ungli\n",
      "Happy Ending (film)\n",
      "Zed Plus\n",
      "Zid (2014 film)\n",
      "Action Jackson (2014 film)\n",
      "Bhopal: A Prayer for Rain\n",
      "Mumbai Delhi Mumbai\n",
      "Badlapur Boys\n",
      "Main Aur Mr. Riight\n",
      "Ugly (film)\n",
      "PK (film)\n",
      "Dehraadun Diary\n",
      "Matru Ki Bijlee Ka Mandola\n",
      "Sulemani Keeda\n",
      "Inkaar (2013 film)\n",
      "Gangoobai\n",
      "Akaash Vani\n",
      "Main Krishna Hoon\n",
      "Race 2\n",
      "Bandook\n",
      "Listen... Amaya\n",
      "Special 26\n",
      "Murder 3\n",
      "Zila Ghaziabad\n",
      "Kai Po Che!\n",
      "Bloody Isshq\n",
      "Saare Jahaan Se Mehnga\n",
      "3G (film)\n",
      "Mere Dad Ki Maruti\n",
      "Jolly LLB\n",
      "Saheb Biwi Aur Gangster Returns\n",
      "Mai (2013 film)\n",
      "Vishwaroopam\n",
      "Rangrezz\n",
      "Aashiqui 2\n",
      "Ek Thi Daayan\n",
      "Himmatwala (2013 film)\n",
      "Nautanki Saala!\n",
      "Jayantabhai Ki Luv Story\n",
      "Commando: A One Man Army\n",
      "Bombay Talkies (film)\n",
      "Go Goa Gone\n",
      "Gippi\n",
      "Aurangzeb (film)\n",
      "Ishkq in Paris\n",
      "Zindagi 50-50\n",
      "Yeh Jawaani Hai Deewani\n",
      "Fukrey\n",
      "Chhota Bheem and the Throne of Bali\n",
      "Raanjhanaa\n",
      "Ankur Arora Murder Case\n",
      "Shortcut Romeo\n",
      "Ghanchakkar (film)\n",
      "Hum Hai Raahi Car Ke\n",
      "Policegiri\n",
      "Bhaag Milkha Bhaag\n",
      "Sixteen (2013 Indian film)\n",
      "B.A. Pass\n",
      "Enemmy\n",
      "Issaq\n",
      "Bajatey Raho\n",
      "Luv U Soniyo\n",
      "Nasha (film)\n",
      "Chor Chor Super Chor\n",
      "Calapor (film)\n",
      "Love in Bombay\n",
      "D-Day (2013 film)\n",
      "Siddharth (2013 film)\n",
      "Once Upon ay Time in Mumbai Dobaara!\n",
      "Madras Cafe\n",
      "Satyagraha (film)\n",
      "Shuddh Desi Romance\n",
      "Ramaiya Vastavaiya\n",
      "Chennai Express\n",
      "Grand Masti\n",
      "John Day (film)\n",
      "Horror Story (film)\n",
      "Phata Poster Nikhla Hero\n",
      "Ship of Theseus (film)\n",
      "The Lunchbox\n",
      "Baat Bann Gayi\n",
      "Boss (2013 Hindi film)\n",
      "Shahid (film)\n",
      "Mickey Virus\n",
      "Satya 2\n",
      "Rajjo\n",
      "Maazii\n",
      "Sooper Se Ooper\n",
      "Prague (2013 film)\n",
      "Wake Up India\n",
      "Super Model (film)\n",
      "Gori Tere Pyaar Mein\n",
      "What the Fish\n",
      "Jackpot (2013 film)\n",
      "Table No. 21\n",
      "Bullett Raja\n",
      "Dhoom 3\n",
      "Chashme Baddoor (2013 film)\n",
      "Lootera\n",
      "War Chhod Na Yaar\n",
      "Chaalis Chauraasi\n",
      "Ghost (2012 film)\n",
      "Sadda Adda\n",
      "Singh Saab the Great\n",
      "Goliyon Ki Raasleela Ram-Leela\n",
      "Agneepath (2012 film)\n",
      "Ek Main Aur Ekk Tu\n",
      "Ekk Deewana Tha\n",
      "?: A Question Mark\n",
      "Jodi Breakers\n",
      "Tere Naal Love Ho Gaya\n",
      "Staying Alive (2012 film)\n",
      "Paan Singh Tomar (film)\n",
      "Kahaani\n",
      "Zindagi Tere Naam\n",
      "Agent Vinod (2012 film)\n",
      "Blood Money (2012 film)\n",
      "Bumboo\n",
      "Valentine's Night\n",
      "Married 2 America\n",
      "Chaar Din Ki Chandni\n",
      "Bittoo Boss\n",
      "Vicky Donor\n",
      "Hate Story\n",
      "Tezz\n",
      "Dangerous Ishhq\n",
      "Ishaqzaade\n",
      "Department (film)\n",
      "Fatso!\n",
      "Arjun: The Warrior Prince\n",
      "Life Ki Toh Lag Gayi\n",
      "Shanghai (2012 film)\n",
      "Ferrari Ki Sawaari\n",
      "Teri Meri Kahaani (film)\n",
      "Mr. Bhatti on Chutti\n",
      "Yeh Khula Aasmaan\n",
      "Rakhtbeej\n",
      "Gangs of Wasseypur\n",
      "Gangs of Wasseypur – Part 2\n",
      "Cocktail (2012 film)\n",
      "Gattu\n",
      "Kyaa Super Kool Hain Hum\n",
      "Maximum (film)\n",
      "Paanch Ghantey Mien Paanch Crore\n",
      "Ek Tha Tiger\n",
      "Challo Driver\n",
      "Shirin Farhad Ki Toh Nikal Padi\n",
      "Joker (2012 film)\n",
      "Aalaap (film)\n",
      "Mere Dost Picture Abhi Baki Hai\n",
      "Krishna Aur Kans\n",
      "From Sydney with Love\n",
      "Jalpari: The Desert Mermaid\n",
      "Barfi!\n",
      "Heroine (2012 film)\n",
      "Chal Pichchur Banate Hain\n",
      "Kismat Love Paisa Dilli\n",
      "Jeena Hai Toh Thok Daal\n",
      "OMG – Oh My God!\n",
      "Aiyyaa\n",
      "Chittagong (film)\n",
      "Bhoot Returns\n",
      "Delhi Safari\n",
      "Chakravyuh (2012 film)\n",
      "Student of the Year\n",
      "Ajab Gazabb Love\n",
      "Rush (2012 film)\n",
      "1920: The Evil Returns\n",
      "Sons of Ram\n",
      "Ata Pata Laapata\n",
      "Jab Tak Hai Jaan\n",
      "Talaash: The Answer Lies Within\n",
      "Login (film)\n",
      "Son of Sardaar\n",
      "Cigarette Ki Tarah\n",
      "Dabangg 2\n",
      "Players (2012 film)\n",
      "Housefull 2\n",
      "Bol Bachchan\n",
      "English Vinglish\n",
      "Impatient Vivek\n",
      "Yamla Pagla Deewana\n",
      "Mumbai Mast Kallander\n",
      "Dhobi Ghat (film)\n",
      "Turning 30\n",
      "Hostel (2011 film)\n",
      "Dil Toh Baccha Hai Ji\n",
      "United Six\n",
      "Utt Pataang\n",
      "Patiala House (film)\n",
      "7 Khoon Maaf\n",
      "Tanu Weds Manu\n",
      "F.A.L.T.U\n",
      "Memories in March\n",
      "Thank You (2011 film)\n",
      "Angel (2011 film)\n",
      "Happy Husbands (2011 film)\n",
      "Teen Thay Bhai\n",
      "Dum Maaro Dum (film)\n",
      "Shor in the City\n",
      "Zokkomon\n",
      "Chalo Dilli\n",
      "Aashiqui.in\n",
      "Satrangee Parachute\n",
      "Monica (film)\n",
      "I Am (2010 Indian film)\n",
      "Naughty @ 40\n",
      "Haunted – 3D\n",
      "Love U...Mr. Kalakaar!\n",
      "Ragini MMS\n",
      "Stanley Ka Dabba\n",
      "Shagird (2011 film)\n",
      "404 (film)\n",
      "Shaitan (film)\n",
      "Pyaar Ka Punchnama\n",
      "Bheja Fry 2\n",
      "Always Kabhi Kabhi\n",
      "Double Dhamaal\n",
      "Bbuddah... Hoga Terra Baap\n",
      "Delhi Belly (film)\n",
      "Murder 2\n",
      "Chillar Party\n",
      "Zindagi Na Milegi Dobara\n",
      "Dear Friend Hitler\n",
      "I Am Kalam\n",
      "Bin Bulaye Baraati\n",
      "Kucch Luv Jaisaa\n",
      "Singham\n",
      "Khap (film)\n",
      "Bubble Gum (film)\n",
      "Shabri\n",
      "Phhir\n",
      "Aarakshan\n",
      "Chatur Singh Two Star\n",
      "Sahi Dhandhe Galat Bande\n",
      "Bodyguard (2011 Hindi film)\n",
      "Yeh Dooriyan\n",
      "Not a Love Story (2011 film)\n",
      "Hum Tum Shabana\n",
      "Mummy Punjabi\n",
      "Mere Brother Ki Dulhan\n",
      "Mausam (2011 film)\n",
      "U R My Jaan\n",
      "Force (2011 film)\n",
      "Saheb Biwi Aur Gangster\n",
      "Tere Mere Phere\n",
      "Breakaway (2011 film)\n",
      "Chargesheet (film)\n",
      "Love Breakups Zindagi\n",
      "Mujhse Fraaandship Karoge\n",
      "Aazaan\n",
      "Ra.One\n",
      "Rockstar (2011 film)\n",
      "Miley Naa Miley Hum\n",
      "Tell Me O Kkhuda\n",
      "Damadamm!\n",
      "Ladies vs Ricky Bahl\n",
      "Desi Boyz\n",
      "Game (2011 film)\n",
      "No One Killed Jessica\n",
      "Rascals (2011 film)\n",
      "The Dirty Picture\n",
      "Pyaar Impossible!\n",
      "Chance Pe Dance\n",
      "My Friend Pinto\n",
      "Veer (2010 film)\n",
      "Striker (2010 film)\n",
      "Rann (film)\n",
      "Ishqiya\n",
      "Road to Sangam\n",
      "Jo Hum Chahein\n",
      "Click (2010 film)\n",
      "Toh Baat Pakki!\n",
      "My Name Is Khan\n",
      "Teen Patti (film)\n",
      "Karthik Calling Karthik\n",
      "Don 2\n",
      "Rokkk\n",
      "Aakhari Decision\n",
      "Right Yaaa Wrong\n",
      "Sukhmani: Hope for Life\n",
      "Thanks Maa\n",
      "Na Ghar Ke Na Ghaat Ke\n",
      "Trump Card (film)\n",
      "Shaapit\n",
      "Hum Tum Aur Ghost\n",
      "Well Done Abba\n",
      "Tum Milo Toh Sahi\n",
      "Jaane Kahan Se Aayi Hai\n",
      "Prem Kaa Game\n",
      "Sadiyaan\n",
      "The Japanese Wife\n",
      "Paathshaala\n",
      "Phoonk 2\n",
      "Lahore (film)\n",
      "Apartment (film)\n",
      "City of Gold (2010 film)\n",
      "Chase (2010 film)\n",
      "Housefull (2010 film)\n",
      "Mittal v/s Mittal\n",
      "It's a Wonderful Afterlife\n",
      "Prince (2010 film)\n",
      "Raavan\n",
      "Bumm Bumm Bole\n",
      "Kushti (film)\n",
      "Kites (film)\n",
      "Love Sex Aur Dhokha\n",
      "Milenge Milenge\n",
      "Ek Second... Jo Zindagi Badal De?\n",
      "Mr. Singh Mrs. Mehta\n",
      "Lamhaa\n",
      "Khatta Meetha (2010 film)\n",
      "Tere Bin Laden\n",
      "Udaan (2010 film)\n",
      "Once Upon a Time in Mumbaai\n",
      "Help (film)\n",
      "Peepli Live\n",
      "Lafangey Parindey\n",
      "Hello Darling\n",
      "Antardwand\n",
      "Aashayein\n",
      "Soch Lo\n",
      "Dabangg\n",
      "Khichdi: The Movie\n",
      "Red Alert: The War Within\n",
      "Life Express (2010 film)\n",
      "The Film Emotional Atyachar\n",
      "Hisss\n",
      "Crook (film)\n",
      "Do Dooni Chaar\n",
      "Aakrosh (2010 film)\n",
      "Ramayana: The Epic\n",
      "Knock Out (2010 film)\n",
      "Jhootha Hi Sahi\n",
      "Guzaarish (film)\n",
      "Allah Ke Banday\n",
      "Break Ke Baad\n",
      "Khuda Kasam\n",
      "Phas Gaye Re Obama\n",
      "Malik Ek\n",
      "A Flat (film)\n",
      "No Problem (2010 film)\n",
      "Band Baaja Baaraat\n",
      "Kaalo\n",
      "Mirch\n",
      "Tees Maar Khan (2010 film)\n",
      "Isi Life Mein\n",
      "Toonpur Ka Super Hero\n",
      "Tera Kya Hoga Johnny\n",
      "Ramaa: The Saviour\n",
      "I Hate Luv Storys\n",
      "Dulha Mil Gaya\n",
      "Anjaana Anjaani\n",
      "Dunno Y... Na Jaane Kyon\n",
      "Pankh\n",
      "Action Replayy\n",
      "3 Idiots\n",
      "Luck by Chance\n",
      "Love Aaj Kal\n",
      "Wanted (2009 film)\n",
      "Delhi-6\n",
      "Raaz: The Mystery Continues\n",
      "Aasma: The Sky Is the Limit\n",
      "Ajab Prem Ki Ghazab Kahani\n",
      "Chal Chala Chal\n",
      "Billu\n",
      "The Stoneman Murders\n",
      "Kisse Pyaar Karoon\n",
      "Dhoondte Reh Jaaoge\n",
      "Karma Aur Holi\n",
      "Victory (2009 film)\n",
      "Kaminey\n",
      "Jai Veeru\n",
      "Little Zizou\n",
      "Gulaal (film)\n",
      "Aloo Chaat (film)\n",
      "Barah Aana\n",
      "Firaaq\n",
      "Aa Dekhen Zara\n",
      "99 (2009 film)\n",
      "Ek: The Power of One\n",
      "Ek Se Bure Do\n",
      "Sikandar (2009 film)\n",
      "Zor Lagaa Ke...Haiya!\n",
      "Paying Guests\n",
      "New York (2009 film)\n",
      "Sankat City\n",
      "Shortkut\n",
      "Luck (2009 film)\n",
      "Life Partner\n",
      "Daddy Cool (2009 Hindi film)\n",
      "Kisaan\n",
      "Yeh Mera India\n",
      "Aagey Se Right\n",
      "Chintu Ji\n",
      "Quick Gun Murugun\n",
      "Fox (film)\n",
      "Baabarr\n",
      "Phir Kabhi\n",
      "Vaada Raha\n",
      "Dil Bole Hadippa!\n",
      "What's Your Raashee?\n",
      "Acid Factory\n",
      "All the Best: Fun Begins\n",
      "Wake Up Sid\n",
      "Main Aurr Mrs Khanna\n",
      "Blue (2009 film)\n",
      "Fruit and Nut (film)\n",
      "Aladin (film)\n",
      "London Dreams\n",
      "Jail (2009 film)\n",
      "Tum Mile\n",
      "Kurbaan (2009 film)\n",
      "De Dana Dan\n",
      "Paa (film)\n",
      "Rocket Singh: Salesman of the Year\n",
      "Raat Gayi Baat Gayi?\n",
      "Accident on Hill Road\n",
      "Chandni Chowk to China\n",
      "Dostana (2008 film)\n",
      "Race (2008 film)\n",
      "Rab Ne Bana Di Jodi\n",
      "Ghajini (2008 film)\n",
      "Singh Is Kinng\n",
      "Golmaal Returns\n",
      "Jodhaa Akbar\n",
      "Bachna Ae Haseeno\n",
      "Bhoothnath\n",
      "Sarkar Raj\n",
      "Halla Bol\n",
      "Humne Jeena Seekh Liya\n",
      "Bombay to Bangkok\n",
      "Tulsi (film)\n",
      "Sunday (2008 film)\n",
      "One Two Three\n",
      "Krazzy 4\n",
      "U Me Aur Hum\n",
      "Sirf (film)\n",
      "Tashan (film)\n",
      "Anamika (2008 film)\n",
      "Jimmy (2008 film)\n",
      "Jannat (film)\n",
      "Don Muthu Swami\n",
      "Woodstock Villa\n",
      "Mere Baap Pehle Aap\n",
      "Summer 2007\n",
      "De Taali\n",
      "Haal-e-Dil\n",
      "Thodi Life Thoda Magic\n",
      "Thoda Pyaar Thoda Magic\n",
      "Via Darjeeling\n",
      "Kismat Konnection\n",
      "Love Story 2050\n",
      "Contract (2008 film)\n",
      "Mission Istaanbul\n",
      "Money Hai Toh Honey Hai\n",
      "God Tussi Great Ho\n",
      "Mumbai Meri Jaan\n",
      "Maan Gaye Mughal-e-Azam\n",
      "Rock On!!\n",
      "C Kkompany\n",
      "Chamku\n",
      "Mukhbiir\n",
      "Tahaan\n",
      "1920 (film)\n",
      "The Last Lear\n",
      "Welcome to Sajjanpur\n",
      "Saas Bahu Aur Sensex\n",
      "Hari Puttar: A Comedy of Terrors\n",
      "Drona (2008 film)\n",
      "Hello (2008 film)\n",
      "Karzzzz\n",
      "Heroes (2008 film)\n",
      "Roadside Romeo\n",
      "Ek Vivaah... Aisa Bhi\n",
      "Deshdrohi\n",
      "Fashion (2008 film)\n",
      "Dasvidaniya\n",
      "Yuvvraaj\n",
      "Oye Lucky! Lucky Oye!\n",
      "Oh My God (2008 film)\n",
      "Sorry Bhai!\n",
      "1971 (2007 film)\n",
      "Meerabai Not Out\n",
      "Wafa: A Deadly Love Story\n",
      "Gumnaam – The Mystery\n",
      "Dil Kabaddi\n",
      "Aag (2007 film)\n",
      "Aap Kaa Surroor\n",
      "Aggar (film)\n",
      "Anwar (2007 film)\n",
      "Aaja Nachle\n",
      "Apne\n",
      "Awarapan\n",
      "Bheja Fry (film)\n",
      "Bhool Bhulaiyaa\n",
      "Bhram\n",
      "Big Brother (2007 film)\n",
      "68 Pages\n",
      "Aur Pappu Paas Ho Gaya\n",
      "Apna Asmaan\n",
      "Black Friday (2007 film)\n",
      "The Blue Umbrella (2005 film)\n",
      "Blood Brothers (2007 Indian film)\n",
      "Buddha Mar Gaya\n",
      "Cash (2007 film)\n",
      "Cheeni Kum\n",
      "Chhodon Naa Yaar\n",
      "Darling (2007 Indian film)\n",
      "Chak De! India\n",
      "Dhamaal\n",
      "Goal (2007 Hindi film)\n",
      "Dharm (film)\n",
      "Bombay to Goa (2007 film)\n",
      "Dhokha\n",
      "Dil Dosti Etc\n",
      "Dhol (film)\n",
      "Ek Chalis Ki Last Local\n",
      "Familywala\n",
      "Gandhi My Father\n",
      "Don't Stop Dreaming\n",
      "Dus Kahaniyaan\n",
      "Eklavya: The Royal Guard\n",
      "Go (2007 film)\n",
      "Gauri: The Unborn\n",
      "Heyy Babyy\n",
      "Guru (2007 film)\n",
      "Honeymoon Travels Pvt. Ltd.\n",
      "Jahan Jaaeyega Hamen Paaeyega\n",
      "Jhoom Barabar Jhoom\n",
      "Jab We Met\n",
      "Good Boy Bad Boy\n",
      "Fool & Final\n",
      "Khoya Khoya Chand\n",
      "Johnny Gaddaar\n",
      "Just Married (2007 film)\n",
      "Kya Love Story Hai\n",
      "Kudiyon Ka Hai Zamana\n",
      "Hastey Hastey\n",
      "Laaga Chunari Mein Daag\n",
      "Life in a... Metro\n",
      "Loins of Punjab Presents\n",
      "Manorama Six Feet Under\n",
      "Marigold (2007 film)\n",
      "MP3: Mera Pehla Pehla Pyaar\n",
      "Hattrick (film)\n",
      "Naqaab\n",
      "Mumbai Salsa\n",
      "The Namesake (film)\n",
      "Namastey London\n",
      "My Bollywood Bride\n",
      "Nehlle Pe Dehlla\n",
      "Nishabd\n",
      "No Smoking (2007 film)\n",
      "Om Shanti Om\n",
      "Partner (2007 film)\n",
      "Raqeeb\n",
      "Nanhe Jaisalmer\n",
      "Life Mein Kabhie Kabhiee\n",
      "Risk (2007 film)\n",
      "Shakalaka Boom Boom\n",
      "Red Swastik\n",
      "Salaam-e-Ishq: A Tribute to Love\n",
      "Saawariya\n",
      "Sarhad Paar\n",
      "Say Salaam India\n",
      "Red: The Dark Side\n",
      "Shootout at Lokhandwala\n",
      "Strangers (2007 Hindi film)\n",
      "Swami (2007 film)\n",
      "Taare Zameen Par\n",
      "Ta Ra Rum Pum\n",
      "Speed (2007 film)\n",
      "Traffic Signal (film)\n",
      "The Train (2007 film)\n",
      "Showbiz (film)\n",
      "Sunglass (film)\n",
      "Welcome (2007 film)\n",
      "36 China Town\n",
      "Zamaanat\n",
      "Aap Ki Khatir (2006 film)\n",
      "Ahista Ahista (2006 film)\n",
      "Aksar\n",
      "Alag\n",
      "Anthony Kaun Hai?\n",
      "Apna Sapna Money Money\n",
      "Ankahee (2006 film)\n",
      "Yatra (2007 film)\n",
      "Baabul (2006 film)\n",
      "Aisa Kyon Hota Hai?\n",
      "Adharm (2006 film)\n",
      "Being Cyrus\n",
      "Banaras (2006 film)\n",
      "Bas Ek Pal\n",
      "Bhagam Bhag\n",
      "Chingaari\n",
      "Bhoot Unkle\n",
      "Chand Ke Paar Chalo (film)\n",
      "Aryan: Unbreakable\n",
      "Chup Chup Ke\n",
      "Corporate (2006 film)\n",
      "Darna Zaroori Hai\n",
      "Deadline: Sirf 24 Ghante\n",
      "Dil Diya Hai\n",
      "Darwaaza Bandh Rakho\n",
      "Eight: The Power of Shani\n",
      "Dhoom 2\n",
      "Dor (film)\n",
      "Don (2006 Hindi film)\n",
      "Family (2006 film)\n",
      "Fanaa (2006 film)\n",
      "Gangster (2006 film)\n",
      "Golmaal: Fun Unlimited\n",
      "Devaki (2005 film)\n",
      "Fight Club – Members Only\n",
      "Dharti Kahe Pukar Ke (2006 film)\n",
      "Humko Deewana Kar Gaye\n",
      "Humko Tumse Pyaar Hai\n",
      "I See You (2006 film)\n",
      "Jaane Hoga Kya\n",
      "Jaan-E-Mann\n",
      "Jawani Diwani: A Youthful Joyride\n",
      "Holiday (2006 film)\n",
      "Iqraar by Chance\n",
      "Khosla Ka Ghosla\n",
      "Kabhi Alvida Naa Kehna\n",
      "Love Ke Chakkar Mein\n",
      "Lage Raho Munna Bhai\n",
      "Kabul Express\n",
      "Jigyaasa\n",
      "Krrish\n",
      "Malamaal Weekly\n",
      "Omkara (2006 film)\n",
      "Pyaar Ke Side Effects\n",
      "Naksha\n",
      "Phir Hera Pheri\n",
      "Pyare Mohan\n",
      "Mere Jeevan Saathi (2006 film)\n",
      "Prateeksha\n",
      "Sacred Evil – A True Story\n",
      "Rang De Basanti\n",
      "Shaadi Karke Phas Gaya Yaar\n",
      "Sandwich (2006 film)\n",
      "Shaadi Se Pehle\n",
      "Saawan... The Love Season\n",
      "Shiva (2006 film)\n",
      "Souten: The Other Woman\n",
      "Shikhar (film)\n",
      "Children of Heaven\n",
      "Tathastu\n",
      "The Killer (2006 film)\n",
      "Umrao Jaan (2006 film)\n",
      "Taxi No. 9211\n",
      "Teesri Aankh: The Hidden Camera\n",
      "Vivah\n",
      "Utthaan\n",
      "Waris Shah: Ishq Daa Waaris\n",
      "Woh Lamhe...\n",
      "Yun Hota Toh Kya Hota\n",
      "Umar (film)\n",
      "Zindaggi Rocks\n",
      "Tom Dick and Harry (2006 film)\n",
      "Aashiq Banaya Aapne\n",
      "Anjaane (2005 film)\n",
      "Apaharan\n",
      "Bachke Rehna Re Baba\n",
      "7½ Phere\n",
      "Barsaat (2005 film)\n",
      "Bewafaa (2005 film)\n",
      "Black (2005 film)\n",
      "Zinda (film)\n",
      "Bluffmaster!\n",
      "99.9 FM (film)\n",
      "Bhola in Bollywood\n",
      "Bhagmati (2005 film)\n",
      "Blackmail (2005 film)\n",
      "Bunty Aur Babli\n",
      "Chaahat – Ek Nasha\n",
      "Chetna: The Excitement\n",
      "Chand Sa Roshan Chehra\n",
      "Chocolate (2005 film)\n",
      "D (film)\n",
      "Deewane Huye Paagal\n",
      "Bullet: Ek Dhamaka\n",
      "Chehraa\n",
      "Dil Jo Bhi Kahey...\n",
      "Dosti: Friends Forever\n",
      "Classic – Dance of Love\n",
      "Dus\n",
      "Elaan (2005 film)\n",
      "Fareb (2005 film)\n",
      "Ek Ajnabee\n",
      "Fun – Can Be Dangerous Sometimes\n",
      "Ek Khiladi Ek Haseena (film)\n",
      "Double Cross (2005 film)\n",
      "Dreams (2006 film)\n",
      "Home Delivery\n",
      "Garam Masala (2005 film)\n",
      "Iqbal (film)\n",
      "Jai Chiranjeeva\n",
      "Hazaaron Khwaishein Aisi\n",
      "Insan\n",
      "Jo Bole So Nihaal (film)\n",
      "Karam (film)\n",
      "Kaal (2005 film)\n",
      "Kalyug (2005 film)\n",
      "Kasak (2005 film)\n",
      "Hanuman (2005 film)\n",
      "James (2005 film)\n",
      "Kisna: The Warrior Poet\n",
      "Koi Aap Sa\n",
      "Khamoshh... Khauff Ki Raat\n",
      "Jurm (2005 film)\n",
      "Kuchh Meetha Ho Jaye\n",
      "Kyaa Kool Hai Hum\n",
      "Lucky: No Time for Love\n",
      "Main Aisa Hi Hoon\n",
      "Kyon Ki\n",
      "Main Meri Patni Aur Woh\n",
      "Maine Gandhi Ko Nahin Mara\n",
      "Maine Pyaar Kyun Kiya?\n",
      "Mangal Pandey: The Rising\n",
      "Koi Mere Dil Mein Hai\n",
      "Mr Prime Minister\n",
      "My Brother…Nikhil\n",
      "My Wife's Murder\n",
      "Naina (2005 film)\n",
      "Neal 'n' Nikki\n",
      "No Entry\n",
      "Padmashree Laloo Prasad Yadav\n",
      "Page 3 (film)\n",
      "Morning Raga\n",
      "Parineeta (2005 film)\n",
      "Pehchaan: The Face of Truth\n",
      "Paheli\n",
      "Rog\n",
      "Pyaar Mein Twist\n",
      "Salaam Namaste\n",
      "Revati (film)\n",
      "Sarkar (2005 film)\n",
      "Sehar\n",
      "Shabd (film)\n",
      "Shabnam Mausi\n",
      "Sheesha (2005 film)\n",
      "Ramji Londonwaley\n",
      "Silsiilay\n",
      "Socha Na Tha\n",
      "Taj Mahal: An Eternal Love Story\n",
      "Tango Charlie\n",
      "The Film\n",
      "Vaada (film)\n",
      "Vaah! Life Ho Toh Aisi!\n",
      "Ssukh\n",
      "Shaadi No. 1\n",
      "Viruddh... Family Comes First\n",
      "Waqt: The Race Against Time\n",
      "Vidyaarthi\n",
      "Yakeen (2005 film)\n",
      "Zeher\n",
      "Veer-Zaara\n",
      "Main Hoon Na\n",
      "Zameer: The Fire Within\n",
      "Mujhse Shaadi Karogi\n",
      "Dhoom\n",
      "Khakee\n",
      "Hum Tum\n",
      "Hulchul (2004 film)\n",
      "Murder (2004 film)\n",
      "Yuva\n",
      "Aitraaz\n",
      "Aetbaar\n",
      "Ab Tumhare Hawale Watan Saathiyo\n",
      "Aan: Men at Work\n",
      "Bardaasht\n",
      "Chameli (film)\n",
      "Agnipankh\n",
      "Asambhav\n",
      "Charas (2004 film)\n",
      "Deewaar (2004 film)\n",
      "Dev (2004 film)\n",
      "Dil Maange More\n",
      "Dil Ne Jise Apna Kahaa\n",
      "Dobara\n",
      "Aabra Ka Daabra\n",
      "Dil Bechara Pyaar Ka Maara\n",
      "Gayab\n",
      "Fida\n",
      "Garv: Pride & Honour\n",
      "Ek Se Badhkar Ek (2004 film)\n",
      "Ek Hasina Thi (film)\n",
      "Girlfriend (2004 film)\n",
      "Hatya (2004 film)\n",
      "Hava Aney Dey\n",
      "Hawas (2004 film)\n",
      "Hyderabad Blues 2\n",
      "Julie (2004 film)\n",
      "Kaun Hai Jo Sapno Mein Aaya\n",
      "Inteqam: The Perfect Game\n",
      "Kis Kis Ki Kismat\n",
      "Insaaf: The Justice\n",
      "I Proud to Be an Indian\n",
      "Khamosh Pani\n",
      "Kismat (2004 film)\n",
      "Lakeer – Forbidden Lines\n",
      "Krishna Cottage\n",
      "Kyun! Ho Gaya Na...\n",
      "Madhoshi\n",
      "Lakshya (film)\n",
      "Ishq Hai Tumse\n",
      "Maqbool\n",
      "Masti (2004 film)\n",
      "Meenaxi: A Tale of Three Cities\n",
      "Musafir (2004 film)\n",
      "Mughal-e-Azam\n",
      "Muskaan\n",
      "Meri Biwi Ka Jawaab Nahin\n",
      "Naach (2004 film)\n",
      "Netaji Subhas Chandra Bose: The Forgotten Hero\n",
      "Paap\n",
      "Phir Milenge\n",
      "Plan (film)\n",
      "Police Force: An Inside Story\n",
      "Paisa Vasool\n",
      "Popcorn Khao! Mast Ho Jao\n",
      "Rakht\n",
      "Raincoat (film)\n",
      "Rudraksh (film)\n",
      "Shaadi Ka Laddoo\n",
      "Run (2004 film)\n",
      "Rok Sako To Rok Lo\n",
      "Suno Sasurjee\n",
      "Swades\n",
      "Taarzan: The Wonder Car\n",
      "Nothing but Life\n",
      "Shart: The Challenge\n",
      "Tumsa Nahin Dekha: A Love Story\n",
      "Vaastu Shastra (film)\n",
      "Yeh Lamhe Judaai Ke\n",
      "Sheen (film)\n",
      "Dude Where's the Party?\n",
      "Thoda Tum Badlo Thoda Hum\n",
      "Koi... Mil Gaya\n",
      "Kal Ho Naa Ho\n",
      "Shukriya: Till Death Do Us Apart\n",
      "Chalte Chalte (2003 film)\n",
      "The Hero: Love Story of a Spy\n",
      "Baghban (2003 film)\n",
      "Main Prem Ki Diwani Hoon\n",
      "LOC Kargil\n",
      "Border (1997 film)\n",
      "Munna Bhai M.B.B.S.\n",
      "Qayamat: City Under Threat\n",
      "88 Antop Hill\n",
      "3 Deewarein\n",
      "Aanch\n",
      "Aapko Pehle Bhi Kahin Dekha Hai\n",
      "Bhoot (film)\n",
      "Boom (film)\n",
      "Aaj Ka Andha Kanoon\n",
      "Andaaz\n",
      "Andaaz\n",
      "Armaan (2003 film)\n",
      "Chori Chori (2003 film)\n",
      "Calcutta Mail\n",
      "Baaz: A Bird in Danger\n",
      "Basti (film)\n",
      "Magic Magic 3D\n",
      "Dil Ka Rishta\n",
      "Darna Mana Hai\n",
      "Dhoop\n",
      "Dhund (2003 film)\n",
      "Chura Liyaa Hai Tumne\n",
      "The Bypass\n",
      "Dum (2003 Hindi film)\n",
      "Dil Pardesi Ho Gayaa\n",
      "Ek Alag Mausam\n",
      "Footpath (2003 film)\n",
      "Escape from Taliban\n",
      "Ek Din 24 Ghante\n",
      "Gangaajal\n",
      "Hawa (film)\n",
      "Haasil\n",
      "Ek Aur Ek Gyarah\n",
      "Hungama (2003 film)\n",
      "Green Card Fever\n",
      "Flavors (film)\n",
      "Indian Babu\n",
      "Fun2shh... Dudes in the 10th Century\n",
      "Inteha (2003 film)\n",
      "Jaal: The Trap\n",
      "Ishq Vishk\n",
      "Hawayein\n",
      "Jajantaram Mamantaram\n",
      "Jism (2003 film)\n",
      "Jhankaar Beats\n",
      "Kagaar: Life on the Edge\n",
      "Kash Aap Hamare Hote\n",
      "Khel – No Ordinary Game\n",
      "Janasheen\n",
      "Kaise Kahoon Ke... Pyaar Hai\n",
      "Khushi (2003 Hindi film)\n",
      "Khwahish\n",
      "Kucch To Hai\n",
      "Kuch Naa Kaho\n",
      "Main Madhuri Dixit Banna Chahti Hoon\n",
      "Joggers' Park (film)\n",
      "Market (2003 film)\n",
      "Om (2003 film)\n",
      "Out of Control (2003 film)\n",
      "Mumbai Matinee\n",
      "Matrubhoomi\n",
      "Parwana (2003 film)\n",
      "Pinjar (film)\n",
      "Mumbai Se Aaya Mera Dost\n",
      "Saaya (2003 film)\n",
      "Samay: When Time Strikes\n",
      "Nayee Padosan\n",
      "Satta (film)\n",
      "Sssshhh...\n",
      "Praan Jaye Par Shaan Na Jaye\n",
      "Raghu Romeo\n",
      "Stumped (film)\n",
      "Rules: Pyaar Ka Superhit Formula\n",
      "Right Here Right Now (film)\n",
      "Raja Bhaiya (film)\n",
      "Tere Naam\n",
      "Tujhe Meri Kasam\n",
      "Talaash: The Hunt Begins...\n",
      "Tehzeeb (2003 film)\n",
      "The Pink Mirror\n",
      "Yeh Dil\n",
      "Xcuse Me\n",
      "Raaz (2002 film)\n",
      "Zameen (2003 film)\n",
      "Waisa Bhi Hota Hai Part II\n",
      "Devdas (2002 Hindi film)\n",
      "Kaante\n",
      "Hum Tumhare Hain Sanam\n",
      "Aankhen (2002 film)\n",
      "Saathiya (film)\n",
      "Company (film)\n",
      "Awara Paagal Deewana\n"
     ]
    }
   ],
   "source": [
    "for i in movies.index:\n",
    "  print(i)"
   ]
  },
  {
   "cell_type": "code",
   "execution_count": null,
   "metadata": {
    "colab": {
     "base_uri": "https://localhost:8080/"
    },
    "executionInfo": {
     "elapsed": 38,
     "status": "ok",
     "timestamp": 1702244847347,
     "user": {
      "displayName": "Mohsin Raza",
      "userId": "02069157311777040551"
     },
     "user_tz": -300
    },
    "id": "KwDJzj1LeSjh",
    "outputId": "f9df35ce-225a-484a-a098-9d944f8661e0"
   },
   "outputs": [
    {
     "data": {
      "text/plain": [
       "Seience    33\n",
       "Eng        20\n",
       "urdu       11\n",
       "Maths       0\n",
       "Pst         8\n",
       "Name: Marks of Mohsin, dtype: int64"
      ]
     },
     "execution_count": 51,
     "metadata": {},
     "output_type": "execute_result"
    }
   ],
   "source": [
    "# Arithmeti Operators(Broadcasting)\n",
    "100 - marks_series"
   ]
  },
  {
   "cell_type": "code",
   "execution_count": null,
   "metadata": {
    "colab": {
     "base_uri": "https://localhost:8080/"
    },
    "executionInfo": {
     "elapsed": 7576,
     "status": "ok",
     "timestamp": 1702244854912,
     "user": {
      "displayName": "Mohsin Raza",
      "userId": "02069157311777040551"
     },
     "user_tz": -300
    },
    "id": "CfNjo0TpfGhI",
    "outputId": "082eb51b-edde-4b9a-aaf0-6cbb4feef718"
   },
   "outputs": [
    {
     "data": {
      "text/plain": [
       "match_no\n",
       "1      False\n",
       "2      False\n",
       "3      False\n",
       "4      False\n",
       "5      False\n",
       "       ...  \n",
       "211    False\n",
       "212    False\n",
       "213     True\n",
       "214    False\n",
       "215    False\n",
       "Name: runs, Length: 215, dtype: bool"
      ]
     },
     "execution_count": 52,
     "metadata": {},
     "output_type": "execute_result"
    }
   ],
   "source": [
    "# Relational Operators\n",
    "vk >= 50"
   ]
  },
  {
   "cell_type": "markdown",
   "metadata": {
    "id": "NjfRURLKfjlC"
   },
   "source": [
    "**Boolean Indexing on Series**"
   ]
  },
  {
   "cell_type": "code",
   "execution_count": null,
   "metadata": {
    "colab": {
     "base_uri": "https://localhost:8080/"
    },
    "executionInfo": {
     "elapsed": 70,
     "status": "ok",
     "timestamp": 1702244854914,
     "user": {
      "displayName": "Mohsin Raza",
      "userId": "02069157311777040551"
     },
     "user_tz": -300
    },
    "id": "kH49kyaMfSMw",
    "outputId": "8bac6145-4d3d-4b4f-84a2-4d40f11ea3d7"
   },
   "outputs": [
    {
     "data": {
      "text/plain": [
       "match_no\n",
       "1      False\n",
       "2      False\n",
       "3      False\n",
       "4      False\n",
       "5      False\n",
       "       ...  \n",
       "211    False\n",
       "212    False\n",
       "213     True\n",
       "214    False\n",
       "215    False\n",
       "Name: runs, Length: 215, dtype: bool"
      ]
     },
     "execution_count": 53,
     "metadata": {},
     "output_type": "execute_result"
    }
   ],
   "source": [
    "# find no of 50's and 100's scores by kohli\n",
    "vk >= 50"
   ]
  },
  {
   "cell_type": "code",
   "execution_count": null,
   "metadata": {
    "colab": {
     "base_uri": "https://localhost:8080/"
    },
    "executionInfo": {
     "elapsed": 67,
     "status": "ok",
     "timestamp": 1702244854915,
     "user": {
      "displayName": "Mohsin Raza",
      "userId": "02069157311777040551"
     },
     "user_tz": -300
    },
    "id": "Y9NqGdvygmnu",
    "outputId": "0a87a748-1c08-4f4e-e76d-a277a9edb08a"
   },
   "outputs": [
    {
     "data": {
      "text/plain": [
       "50"
      ]
     },
     "execution_count": 54,
     "metadata": {},
     "output_type": "execute_result"
    }
   ],
   "source": [
    "vk[vk >= 50].size"
   ]
  },
  {
   "cell_type": "code",
   "execution_count": null,
   "metadata": {
    "colab": {
     "base_uri": "https://localhost:8080/"
    },
    "executionInfo": {
     "elapsed": 63,
     "status": "ok",
     "timestamp": 1702244854916,
     "user": {
      "displayName": "Mohsin Raza",
      "userId": "02069157311777040551"
     },
     "user_tz": -300
    },
    "id": "vHWYYzGKgQu-",
    "outputId": "f56c28db-9f05-4a69-f94c-5050a3aba093"
   },
   "outputs": [
    {
     "data": {
      "text/plain": [
       "9"
      ]
     },
     "execution_count": 55,
     "metadata": {},
     "output_type": "execute_result"
    }
   ],
   "source": [
    "# find number of ducks by kohli\n",
    "vk[vk==0].size"
   ]
  },
  {
   "cell_type": "code",
   "execution_count": null,
   "metadata": {
    "colab": {
     "base_uri": "https://localhost:8080/"
    },
    "executionInfo": {
     "elapsed": 57,
     "status": "ok",
     "timestamp": 1702244854916,
     "user": {
      "displayName": "Mohsin Raza",
      "userId": "02069157311777040551"
     },
     "user_tz": -300
    },
    "id": "8MeYTlQjgcqP",
    "outputId": "05b9a9b3-d305-403e-c203-0bb112bcf27e"
   },
   "outputs": [
    {
     "data": {
      "text/plain": [
       "59"
      ]
     },
     "execution_count": 56,
     "metadata": {},
     "output_type": "execute_result"
    }
   ],
   "source": [
    "# count number of days when I had more than 200 subs in a day\n",
    "subs[subs > 200].size"
   ]
  },
  {
   "cell_type": "code",
   "execution_count": null,
   "metadata": {
    "colab": {
     "base_uri": "https://localhost:8080/"
    },
    "executionInfo": {
     "elapsed": 53,
     "status": "ok",
     "timestamp": 1702244854917,
     "user": {
      "displayName": "Mohsin Raza",
      "userId": "02069157311777040551"
     },
     "user_tz": -300
    },
    "id": "710NJzqrhEhS",
    "outputId": "f5b9b56e-df8e-4c7f-e8b5-c602b959693b"
   },
   "outputs": [
    {
     "data": {
      "text/plain": [
       "Akshay Kumar        48\n",
       "Amitabh Bachchan    45\n",
       "Ajay Devgn          38\n",
       "Salman Khan         31\n",
       "Sanjay Dutt         26\n",
       "Shah Rukh Khan      21\n",
       "Emraan Hashmi       21\n",
       "Name: lead, dtype: int64"
      ]
     },
     "execution_count": 57,
     "metadata": {},
     "output_type": "execute_result"
    }
   ],
   "source": [
    "# find actors who have done more than 20 movies\n",
    "num_movies = movies.value_counts()\n",
    "num_movies[num_movies > 20]"
   ]
  },
  {
   "cell_type": "markdown",
   "metadata": {
    "id": "op_fTanWjT3i"
   },
   "source": [
    "**Ploting Graphs on Series**"
   ]
  },
  {
   "cell_type": "code",
   "execution_count": null,
   "metadata": {
    "colab": {
     "base_uri": "https://localhost:8080/",
     "height": 447
    },
    "executionInfo": {
     "elapsed": 46,
     "status": "ok",
     "timestamp": 1702244854917,
     "user": {
      "displayName": "Mohsin Raza",
      "userId": "02069157311777040551"
     },
     "user_tz": -300
    },
    "id": "mM4cxmO7jKDV",
    "outputId": "ac698645-3e40-4e22-d33e-7cf9c8fae683"
   },
   "outputs": [
    {
     "data": {
      "text/plain": [
       "<Axes: >"
      ]
     },
     "execution_count": 58,
     "metadata": {},
     "output_type": "execute_result"
    },
    {
     "data": {
      "image/png": "[encoded data removed]",
      "text/plain": [
       "<Figure size 640x480 with 1 Axes>"
      ]
     },
     "metadata": {},
     "output_type": "display_data"
    }
   ],
   "source": [
    "subs.plot()"
   ]
  },
  {
   "cell_type": "code",
   "execution_count": null,
   "metadata": {
    "colab": {
     "base_uri": "https://localhost:8080/",
     "height": 447
    },
    "executionInfo": {
     "elapsed": 38,
     "status": "ok",
     "timestamp": 1702244854917,
     "user": {
      "displayName": "Mohsin Raza",
      "userId": "02069157311777040551"
     },
     "user_tz": -300
    },
    "id": "99ttZ9sQjfkV",
    "outputId": "55b3a302-f14f-48e1-ce1e-eb9f3558bd90"
   },
   "outputs": [
    {
     "data": {
      "text/plain": [
       "<Axes: >"
      ]
     },
     "execution_count": 59,
     "metadata": {},
     "output_type": "execute_result"
    },
    {
     "data": {
      "image/png": "[encoded data removed]",
      "text/plain": [
       "<Figure size 640x480 with 1 Axes>"
      ]
     },
     "metadata": {},
     "output_type": "display_data"
    }
   ],
   "source": [
    "movies.value_counts().head(20).plot()"
   ]
  },
  {
   "cell_type": "code",
   "execution_count": null,
   "metadata": {
    "colab": {
     "base_uri": "https://localhost:8080/",
     "height": 567
    },
    "executionInfo": {
     "elapsed": 1298,
     "status": "ok",
     "timestamp": 1702244856193,
     "user": {
      "displayName": "Mohsin Raza",
      "userId": "02069157311777040551"
     },
     "user_tz": -300
    },
    "id": "PdNWARBpjrrH",
    "outputId": "819d46fd-acff-4fbb-d602-0d299bf34667"
   },
   "outputs": [
    {
     "data": {
      "text/plain": [
       "<Axes: >"
      ]
     },
     "execution_count": 60,
     "metadata": {},
     "output_type": "execute_result"
    },
    {
     "data": {
      "image/png": "[encoded data removed]",
      "text/plain": [
       "<Figure size 640x480 with 1 Axes>"
      ]
     },
     "metadata": {},
     "output_type": "display_data"
    }
   ],
   "source": [
    "movies.value_counts().head(20).plot(kind='bar')"
   ]
  },
  {
   "cell_type": "code",
   "execution_count": null,
   "metadata": {
    "colab": {
     "base_uri": "https://localhost:8080/",
     "height": 423
    },
    "executionInfo": {
     "elapsed": 26,
     "status": "ok",
     "timestamp": 1702244856193,
     "user": {
      "displayName": "Mohsin Raza",
      "userId": "02069157311777040551"
     },
     "user_tz": -300
    },
    "id": "PATwWWEUj7pE",
    "outputId": "9168f004-90ee-4aa1-eb73-19d1d86c2140"
   },
   "outputs": [
    {
     "data": {
      "text/plain": [
       "<Axes: ylabel='lead'>"
      ]
     },
     "execution_count": 61,
     "metadata": {},
     "output_type": "execute_result"
    },
    {
     "data": {
      "image/png": "[encoded data removed]",
      "text/plain": [
       "<Figure size 640x480 with 1 Axes>"
      ]
     },
     "metadata": {},
     "output_type": "display_data"
    }
   ],
   "source": [
    "movies.value_counts().head(20).plot(kind='pie')"
   ]
  },
  {
   "cell_type": "markdown",
   "metadata": {
    "id": "raI_J3tvs-oX"
   },
   "source": [
    "**Pandas Important Functions**"
   ]
  },
  {
   "cell_type": "markdown",
   "metadata": {
    "id": "hod3cC3JtDQC"
   },
   "source": [
    "*   astype  \n",
    "*   between\n",
    "*   clip\n",
    "*   drop_duplicates or duplicated\n",
    "*   count\n",
    "*   isnull\n",
    "*   dropna\n",
    "*   fillna\n",
    "*   isin\n",
    "*   apply\n",
    "*   copy\n",
    "\n"
   ]
  },
  {
   "cell_type": "code",
   "execution_count": null,
   "metadata": {
    "colab": {
     "base_uri": "https://localhost:8080/"
    },
    "executionInfo": {
     "elapsed": 4,
     "status": "ok",
     "timestamp": 1702245147955,
     "user": {
      "displayName": "Mohsin Raza",
      "userId": "02069157311777040551"
     },
     "user_tz": -300
    },
    "id": "B0Php0IXs93b",
    "outputId": "055e56b0-7297-4060-ac63-e9f316e452f8"
   },
   "outputs": [
    {
     "data": {
      "text/plain": [
       "11752"
      ]
     },
     "execution_count": 63,
     "metadata": {},
     "output_type": "execute_result"
    }
   ],
   "source": [
    "# astype\n",
    "import sys\n",
    "sys.getsizeof(vk)"
   ]
  },
  {
   "cell_type": "code",
   "execution_count": null,
   "metadata": {
    "colab": {
     "base_uri": "https://localhost:8080/"
    },
    "executionInfo": {
     "elapsed": 5,
     "status": "ok",
     "timestamp": 1702245242887,
     "user": {
      "displayName": "Mohsin Raza",
      "userId": "02069157311777040551"
     },
     "user_tz": -300
    },
    "id": "cx8i3pE8tubK",
    "outputId": "9d27c185-44d0-4de6-8e10-037f6f5cfd47"
   },
   "outputs": [
    {
     "data": {
      "text/plain": [
       "10462"
      ]
     },
     "execution_count": 65,
     "metadata": {},
     "output_type": "execute_result"
    }
   ],
   "source": [
    "sys.getsizeof(vk.astype('int16'))"
   ]
  },
  {
   "cell_type": "code",
   "execution_count": null,
   "metadata": {
    "colab": {
     "base_uri": "https://localhost:8080/"
    },
    "executionInfo": {
     "elapsed": 4,
     "status": "ok",
     "timestamp": 1702245355041,
     "user": {
      "displayName": "Mohsin Raza",
      "userId": "02069157311777040551"
     },
     "user_tz": -300
    },
    "id": "jiVGGTIWuKQI",
    "outputId": "9357e91b-2018-4c8a-a07f-b6ed85cbee2b"
   },
   "outputs": [
    {
     "data": {
      "text/plain": [
       "43"
      ]
     },
     "execution_count": 69,
     "metadata": {},
     "output_type": "execute_result"
    }
   ],
   "source": [
    "# between\n",
    "vk[vk.between(51,99)].size"
   ]
  },
  {
   "cell_type": "code",
   "execution_count": null,
   "metadata": {
    "colab": {
     "base_uri": "https://localhost:8080/"
    },
    "executionInfo": {
     "elapsed": 3,
     "status": "ok",
     "timestamp": 1702245442486,
     "user": {
      "displayName": "Mohsin Raza",
      "userId": "02069157311777040551"
     },
     "user_tz": -300
    },
    "id": "TIBijsgcujvA",
    "outputId": "1f4e315a-4065-4626-c3a4-434aa7c908ef"
   },
   "outputs": [
    {
     "data": {
      "text/plain": [
       "0       48\n",
       "1       57\n",
       "2       40\n",
       "3       43\n",
       "4       44\n",
       "      ... \n",
       "360    231\n",
       "361    226\n",
       "362    155\n",
       "363    144\n",
       "364    172\n",
       "Name: Subscribers gained, Length: 365, dtype: int64"
      ]
     },
     "execution_count": 72,
     "metadata": {},
     "output_type": "execute_result"
    }
   ],
   "source": [
    "# clip\n",
    "subs"
   ]
  },
  {
   "cell_type": "code",
   "execution_count": null,
   "metadata": {
    "colab": {
     "base_uri": "https://localhost:8080/"
    },
    "executionInfo": {
     "elapsed": 5,
     "status": "ok",
     "timestamp": 1702245464864,
     "user": {
      "displayName": "Mohsin Raza",
      "userId": "02069157311777040551"
     },
     "user_tz": -300
    },
    "id": "BZBqkkQOu1Fy",
    "outputId": "98854cee-e92f-4ce9-c30c-0b9ffd7dcdec"
   },
   "outputs": [
    {
     "data": {
      "text/plain": [
       "0      100\n",
       "1      100\n",
       "2      100\n",
       "3      100\n",
       "4      100\n",
       "      ... \n",
       "360    200\n",
       "361    200\n",
       "362    155\n",
       "363    144\n",
       "364    172\n",
       "Name: Subscribers gained, Length: 365, dtype: int64"
      ]
     },
     "execution_count": 74,
     "metadata": {},
     "output_type": "execute_result"
    }
   ],
   "source": [
    "subs.clip(100,200)"
   ]
  },
  {
   "cell_type": "code",
   "execution_count": null,
   "metadata": {
    "colab": {
     "base_uri": "https://localhost:8080/"
    },
    "executionInfo": {
     "elapsed": 6,
     "status": "ok",
     "timestamp": 1702245537699,
     "user": {
      "displayName": "Mohsin Raza",
      "userId": "02069157311777040551"
     },
     "user_tz": -300
    },
    "id": "yGzfDAx5vDU0",
    "outputId": "23f26bcf-be18-4d6d-c307-81e6a15060f3"
   },
   "outputs": [
    {
     "data": {
      "text/plain": [
       "0    1\n",
       "1    1\n",
       "2    2\n",
       "3    2\n",
       "4    3\n",
       "5    3\n",
       "6    4\n",
       "7    4\n",
       "dtype: int64"
      ]
     },
     "execution_count": 77,
     "metadata": {},
     "output_type": "execute_result"
    }
   ],
   "source": [
    "# drop_duplicates\n",
    "temp = pd.Series([1,1,2,2,3,3,4,4])\n",
    "temp"
   ]
  },
  {
   "cell_type": "code",
   "execution_count": null,
   "metadata": {
    "colab": {
     "base_uri": "https://localhost:8080/"
    },
    "executionInfo": {
     "elapsed": 6,
     "status": "ok",
     "timestamp": 1702245554076,
     "user": {
      "displayName": "Mohsin Raza",
      "userId": "02069157311777040551"
     },
     "user_tz": -300
    },
    "id": "s-KDtwhNvSPg",
    "outputId": "95eef0af-f065-4c81-c4d3-cd61dbd5fa55"
   },
   "outputs": [
    {
     "data": {
      "text/plain": [
       "0    1\n",
       "2    2\n",
       "4    3\n",
       "6    4\n",
       "dtype: int64"
      ]
     },
     "execution_count": 78,
     "metadata": {},
     "output_type": "execute_result"
    }
   ],
   "source": [
    "temp.drop_duplicates() # by default keep = 'first'"
   ]
  },
  {
   "cell_type": "code",
   "execution_count": null,
   "metadata": {
    "colab": {
     "base_uri": "https://localhost:8080/"
    },
    "executionInfo": {
     "elapsed": 5,
     "status": "ok",
     "timestamp": 1702245623288,
     "user": {
      "displayName": "Mohsin Raza",
      "userId": "02069157311777040551"
     },
     "user_tz": -300
    },
    "id": "y7GyZTgBvdPv",
    "outputId": "75aaf2a4-6617-4411-96ef-40283fb750b3"
   },
   "outputs": [
    {
     "data": {
      "text/plain": [
       "1    1\n",
       "3    2\n",
       "5    3\n",
       "7    4\n",
       "dtype: int64"
      ]
     },
     "execution_count": 79,
     "metadata": {},
     "output_type": "execute_result"
    }
   ],
   "source": [
    "temp.drop_duplicates(keep='last')"
   ]
  },
  {
   "cell_type": "code",
   "execution_count": null,
   "metadata": {
    "colab": {
     "base_uri": "https://localhost:8080/"
    },
    "executionInfo": {
     "elapsed": 6,
     "status": "ok",
     "timestamp": 1702245676052,
     "user": {
      "displayName": "Mohsin Raza",
      "userId": "02069157311777040551"
     },
     "user_tz": -300
    },
    "id": "lPEqRoKlvuLx",
    "outputId": "49c25e4f-5f83-4bcd-c555-1ac789c3cafc"
   },
   "outputs": [
    {
     "data": {
      "text/plain": [
       "4"
      ]
     },
     "execution_count": 82,
     "metadata": {},
     "output_type": "execute_result"
    }
   ],
   "source": [
    "temp.duplicated().sum()"
   ]
  },
  {
   "cell_type": "code",
   "execution_count": null,
   "metadata": {
    "colab": {
     "base_uri": "https://localhost:8080/"
    },
    "executionInfo": {
     "elapsed": 4,
     "status": "ok",
     "timestamp": 1702245699545,
     "user": {
      "displayName": "Mohsin Raza",
      "userId": "02069157311777040551"
     },
     "user_tz": -300
    },
    "id": "HaLYRjmRv3fd",
    "outputId": "25e9fc1c-c0e5-43f7-8186-9632a1798403"
   },
   "outputs": [
    {
     "data": {
      "text/plain": [
       "137"
      ]
     },
     "execution_count": 83,
     "metadata": {},
     "output_type": "execute_result"
    }
   ],
   "source": [
    "vk.duplicated().sum()"
   ]
  },
  {
   "cell_type": "code",
   "execution_count": null,
   "metadata": {
    "colab": {
     "base_uri": "https://localhost:8080/"
    },
    "executionInfo": {
     "elapsed": 6,
     "status": "ok",
     "timestamp": 1702245762368,
     "user": {
      "displayName": "Mohsin Raza",
      "userId": "02069157311777040551"
     },
     "user_tz": -300
    },
    "id": "wlozyyRjwAzM",
    "outputId": "ec873b2d-e413-4f6e-d58e-615e3b801e72"
   },
   "outputs": [
    {
     "data": {
      "text/plain": [
       "0     1.0\n",
       "1     2.0\n",
       "2     3.0\n",
       "3     NaN\n",
       "4     5.0\n",
       "5     6.0\n",
       "6     NaN\n",
       "7     8.0\n",
       "8     NaN\n",
       "9    10.0\n",
       "dtype: float64"
      ]
     },
     "execution_count": 84,
     "metadata": {},
     "output_type": "execute_result"
    }
   ],
   "source": [
    "temp1 = pd.Series([1,2,3,np.nan,5,6,np.nan,8,np.nan,10])\n",
    "temp1"
   ]
  },
  {
   "cell_type": "code",
   "execution_count": null,
   "metadata": {
    "colab": {
     "base_uri": "https://localhost:8080/"
    },
    "executionInfo": {
     "elapsed": 6,
     "status": "ok",
     "timestamp": 1702245886015,
     "user": {
      "displayName": "Mohsin Raza",
      "userId": "02069157311777040551"
     },
     "user_tz": -300
    },
    "id": "rPxmrUWfwdkH",
    "outputId": "52da8cf4-2aee-4d44-fc96-42a3885f8658"
   },
   "outputs": [
    {
     "name": "stdout",
     "output_type": "stream",
     "text": [
      "10\n",
      "7\n"
     ]
    }
   ],
   "source": [
    "# count\n",
    "print(temp1.size)\n",
    "print(temp1.count())"
   ]
  },
  {
   "cell_type": "code",
   "execution_count": null,
   "metadata": {
    "colab": {
     "base_uri": "https://localhost:8080/"
    },
    "executionInfo": {
     "elapsed": 5,
     "status": "ok",
     "timestamp": 1702245960406,
     "user": {
      "displayName": "Mohsin Raza",
      "userId": "02069157311777040551"
     },
     "user_tz": -300
    },
    "id": "vSbLD0tuwQAP",
    "outputId": "4d9baa5c-c7b3-45fb-c5eb-ff84889787ff"
   },
   "outputs": [
    {
     "data": {
      "text/plain": [
       "3"
      ]
     },
     "execution_count": 90,
     "metadata": {},
     "output_type": "execute_result"
    }
   ],
   "source": [
    "# isnull\n",
    "temp1.isnull().sum()"
   ]
  },
  {
   "cell_type": "code",
   "execution_count": null,
   "metadata": {
    "colab": {
     "base_uri": "https://localhost:8080/"
    },
    "executionInfo": {
     "elapsed": 5,
     "status": "ok",
     "timestamp": 1702246001386,
     "user": {
      "displayName": "Mohsin Raza",
      "userId": "02069157311777040551"
     },
     "user_tz": -300
    },
    "id": "6PmrDvRYwTts",
    "outputId": "a187f07b-1f4f-44f9-bf2a-f09846497298"
   },
   "outputs": [
    {
     "data": {
      "text/plain": [
       "0     1.0\n",
       "1     2.0\n",
       "2     3.0\n",
       "4     5.0\n",
       "5     6.0\n",
       "7     8.0\n",
       "9    10.0\n",
       "dtype: float64"
      ]
     },
     "execution_count": 91,
     "metadata": {},
     "output_type": "execute_result"
    }
   ],
   "source": [
    "# dropna\n",
    "temp1.dropna()"
   ]
  },
  {
   "cell_type": "code",
   "execution_count": null,
   "metadata": {
    "colab": {
     "base_uri": "https://localhost:8080/"
    },
    "executionInfo": {
     "elapsed": 4,
     "status": "ok",
     "timestamp": 1702246055397,
     "user": {
      "displayName": "Mohsin Raza",
      "userId": "02069157311777040551"
     },
     "user_tz": -300
    },
    "id": "TinQngT4xKdd",
    "outputId": "fbfd0b05-d7ae-4a55-ee4e-e2df7989706b"
   },
   "outputs": [
    {
     "data": {
      "text/plain": [
       "0     1.0\n",
       "1     2.0\n",
       "2     3.0\n",
       "3     5.0\n",
       "4     5.0\n",
       "5     6.0\n",
       "6     5.0\n",
       "7     8.0\n",
       "8     5.0\n",
       "9    10.0\n",
       "dtype: float64"
      ]
     },
     "execution_count": 95,
     "metadata": {},
     "output_type": "execute_result"
    }
   ],
   "source": [
    "# fillna\n",
    "temp1.fillna(temp1.mean())"
   ]
  },
  {
   "cell_type": "code",
   "execution_count": null,
   "metadata": {
    "colab": {
     "base_uri": "https://localhost:8080/"
    },
    "executionInfo": {
     "elapsed": 6,
     "status": "ok",
     "timestamp": 1702246212060,
     "user": {
      "displayName": "Mohsin Raza",
      "userId": "02069157311777040551"
     },
     "user_tz": -300
    },
    "id": "5DCRYSfvxSZV",
    "outputId": "f2ee4419-1fcd-4e92-f6ec-f6c8b989c2a7"
   },
   "outputs": [
    {
     "name": "stdout",
     "output_type": "stream",
     "text": [
      "match_no\n",
      "82    99\n",
      "86    49\n",
      "Name: runs, dtype: int64 \n",
      "\n"
     ]
    },
    {
     "data": {
      "text/plain": [
       "match_no\n",
       "82    99\n",
       "86    49\n",
       "Name: runs, dtype: int64"
      ]
     },
     "execution_count": 101,
     "metadata": {},
     "output_type": "execute_result"
    }
   ],
   "source": [
    "# isin to check multiple values\n",
    "print(vk[(vk == 49) | (vk == 99)],'\\n')\n",
    "vk[vk.isin([49,99])]"
   ]
  },
  {
   "cell_type": "code",
   "execution_count": null,
   "metadata": {
    "colab": {
     "base_uri": "https://localhost:8080/"
    },
    "executionInfo": {
     "elapsed": 4,
     "status": "ok",
     "timestamp": 1702246330727,
     "user": {
      "displayName": "Mohsin Raza",
      "userId": "02069157311777040551"
     },
     "user_tz": -300
    },
    "id": "bVJqCntmxiUB",
    "outputId": "4ce56360-5ed7-45de-d705-1d0e5fc9a7c7"
   },
   "outputs": [
    {
     "data": {
      "text/plain": [
       "movie\n",
       "Uri: The Surgical Strike                  VICKY\n",
       "Battalion 609                             VICKY\n",
       "The Accidental Prime Minister (film)     ANUPAM\n",
       "Why Cheat India                          EMRAAN\n",
       "Evening Shadows                            MONA\n",
       "                                         ...   \n",
       "Hum Tumhare Hain Sanam                     ALIA\n",
       "Aankhen (2002 film)                     AMITABH\n",
       "Saathiya (film)                           VIVEK\n",
       "Company (film)                             AJAY\n",
       "Awara Paagal Deewana                     AKSHAY\n",
       "Name: lead, Length: 1500, dtype: object"
      ]
     },
     "execution_count": 105,
     "metadata": {},
     "output_type": "execute_result"
    }
   ],
   "source": [
    "# apply\n",
    "movies.apply(lambda x : x.split()[0].upper())"
   ]
  },
  {
   "cell_type": "code",
   "execution_count": null,
   "metadata": {
    "colab": {
     "base_uri": "https://localhost:8080/"
    },
    "executionInfo": {
     "elapsed": 3,
     "status": "ok",
     "timestamp": 1702246561939,
     "user": {
      "displayName": "Mohsin Raza",
      "userId": "02069157311777040551"
     },
     "user_tz": -300
    },
    "id": "FjHpUr-lyFdn",
    "outputId": "68c23e81-5e89-4778-f976-3b9bfae24dc6"
   },
   "outputs": [
    {
     "name": "stdout",
     "output_type": "stream",
     "text": [
      "0       48\n",
      "1       57\n",
      "2       40\n",
      "3       43\n",
      "4       44\n",
      "      ... \n",
      "360    231\n",
      "361    226\n",
      "362    155\n",
      "363    144\n",
      "364    172\n",
      "Name: Subscribers gained, Length: 365, dtype: int64 \n",
      "\n",
      "135.64383561643837 \n",
      "\n"
     ]
    }
   ],
   "source": [
    "print(subs,'\\n')\n",
    "print(subs.mean(),'\\n')"
   ]
  },
  {
   "cell_type": "code",
   "execution_count": null,
   "metadata": {
    "colab": {
     "base_uri": "https://localhost:8080/"
    },
    "executionInfo": {
     "elapsed": 457,
     "status": "ok",
     "timestamp": 1702246564413,
     "user": {
      "displayName": "Mohsin Raza",
      "userId": "02069157311777040551"
     },
     "user_tz": -300
    },
    "id": "c55KYqJFyfGN",
    "outputId": "4faff38e-4cd6-43ef-d25e-e159b6f9e4f3"
   },
   "outputs": [
    {
     "data": {
      "text/plain": [
       "0       bad day\n",
       "1       bad day\n",
       "2       bad day\n",
       "3       bad day\n",
       "4       bad day\n",
       "         ...   \n",
       "360    good day\n",
       "361    good day\n",
       "362    good day\n",
       "363    good day\n",
       "364    good day\n",
       "Name: Subscribers gained, Length: 365, dtype: object"
      ]
     },
     "execution_count": 113,
     "metadata": {},
     "output_type": "execute_result"
    }
   ],
   "source": [
    "subs.apply(lambda x: 'good day' if x > subs.mean() else 'bad day')"
   ]
  },
  {
   "cell_type": "code",
   "execution_count": null,
   "metadata": {
    "colab": {
     "base_uri": "https://localhost:8080/"
    },
    "executionInfo": {
     "elapsed": 425,
     "status": "ok",
     "timestamp": 1702247240728,
     "user": {
      "displayName": "Mohsin Raza",
      "userId": "02069157311777040551"
     },
     "user_tz": -300
    },
    "id": "bXM_VwXgzDk9",
    "outputId": "23a280a1-ce08-4efd-e43f-bde3980caf19"
   },
   "outputs": [
    {
     "data": {
      "text/plain": [
       "match_no\n",
       "1        1\n",
       "2       23\n",
       "3       13\n",
       "4       12\n",
       "5        1\n",
       "      ... \n",
       "212     20\n",
       "213     73\n",
       "214     25\n",
       "215      7\n",
       "0      100\n",
       "Name: runs, Length: 216, dtype: int64"
      ]
     },
     "execution_count": 148,
     "metadata": {},
     "output_type": "execute_result"
    }
   ],
   "source": [
    "# copy\n",
    "vk"
   ]
  },
  {
   "cell_type": "code",
   "execution_count": null,
   "metadata": {
    "id": "4ArXgksgzWJc"
   },
   "outputs": [],
   "source": [
    "new = vk.head() # by using head vk 5 top values stored in new variable and if we do any changes on new changes also occurs in original vk\n",
    "# with using copy it gets view of data"
   ]
  },
  {
   "cell_type": "code",
   "execution_count": null,
   "metadata": {
    "colab": {
     "base_uri": "https://localhost:8080/"
    },
    "executionInfo": {
     "elapsed": 2,
     "status": "ok",
     "timestamp": 1702247244130,
     "user": {
      "displayName": "Mohsin Raza",
      "userId": "02069157311777040551"
     },
     "user_tz": -300
    },
    "id": "VtvNWZhKzZrk",
    "outputId": "3ecf05ba-182a-4823-87b2-7e49c795e024"
   },
   "outputs": [
    {
     "data": {
      "text/plain": [
       "match_no\n",
       "1     1\n",
       "2    23\n",
       "3    13\n",
       "4    12\n",
       "5     1\n",
       "Name: runs, dtype: int64"
      ]
     },
     "execution_count": 150,
     "metadata": {},
     "output_type": "execute_result"
    }
   ],
   "source": [
    "new"
   ]
  },
  {
   "cell_type": "code",
   "execution_count": null,
   "metadata": {
    "id": "GBW05IGqz3Ix"
   },
   "outputs": [],
   "source": [
    "new[1] = 100"
   ]
  },
  {
   "cell_type": "code",
   "execution_count": null,
   "metadata": {
    "colab": {
     "base_uri": "https://localhost:8080/"
    },
    "executionInfo": {
     "elapsed": 3,
     "status": "ok",
     "timestamp": 1702247246966,
     "user": {
      "displayName": "Mohsin Raza",
      "userId": "02069157311777040551"
     },
     "user_tz": -300
    },
    "id": "rw98y7m9z8hX",
    "outputId": "555f1235-1fce-4f18-99ce-d7c71bd18036"
   },
   "outputs": [
    {
     "data": {
      "text/plain": [
       "match_no\n",
       "1    100\n",
       "2     23\n",
       "3     13\n",
       "4     12\n",
       "5      1\n",
       "Name: runs, dtype: int64"
      ]
     },
     "execution_count": 152,
     "metadata": {},
     "output_type": "execute_result"
    }
   ],
   "source": [
    "new"
   ]
  },
  {
   "cell_type": "code",
   "execution_count": null,
   "metadata": {
    "colab": {
     "base_uri": "https://localhost:8080/"
    },
    "executionInfo": {
     "elapsed": 6,
     "status": "ok",
     "timestamp": 1702247248368,
     "user": {
      "displayName": "Mohsin Raza",
      "userId": "02069157311777040551"
     },
     "user_tz": -300
    },
    "id": "851_-Dn4z-dq",
    "outputId": "4959d62b-5e61-4851-c6ec-a5f38dc09ed5"
   },
   "outputs": [
    {
     "data": {
      "text/plain": [
       "match_no\n",
       "1      100\n",
       "2       23\n",
       "3       13\n",
       "4       12\n",
       "5        1\n",
       "      ... \n",
       "212     20\n",
       "213     73\n",
       "214     25\n",
       "215      7\n",
       "0      100\n",
       "Name: runs, Length: 216, dtype: int64"
      ]
     },
     "execution_count": 153,
     "metadata": {},
     "output_type": "execute_result"
    }
   ],
   "source": [
    "vk # here we see that we do new[1] = 100 its also update in vk[1] = 100"
   ]
  },
  {
   "cell_type": "code",
   "execution_count": null,
   "metadata": {
    "id": "WeaKrsJQ0GAz"
   },
   "outputs": [],
   "source": [
    "new1 = vk.head().copy()"
   ]
  },
  {
   "cell_type": "code",
   "execution_count": null,
   "metadata": {
    "colab": {
     "base_uri": "https://localhost:8080/"
    },
    "executionInfo": {
     "elapsed": 4,
     "status": "ok",
     "timestamp": 1702247251108,
     "user": {
      "displayName": "Mohsin Raza",
      "userId": "02069157311777040551"
     },
     "user_tz": -300
    },
    "id": "gnmFvEIF1fir",
    "outputId": "5bd18ba6-0708-4de6-ba22-b635a5e61e61"
   },
   "outputs": [
    {
     "data": {
      "text/plain": [
       "match_no\n",
       "1    100\n",
       "2     23\n",
       "3     13\n",
       "4     12\n",
       "5      1\n",
       "Name: runs, dtype: int64"
      ]
     },
     "execution_count": 155,
     "metadata": {},
     "output_type": "execute_result"
    }
   ],
   "source": [
    "new1"
   ]
  },
  {
   "cell_type": "code",
   "execution_count": null,
   "metadata": {
    "id": "LgJelceR1goY"
   },
   "outputs": [],
   "source": [
    "new1[1] = 1"
   ]
  },
  {
   "cell_type": "code",
   "execution_count": null,
   "metadata": {
    "colab": {
     "base_uri": "https://localhost:8080/"
    },
    "executionInfo": {
     "elapsed": 3,
     "status": "ok",
     "timestamp": 1702247258694,
     "user": {
      "displayName": "Mohsin Raza",
      "userId": "02069157311777040551"
     },
     "user_tz": -300
    },
    "id": "9X3Q2-0T1i6p",
    "outputId": "17162c0d-d47e-4d0a-b427-6e2ec485d73b"
   },
   "outputs": [
    {
     "data": {
      "text/plain": [
       "match_no\n",
       "1     1\n",
       "2    23\n",
       "3    13\n",
       "4    12\n",
       "5     1\n",
       "Name: runs, dtype: int64"
      ]
     },
     "execution_count": 157,
     "metadata": {},
     "output_type": "execute_result"
    }
   ],
   "source": [
    "new1"
   ]
  },
  {
   "cell_type": "code",
   "execution_count": null,
   "metadata": {
    "colab": {
     "base_uri": "https://localhost:8080/"
    },
    "executionInfo": {
     "elapsed": 357,
     "status": "ok",
     "timestamp": 1702247261097,
     "user": {
      "displayName": "Mohsin Raza",
      "userId": "02069157311777040551"
     },
     "user_tz": -300
    },
    "id": "HDLuU6Ov1kYb",
    "outputId": "0797a108-b6ca-4d23-f7b5-5427f6fad75a"
   },
   "outputs": [
    {
     "data": {
      "text/plain": [
       "match_no\n",
       "1      100\n",
       "2       23\n",
       "3       13\n",
       "4       12\n",
       "5        1\n",
       "      ... \n",
       "212     20\n",
       "213     73\n",
       "214     25\n",
       "215      7\n",
       "0      100\n",
       "Name: runs, Length: 216, dtype: int64"
      ]
     },
     "execution_count": 158,
     "metadata": {},
     "output_type": "execute_result"
    }
   ],
   "source": [
    "vk"
   ]
  },
  {
   "cell_type": "code",
   "execution_count": null,
   "metadata": {
    "id": "V7928Tgp1pBD"
   },
   "outputs": [],
   "source": [
    "import numpy as np\n",
    "import pandas as pd"
   ]
  },
  {
   "cell_type": "code",
   "execution_count": null,
   "metadata": {
    "colab": {
     "base_uri": "https://localhost:8080/"
    },
    "executionInfo": {
     "elapsed": 8,
     "status": "ok",
     "timestamp": 1702410424016,
     "user": {
      "displayName": "Mohsin Raza",
      "userId": "02069157311777040551"
     },
     "user_tz": -300
    },
    "id": "CljlGWJlZyxh",
    "outputId": "350a6180-5048-406e-c31b-f774c2438d41"
   },
   "outputs": [
    {
     "data": {
      "text/plain": [
       "a    1\n",
       "b    2\n",
       "c    3\n",
       "dtype: int64"
      ]
     },
     "execution_count": 28,
     "metadata": {},
     "output_type": "execute_result"
    }
   ],
   "source": [
    "s1 = pd.Series([1,2,3],index=['a','b','c'])\n",
    "s1"
   ]
  },
  {
   "cell_type": "code",
   "execution_count": null,
   "metadata": {
    "colab": {
     "base_uri": "https://localhost:8080/"
    },
    "executionInfo": {
     "elapsed": 6,
     "status": "ok",
     "timestamp": 1702410426109,
     "user": {
      "displayName": "Mohsin Raza",
      "userId": "02069157311777040551"
     },
     "user_tz": -300
    },
    "id": "eLAjyq2NacD_",
    "outputId": "b4a727ca-a7d0-47d0-9193-dcb2c663b74c"
   },
   "outputs": [
    {
     "data": {
      "text/plain": [
       "x    11\n",
       "z    22\n",
       "a    33\n",
       "dtype: int64"
      ]
     },
     "execution_count": 29,
     "metadata": {},
     "output_type": "execute_result"
    }
   ],
   "source": [
    "s2 = pd.Series([11,22,33],index=['x','z','a'])\n",
    "s2"
   ]
  },
  {
   "cell_type": "code",
   "execution_count": null,
   "metadata": {
    "colab": {
     "base_uri": "https://localhost:8080/"
    },
    "executionInfo": {
     "elapsed": 10,
     "status": "ok",
     "timestamp": 1702410428118,
     "user": {
      "displayName": "Mohsin Raza",
      "userId": "02069157311777040551"
     },
     "user_tz": -300
    },
    "id": "ZeSqHRD5anCD",
    "outputId": "19c75e0a-5ccb-47c8-c7cd-c1a041095b17"
   },
   "outputs": [
    {
     "data": {
      "text/plain": [
       "a    34.0\n",
       "b     NaN\n",
       "c     NaN\n",
       "x     NaN\n",
       "z     NaN\n",
       "dtype: float64"
      ]
     },
     "execution_count": 30,
     "metadata": {},
     "output_type": "execute_result"
    }
   ],
   "source": [
    "s1 + s2"
   ]
  },
  {
   "cell_type": "code",
   "execution_count": null,
   "metadata": {
    "colab": {
     "base_uri": "https://localhost:8080/"
    },
    "executionInfo": {
     "elapsed": 10,
     "status": "ok",
     "timestamp": 1702410429801,
     "user": {
      "displayName": "Mohsin Raza",
      "userId": "02069157311777040551"
     },
     "user_tz": -300
    },
    "id": "7lznQ_AldNWV",
    "outputId": "4428bda8-0fed-4c76-cca7-4e4fe62900c8"
   },
   "outputs": [
    {
     "data": {
      "text/plain": [
       "0    0\n",
       "1    1\n",
       "2    2\n",
       "3    3\n",
       "4    4\n",
       "5    5\n",
       "6    6\n",
       "7    7\n",
       "8    8\n",
       "9    9\n",
       "dtype: int64"
      ]
     },
     "execution_count": 31,
     "metadata": {},
     "output_type": "execute_result"
    }
   ],
   "source": [
    "s3 = pd.Series(range(10))\n",
    "s3"
   ]
  },
  {
   "cell_type": "code",
   "execution_count": null,
   "metadata": {
    "colab": {
     "base_uri": "https://localhost:8080/"
    },
    "executionInfo": {
     "elapsed": 7,
     "status": "ok",
     "timestamp": 1702410432081,
     "user": {
      "displayName": "Mohsin Raza",
      "userId": "02069157311777040551"
     },
     "user_tz": -300
    },
    "id": "9QNLUxlsdei6",
    "outputId": "73eeff1f-a39a-4f26-8bc7-c697f206a1dc"
   },
   "outputs": [
    {
     "data": {
      "text/plain": [
       "0     10\n",
       "1     11\n",
       "2     12\n",
       "3     13\n",
       "4     14\n",
       "5     15\n",
       "6     16\n",
       "7     17\n",
       "8     18\n",
       "9     19\n",
       "10    20\n",
       "dtype: int64"
      ]
     },
     "execution_count": 32,
     "metadata": {},
     "output_type": "execute_result"
    }
   ],
   "source": [
    "s4 = pd.Series(range(10,21))\n",
    "s4"
   ]
  },
  {
   "cell_type": "code",
   "execution_count": null,
   "metadata": {
    "colab": {
     "base_uri": "https://localhost:8080/"
    },
    "executionInfo": {
     "elapsed": 1116,
     "status": "ok",
     "timestamp": 1702410434461,
     "user": {
      "displayName": "Mohsin Raza",
      "userId": "02069157311777040551"
     },
     "user_tz": -300
    },
    "id": "QDK74LgYdziW",
    "outputId": "540c8058-6f42-4f3d-da62-4011d96ccd94"
   },
   "outputs": [
    {
     "data": {
      "text/plain": [
       "0     10.0\n",
       "1     12.0\n",
       "2     14.0\n",
       "3     16.0\n",
       "4     18.0\n",
       "5     20.0\n",
       "6     22.0\n",
       "7     24.0\n",
       "8     26.0\n",
       "9     28.0\n",
       "10     NaN\n",
       "dtype: float64"
      ]
     },
     "execution_count": 33,
     "metadata": {},
     "output_type": "execute_result"
    }
   ],
   "source": [
    "s3 + s4"
   ]
  },
  {
   "cell_type": "code",
   "execution_count": null,
   "metadata": {
    "colab": {
     "base_uri": "https://localhost:8080/"
    },
    "executionInfo": {
     "elapsed": 6,
     "status": "ok",
     "timestamp": 1702410436361,
     "user": {
      "displayName": "Mohsin Raza",
      "userId": "02069157311777040551"
     },
     "user_tz": -300
    },
    "id": "CPD6bLTpd4PR",
    "outputId": "89cb1d9c-dc16-49a3-c5a8-fc71f0df6b41"
   },
   "outputs": [
    {
     "data": {
      "text/plain": [
       "Ali        10\n",
       "Ahsan      20\n",
       "Mohsin     30\n",
       "Awais      40\n",
       "Huzaifa    50\n",
       "dtype: int64"
      ]
     },
     "execution_count": 34,
     "metadata": {},
     "output_type": "execute_result"
    }
   ],
   "source": [
    "new = pd.Series([10,20,30,40,50], index=[\"Ali\",\"Ahsan\",\"Mohsin\",\"Awais\",\"Huzaifa\"])\n",
    "new"
   ]
  },
  {
   "cell_type": "code",
   "execution_count": null,
   "metadata": {
    "colab": {
     "base_uri": "https://localhost:8080/"
    },
    "executionInfo": {
     "elapsed": 629,
     "status": "ok",
     "timestamp": 1702410440747,
     "user": {
      "displayName": "Mohsin Raza",
      "userId": "02069157311777040551"
     },
     "user_tz": -300
    },
    "id": "qVbgjU4Mh-7Q",
    "outputId": "fc123d5b-3611-47dd-9021-d7ac2fe2638a"
   },
   "outputs": [
    {
     "data": {
      "text/plain": [
       "Ali        Fail\n",
       "Ahsan      Fail\n",
       "Mohsin     Fail\n",
       "Awais      Pass\n",
       "Huzaifa    Pass\n",
       "dtype: object"
      ]
     },
     "execution_count": 35,
     "metadata": {},
     "output_type": "execute_result"
    }
   ],
   "source": [
    "new.apply(lambda x: \"Pass\" if x>30 else \"Fail\")"
   ]
  },
  {
   "cell_type": "code",
   "execution_count": null,
   "metadata": {
    "colab": {
     "base_uri": "https://localhost:8080/"
    },
    "executionInfo": {
     "elapsed": 449,
     "status": "ok",
     "timestamp": 1702410574627,
     "user": {
      "displayName": "Mohsin Raza",
      "userId": "02069157311777040551"
     },
     "user_tz": -300
    },
    "id": "M3NmNfHxiyql",
    "outputId": "ffcfd23f-9f00-4267-888d-7b97ec4e20a1"
   },
   "outputs": [
    {
     "data": {
      "text/plain": [
       "array(['fail', 'fail', 'fail', 'pass', 'pass'], dtype='<U4')"
      ]
     },
     "execution_count": 40,
     "metadata": {},
     "output_type": "execute_result"
    }
   ],
   "source": [
    "np.where(new>30, \"pass\", \"fail\")"
   ]
  },
  {
   "cell_type": "code",
   "execution_count": null,
   "metadata": {
    "colab": {
     "base_uri": "https://localhost:8080/"
    },
    "executionInfo": {
     "elapsed": 425,
     "status": "ok",
     "timestamp": 1702410637556,
     "user": {
      "displayName": "Mohsin Raza",
      "userId": "02069157311777040551"
     },
     "user_tz": -300
    },
    "id": "aoT4lrE-knmt",
    "outputId": "6463662d-08d6-4738-ba6b-e2df71cd1eb5"
   },
   "outputs": [
    {
     "data": {
      "text/plain": [
       "Ali        fail\n",
       "Ahsan      fail\n",
       "Mohsin     fail\n",
       "Awais      pass\n",
       "Huzaifa    pass\n",
       "dtype: object"
      ]
     },
     "execution_count": 41,
     "metadata": {},
     "output_type": "execute_result"
    }
   ],
   "source": [
    "new.apply(lambda x: np.where(x>30, \"pass\", \"fail\"))"
   ]
  },
  {
   "cell_type": "code",
   "execution_count": null,
   "metadata": {
    "colab": {
     "base_uri": "https://localhost:8080/"
    },
    "executionInfo": {
     "elapsed": 425,
     "status": "ok",
     "timestamp": 1702412043617,
     "user": {
      "displayName": "Mohsin Raza",
      "userId": "02069157311777040551"
     },
     "user_tz": -300
    },
    "id": "DigWMmP8qhMw",
    "outputId": "f098851b-a342-4b34-f1cf-a6dd1d1a3f35"
   },
   "outputs": [
    {
     "data": {
      "text/plain": [
       "a    1\n",
       "b    2\n",
       "c    3\n",
       "dtype: int64"
      ]
     },
     "execution_count": 43,
     "metadata": {},
     "output_type": "execute_result"
    }
   ],
   "source": [
    "s1"
   ]
  },
  {
   "cell_type": "code",
   "execution_count": null,
   "metadata": {
    "colab": {
     "base_uri": "https://localhost:8080/"
    },
    "executionInfo": {
     "elapsed": 515,
     "status": "ok",
     "timestamp": 1702412174750,
     "user": {
      "displayName": "Mohsin Raza",
      "userId": "02069157311777040551"
     },
     "user_tz": -300
    },
    "id": "lD1TCUNBlMnq",
    "outputId": "86f5334b-d1bb-49cf-a8a9-8b6d58164887"
   },
   "outputs": [
    {
     "data": {
      "text/plain": [
       "a    1\n",
       "b    2\n",
       "c    3\n",
       "dtype: int64"
      ]
     },
     "execution_count": 49,
     "metadata": {},
     "output_type": "execute_result"
    }
   ],
   "source": [
    "s5 = pd.Series([1,2,3], s1.index)\n",
    "s5"
   ]
  },
  {
   "cell_type": "code",
   "execution_count": null,
   "metadata": {
    "colab": {
     "base_uri": "https://localhost:8080/"
    },
    "executionInfo": {
     "elapsed": 3,
     "status": "ok",
     "timestamp": 1702412176506,
     "user": {
      "displayName": "Mohsin Raza",
      "userId": "02069157311777040551"
     },
     "user_tz": -300
    },
    "id": "myVJIx1sqoai",
    "outputId": "dd4118ab-22b6-4ae1-d07d-fdfbdfad5a5a"
   },
   "outputs": [
    {
     "data": {
      "text/plain": [
       "a    100\n",
       "b    100\n",
       "c    100\n",
       "dtype: int64"
      ]
     },
     "execution_count": 50,
     "metadata": {},
     "output_type": "execute_result"
    }
   ],
   "source": [
    "s6 = pd.Series(100,s1.index)\n",
    "s6"
   ]
  },
  {
   "cell_type": "code",
   "execution_count": null,
   "metadata": {
    "id": "6ruvjPSAq8zw"
   },
   "outputs": [],
   "source": [
    "np.random.seed(2)\n",
    "s1 = pd.Series(np.random.randn(3))\n",
    "s2 = pd.Series(np.random.randn(3))"
   ]
  },
  {
   "cell_type": "code",
   "execution_count": null,
   "metadata": {
    "colab": {
     "base_uri": "https://localhost:8080/"
    },
    "executionInfo": {
     "elapsed": 604,
     "status": "ok",
     "timestamp": 1702413230233,
     "user": {
      "displayName": "Mohsin Raza",
      "userId": "02069157311777040551"
     },
     "user_tz": -300
    },
    "id": "JINIoeUivE5w",
    "outputId": "e723f83a-dd19-4ae0-ebce-48af2e9063a9"
   },
   "outputs": [
    {
     "data": {
      "text/plain": [
       "0   -0.416758\n",
       "1   -0.056267\n",
       "2   -2.136196\n",
       "dtype: float64"
      ]
     },
     "execution_count": 52,
     "metadata": {},
     "output_type": "execute_result"
    }
   ],
   "source": [
    "s1"
   ]
  },
  {
   "cell_type": "code",
   "execution_count": null,
   "metadata": {
    "colab": {
     "base_uri": "https://localhost:8080/"
    },
    "executionInfo": {
     "elapsed": 516,
     "status": "ok",
     "timestamp": 1702413232861,
     "user": {
      "displayName": "Mohsin Raza",
      "userId": "02069157311777040551"
     },
     "user_tz": -300
    },
    "id": "F6USRPk-vFsz",
    "outputId": "657d43ad-f68a-45a1-e614-1cc5d8551b40"
   },
   "outputs": [
    {
     "data": {
      "text/plain": [
       "0    1.640271\n",
       "1   -1.793436\n",
       "2   -0.841747\n",
       "dtype: float64"
      ]
     },
     "execution_count": 53,
     "metadata": {},
     "output_type": "execute_result"
    }
   ],
   "source": [
    "s2"
   ]
  },
  {
   "cell_type": "code",
   "execution_count": null,
   "metadata": {
    "colab": {
     "base_uri": "https://localhost:8080/"
    },
    "executionInfo": {
     "elapsed": 421,
     "status": "ok",
     "timestamp": 1702413626200,
     "user": {
      "displayName": "Mohsin Raza",
      "userId": "02069157311777040551"
     },
     "user_tz": -300
    },
    "id": "bjf6q7MOvGZs",
    "outputId": "581283c1-efff-4a81-d165-1dfcab2b6e1a"
   },
   "outputs": [
    {
     "data": {
      "text/plain": [
       "0   -0.416758\n",
       "1   -0.056267\n",
       "2   -2.136196\n",
       "0    1.640271\n",
       "1   -1.793436\n",
       "2   -0.841747\n",
       "dtype: float64"
      ]
     },
     "execution_count": 59,
     "metadata": {},
     "output_type": "execute_result"
    }
   ],
   "source": [
    "combined = pd.concat([s1,s2])\n",
    "combined"
   ]
  },
  {
   "cell_type": "code",
   "execution_count": null,
   "metadata": {
    "colab": {
     "base_uri": "https://localhost:8080/"
    },
    "executionInfo": {
     "elapsed": 6,
     "status": "ok",
     "timestamp": 1702414733125,
     "user": {
      "displayName": "Mohsin Raza",
      "userId": "02069157311777040551"
     },
     "user_tz": -300
    },
    "id": "98bDBvDlvQc2",
    "outputId": "2141acf0-0c25-4d02-f8af-0ab5af4133a9"
   },
   "outputs": [
    {
     "data": {
      "text/plain": [
       "0   -0.416758\n",
       "1   -0.056267\n",
       "2   -2.136196\n",
       "3    1.640271\n",
       "4   -1.793436\n",
       "5   -0.841747\n",
       "dtype: float64"
      ]
     },
     "execution_count": 100,
     "metadata": {},
     "output_type": "execute_result"
    }
   ],
   "source": [
    "# Resetting the index to avoid duplicates\n",
    "combined.reset_index(drop=True, inplace = True)\n",
    "combined"
   ]
  },
  {
   "cell_type": "code",
   "execution_count": null,
   "metadata": {
    "id": "kfK3fkndyxCp"
   },
   "outputs": [],
   "source": [
    "# deletion apply on series one by one slicing deletion doesn't support in series"
   ]
  }
 ],
 "metadata": {
  "colab": {
   "authorship_tag": "ABX9TyNqxtHFsYlZEKjHv6LSlze7",
   "provenance": []
  },
  "kernelspec": {
   "display_name": "Python 3 (ipykernel)",
   "language": "python",
   "name": "python3"
  },
  "language_info": {
   "codemirror_mode": {
    "name": "ipython",
    "version": 3
   },
   "file_extension": ".py",
   "mimetype": "text/x-python",
   "name": "python",
   "nbconvert_exporter": "python",
   "pygments_lexer": "ipython3",
   "version": "3.12.4"
  }
 },
 "nbformat": 4,
 "nbformat_minor": 4
}
