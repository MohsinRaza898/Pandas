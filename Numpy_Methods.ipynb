{
 "cells": [
  {
   "cell_type": "markdown",
   "metadata": {
    "id": "oVRa7nU7Fhgk"
   },
   "source": [
    "**Numpy Functions**"
   ]
  },
  {
   "cell_type": "markdown",
   "metadata": {
    "id": "RlFp_bxCFpp4"
   },
   "source": [
    "1) *np.sort*"
   ]
  },
  {
   "cell_type": "code",
   "execution_count": null,
   "metadata": {
    "colab": {
     "base_uri": "https://localhost:8080/"
    },
    "executionInfo": {
     "elapsed": 46,
     "status": "ok",
     "timestamp": 1701992685962,
     "user": {
      "displayName": "Mohsin Raza",
      "userId": "02069157311777040551"
     },
     "user_tz": -300
    },
    "id": "fxh6gOk8DS-m",
    "outputId": "2f1937f8-92cb-424d-c932-4c325d33e0fe"
   },
   "outputs": [
    {
     "data": {
      "text/plain": [
       "array([76, 26, 21, 11, 14, 65, 51, 65, 93, 54, 77, 24, 96, 35, 62])"
      ]
     },
     "execution_count": 74,
     "metadata": {},
     "output_type": "execute_result"
    }
   ],
   "source": [
    "import numpy as np\n",
    "a = np.random.randint(1,100,15)\n",
    "a"
   ]
  },
  {
   "cell_type": "code",
   "execution_count": null,
   "metadata": {
    "colab": {
     "base_uri": "https://localhost:8080/"
    },
    "executionInfo": {
     "elapsed": 44,
     "status": "ok",
     "timestamp": 1701992685962,
     "user": {
      "displayName": "Mohsin Raza",
      "userId": "02069157311777040551"
     },
     "user_tz": -300
    },
    "id": "AtwuAAf7GES0",
    "outputId": "994908fe-f9b1-470b-c2a3-fe74a6fefd68"
   },
   "outputs": [
    {
     "data": {
      "text/plain": [
       "array([11, 14, 21, 24, 26, 35, 51, 54, 62, 65, 65, 76, 77, 93, 96])"
      ]
     },
     "execution_count": 75,
     "metadata": {},
     "output_type": "execute_result"
    }
   ],
   "source": [
    "np.sort(a)"
   ]
  },
  {
   "cell_type": "code",
   "execution_count": null,
   "metadata": {
    "colab": {
     "base_uri": "https://localhost:8080/"
    },
    "executionInfo": {
     "elapsed": 42,
     "status": "ok",
     "timestamp": 1701992685963,
     "user": {
      "displayName": "Mohsin Raza",
      "userId": "02069157311777040551"
     },
     "user_tz": -300
    },
    "id": "KWKqFOUiHcg-",
    "outputId": "bbf6c29f-ca4b-479b-de38-c30179c06f2c"
   },
   "outputs": [
    {
     "data": {
      "text/plain": [
       "array([96, 93, 77, 76, 65, 65, 62, 54, 51, 35, 26, 24, 21, 14, 11])"
      ]
     },
     "execution_count": 76,
     "metadata": {},
     "output_type": "execute_result"
    }
   ],
   "source": [
    "np.sort(a)[::-1] # reversed order sorting"
   ]
  },
  {
   "cell_type": "code",
   "execution_count": null,
   "metadata": {
    "colab": {
     "base_uri": "https://localhost:8080/"
    },
    "executionInfo": {
     "elapsed": 40,
     "status": "ok",
     "timestamp": 1701992685963,
     "user": {
      "displayName": "Mohsin Raza",
      "userId": "02069157311777040551"
     },
     "user_tz": -300
    },
    "id": "1_064zFMF3eZ",
    "outputId": "a30a007e-c2bc-449a-db3f-d753d508bdf4"
   },
   "outputs": [
    {
     "data": {
      "text/plain": [
       "array([[91,  2, 67, 14],\n",
       "       [44, 80, 32,  5],\n",
       "       [90, 21, 49, 32],\n",
       "       [11, 76, 31,  4],\n",
       "       [88, 14, 58, 63],\n",
       "       [17, 92, 55, 55]])"
      ]
     },
     "execution_count": 77,
     "metadata": {},
     "output_type": "execute_result"
    }
   ],
   "source": [
    "b = np.random.randint(1,100,24).reshape(6,4)\n",
    "b"
   ]
  },
  {
   "cell_type": "code",
   "execution_count": null,
   "metadata": {
    "colab": {
     "base_uri": "https://localhost:8080/"
    },
    "executionInfo": {
     "elapsed": 35,
     "status": "ok",
     "timestamp": 1701992685963,
     "user": {
      "displayName": "Mohsin Raza",
      "userId": "02069157311777040551"
     },
     "user_tz": -300
    },
    "id": "U2NQH3AgGLpO",
    "outputId": "a4ce1528-689e-4bcc-972b-04e0911612b2"
   },
   "outputs": [
    {
     "data": {
      "text/plain": [
       "array([[ 2, 14, 67, 91],\n",
       "       [ 5, 32, 44, 80],\n",
       "       [21, 32, 49, 90],\n",
       "       [ 4, 11, 31, 76],\n",
       "       [14, 58, 63, 88],\n",
       "       [17, 55, 55, 92]])"
      ]
     },
     "execution_count": 78,
     "metadata": {},
     "output_type": "execute_result"
    }
   ],
   "source": [
    "np.sort(b) # by default row wise sort"
   ]
  },
  {
   "cell_type": "code",
   "execution_count": null,
   "metadata": {
    "colab": {
     "base_uri": "https://localhost:8080/"
    },
    "executionInfo": {
     "elapsed": 32,
     "status": "ok",
     "timestamp": 1701992685963,
     "user": {
      "displayName": "Mohsin Raza",
      "userId": "02069157311777040551"
     },
     "user_tz": -300
    },
    "id": "lfHGThhHGu28",
    "outputId": "684d17fb-585b-479c-af60-59fb6b0ebc71"
   },
   "outputs": [
    {
     "data": {
      "text/plain": [
       "array([[11,  2, 31,  4],\n",
       "       [17, 14, 32,  5],\n",
       "       [44, 21, 49, 14],\n",
       "       [88, 76, 55, 32],\n",
       "       [90, 80, 58, 55],\n",
       "       [91, 92, 67, 63]])"
      ]
     },
     "execution_count": 79,
     "metadata": {},
     "output_type": "execute_result"
    }
   ],
   "source": [
    "np.sort(b, axis=0) # (axis=0) for column wise sorting"
   ]
  },
  {
   "cell_type": "markdown",
   "metadata": {
    "id": "j9z0jsiMHoJP"
   },
   "source": [
    "2) *np.append*"
   ]
  },
  {
   "cell_type": "code",
   "execution_count": null,
   "metadata": {
    "colab": {
     "base_uri": "https://localhost:8080/"
    },
    "executionInfo": {
     "elapsed": 29,
     "status": "ok",
     "timestamp": 1701992685963,
     "user": {
      "displayName": "Mohsin Raza",
      "userId": "02069157311777040551"
     },
     "user_tz": -300
    },
    "id": "7TRYIUuJHGbz",
    "outputId": "7c8449e3-c2d4-4914-e4ed-48767698c678"
   },
   "outputs": [
    {
     "name": "stdout",
     "output_type": "stream",
     "text": [
      "[76 26 21 11 14 65 51 65 93 54 77 24 96 35 62] \n",
      "\n",
      "[ 76  26  21  11  14  65  51  65  93  54  77  24  96  35  62 101]\n"
     ]
    }
   ],
   "source": [
    "print(a, '\\n')\n",
    "print(np.append(a,101))"
   ]
  },
  {
   "cell_type": "code",
   "execution_count": null,
   "metadata": {
    "colab": {
     "base_uri": "https://localhost:8080/"
    },
    "executionInfo": {
     "elapsed": 26,
     "status": "ok",
     "timestamp": 1701992685963,
     "user": {
      "displayName": "Mohsin Raza",
      "userId": "02069157311777040551"
     },
     "user_tz": -300
    },
    "id": "jxPJ5iC3H1fk",
    "outputId": "18f8265d-07e8-430f-b49c-aa3a79e83beb"
   },
   "outputs": [
    {
     "name": "stdout",
     "output_type": "stream",
     "text": [
      "[[91  2 67 14]\n",
      " [44 80 32  5]\n",
      " [90 21 49 32]\n",
      " [11 76 31  4]\n",
      " [88 14 58 63]\n",
      " [17 92 55 55]] \n",
      "\n",
      "[91.  2. 67. 14. 44. 80. 32.  5. 90. 21. 49. 32. 11. 76. 31.  4. 88. 14.\n",
      " 58. 63. 17. 92. 55. 55.  1.  1.  1.  1.  1.  1.]\n",
      "\n",
      "\n",
      "[[91.  2. 67. 14.  1.]\n",
      " [44. 80. 32.  5.  1.]\n",
      " [90. 21. 49. 32.  1.]\n",
      " [11. 76. 31.  4.  1.]\n",
      " [88. 14. 58. 63.  1.]\n",
      " [17. 92. 55. 55.  1.]]\n"
     ]
    }
   ],
   "source": [
    "print(b, '\\n')\n",
    "print(np.append(b,np.ones((b.shape[0],1))))\n",
    "print('\\n')\n",
    "print(np.append(b,np.ones((b.shape[0],1)),axis=1 ))"
   ]
  },
  {
   "cell_type": "markdown",
   "metadata": {
    "id": "F6BawfQ3Kfwu"
   },
   "source": [
    "3) *np.concatenate*"
   ]
  },
  {
   "cell_type": "code",
   "execution_count": null,
   "metadata": {
    "colab": {
     "base_uri": "https://localhost:8080/"
    },
    "executionInfo": {
     "elapsed": 25,
     "status": "ok",
     "timestamp": 1701992685964,
     "user": {
      "displayName": "Mohsin Raza",
      "userId": "02069157311777040551"
     },
     "user_tz": -300
    },
    "id": "7B_2hM1mIa49",
    "outputId": "0072b50f-7032-466b-f66b-350e61ac1cbf"
   },
   "outputs": [
    {
     "name": "stdout",
     "output_type": "stream",
     "text": [
      "[[0 1 2]\n",
      " [3 4 5]] \n",
      "\n",
      "[[ 7  8  9]\n",
      " [10 11 12]] \n",
      "\n"
     ]
    }
   ],
   "source": [
    "c = np.arange(6).reshape(2,3)\n",
    "d = np.arange(7,13).reshape(2,3)\n",
    "\n",
    "print(c,'\\n')\n",
    "print(d,'\\n')"
   ]
  },
  {
   "cell_type": "code",
   "execution_count": null,
   "metadata": {
    "colab": {
     "base_uri": "https://localhost:8080/"
    },
    "executionInfo": {
     "elapsed": 21,
     "status": "ok",
     "timestamp": 1701992685964,
     "user": {
      "displayName": "Mohsin Raza",
      "userId": "02069157311777040551"
     },
     "user_tz": -300
    },
    "id": "rx3fS7zNLG3J",
    "outputId": "d4f06516-b072-4f68-8238-e9ce49f18fc5"
   },
   "outputs": [
    {
     "name": "stdout",
     "output_type": "stream",
     "text": [
      "[[ 0  1  2]\n",
      " [ 3  4  5]\n",
      " [ 7  8  9]\n",
      " [10 11 12]] \n",
      "\n",
      "[[ 0  1  2]\n",
      " [ 3  4  5]\n",
      " [ 7  8  9]\n",
      " [10 11 12]] \n",
      "\n",
      "[[ 0  1  2  7  8  9]\n",
      " [ 3  4  5 10 11 12]]\n"
     ]
    }
   ],
   "source": [
    "print(np.concatenate((c,d)),'\\n') # by default row wise concatenating\n",
    "print(np.concatenate((c,d), axis=0),'\\n')\n",
    "print(np.concatenate((c,d), axis=1))\n"
   ]
  },
  {
   "cell_type": "markdown",
   "metadata": {
    "id": "fAxIAt0qMDb1"
   },
   "source": [
    "4) *np.unique*"
   ]
  },
  {
   "cell_type": "code",
   "execution_count": null,
   "metadata": {
    "colab": {
     "base_uri": "https://localhost:8080/"
    },
    "executionInfo": {
     "elapsed": 18,
     "status": "ok",
     "timestamp": 1701992685964,
     "user": {
      "displayName": "Mohsin Raza",
      "userId": "02069157311777040551"
     },
     "user_tz": -300
    },
    "id": "7oXs_XnHLUgH",
    "outputId": "c36c9628-64c4-43f1-e3f6-582e31c22ce1"
   },
   "outputs": [
    {
     "name": "stdout",
     "output_type": "stream",
     "text": [
      "[1 1 2 2 3 3 4 5 5 6 6 7 8 9 9] \n",
      "\n",
      "[1 2 3 4 5 6 7 8 9]\n"
     ]
    }
   ],
   "source": [
    "e = np.array([1,1,2,2,3,3,4,5,5,6,6,7,8,9,9])\n",
    "print(e,'\\n')\n",
    "print(np.unique(e))"
   ]
  },
  {
   "cell_type": "markdown",
   "metadata": {
    "id": "WPsvTNx1MoLa"
   },
   "source": [
    "5) *np.expand_dims*"
   ]
  },
  {
   "cell_type": "code",
   "execution_count": null,
   "metadata": {
    "colab": {
     "base_uri": "https://localhost:8080/"
    },
    "executionInfo": {
     "elapsed": 16,
     "status": "ok",
     "timestamp": 1701992685964,
     "user": {
      "displayName": "Mohsin Raza",
      "userId": "02069157311777040551"
     },
     "user_tz": -300
    },
    "id": "oOPOGjMUMQlb",
    "outputId": "586e55f2-8c73-4aac-d68b-2b26db6615b4"
   },
   "outputs": [
    {
     "name": "stdout",
     "output_type": "stream",
     "text": [
      "[76 26 21 11 14 65 51 65 93 54 77 24 96 35 62]\n",
      "(15,)\n"
     ]
    }
   ],
   "source": [
    "print(a)\n",
    "print(a.shape)"
   ]
  },
  {
   "cell_type": "code",
   "execution_count": null,
   "metadata": {
    "colab": {
     "base_uri": "https://localhost:8080/"
    },
    "executionInfo": {
     "elapsed": 14,
     "status": "ok",
     "timestamp": 1701992685964,
     "user": {
      "displayName": "Mohsin Raza",
      "userId": "02069157311777040551"
     },
     "user_tz": -300
    },
    "id": "5E1f_I44Nchy",
    "outputId": "34f7663f-3b6c-4788-cf89-6180a6e8b051"
   },
   "outputs": [
    {
     "name": "stdout",
     "output_type": "stream",
     "text": [
      "[[76 26 21 11 14 65 51 65 93 54 77 24 96 35 62]]\n",
      "(1, 15) \n",
      "\n",
      "[[76]\n",
      " [26]\n",
      " [21]\n",
      " [11]\n",
      " [14]\n",
      " [65]\n",
      " [51]\n",
      " [65]\n",
      " [93]\n",
      " [54]\n",
      " [77]\n",
      " [24]\n",
      " [96]\n",
      " [35]\n",
      " [62]]\n",
      "(15, 1)\n"
     ]
    }
   ],
   "source": [
    "print(np.expand_dims(a, axis=0))\n",
    "print(np.expand_dims(a, axis=0).shape,'\\n')\n",
    "\n",
    "print(np.expand_dims(a, axis=1))\n",
    "print(np.expand_dims(a, axis=1).shape)\n"
   ]
  },
  {
   "cell_type": "markdown",
   "metadata": {
    "id": "xlM1DWwtO63C"
   },
   "source": [
    "6) *np.where*"
   ]
  },
  {
   "cell_type": "code",
   "execution_count": null,
   "metadata": {
    "colab": {
     "base_uri": "https://localhost:8080/"
    },
    "executionInfo": {
     "elapsed": 608,
     "status": "ok",
     "timestamp": 1701992686559,
     "user": {
      "displayName": "Mohsin Raza",
      "userId": "02069157311777040551"
     },
     "user_tz": -300
    },
    "id": "RKqGcoH6Nx9Q",
    "outputId": "1c4654f8-2401-45b9-aaf4-e6bc2bd5d83b"
   },
   "outputs": [
    {
     "name": "stdout",
     "output_type": "stream",
     "text": [
      "[76 26 21 11 14 65 51 65 93 54 77 24 96 35 62] \n",
      "\n"
     ]
    },
    {
     "data": {
      "text/plain": [
       "(array([ 0,  5,  6,  7,  8,  9, 10, 12, 14]),)"
      ]
     },
     "execution_count": 87,
     "metadata": {},
     "output_type": "execute_result"
    }
   ],
   "source": [
    "# find all the elements index whose value is greater than 50\n",
    "print(a,'\\n')\n",
    "np.where(a>50)"
   ]
  },
  {
   "cell_type": "code",
   "execution_count": null,
   "metadata": {
    "colab": {
     "base_uri": "https://localhost:8080/"
    },
    "executionInfo": {
     "elapsed": 57,
     "status": "ok",
     "timestamp": 1701992686559,
     "user": {
      "displayName": "Mohsin Raza",
      "userId": "02069157311777040551"
     },
     "user_tz": -300
    },
    "id": "iReL3ozOTtvC",
    "outputId": "f7792fe8-409c-4cbb-cadb-98d6a9959409"
   },
   "outputs": [
    {
     "data": {
      "text/plain": [
       "array([ 0, 26, 21, 11, 14,  0,  0,  0,  0,  0,  0, 24,  0, 35,  0])"
      ]
     },
     "execution_count": 88,
     "metadata": {},
     "output_type": "execute_result"
    }
   ],
   "source": [
    "# replace all values > 50 with 0\n",
    "np.where(a>50,0,a)   # n.where(condition,True,False)"
   ]
  },
  {
   "cell_type": "markdown",
   "metadata": {
    "id": "4G5KL0wQU17u"
   },
   "source": [
    "7) *np.argmax*"
   ]
  },
  {
   "cell_type": "code",
   "execution_count": null,
   "metadata": {
    "colab": {
     "base_uri": "https://localhost:8080/"
    },
    "executionInfo": {
     "elapsed": 57,
     "status": "ok",
     "timestamp": 1701992686560,
     "user": {
      "displayName": "Mohsin Raza",
      "userId": "02069157311777040551"
     },
     "user_tz": -300
    },
    "id": "-c9SBd3cUbeZ",
    "outputId": "41cccd76-82d8-4a15-9688-b0d607e8b736"
   },
   "outputs": [
    {
     "name": "stdout",
     "output_type": "stream",
     "text": [
      "[76 26 21 11 14 65 51 65 93 54 77 24 96 35 62] \n",
      "\n",
      "12\n"
     ]
    }
   ],
   "source": [
    "print(a,'\\n')\n",
    "print(np.argmax(a))"
   ]
  },
  {
   "cell_type": "code",
   "execution_count": null,
   "metadata": {
    "colab": {
     "base_uri": "https://localhost:8080/"
    },
    "executionInfo": {
     "elapsed": 55,
     "status": "ok",
     "timestamp": 1701992686560,
     "user": {
      "displayName": "Mohsin Raza",
      "userId": "02069157311777040551"
     },
     "user_tz": -300
    },
    "id": "09jKYMGZVbf8",
    "outputId": "f2647b1f-51c5-4ab3-a165-09d2a1a9f9aa"
   },
   "outputs": [
    {
     "name": "stdout",
     "output_type": "stream",
     "text": [
      "[[91  2 67 14]\n",
      " [44 80 32  5]\n",
      " [90 21 49 32]\n",
      " [11 76 31  4]\n",
      " [88 14 58 63]\n",
      " [17 92 55 55]] \n",
      "\n",
      "21 \n",
      "\n",
      "[0 5 0 4] \n",
      "\n",
      "[0 1 0 1 0 1] \n",
      "\n"
     ]
    }
   ],
   "source": [
    "print(b,'\\n')\n",
    "print(np.argmax(b),'\\n')\n",
    "print(np.argmax(b,axis=0),'\\n') # 0 --> col\n",
    "print(np.argmax(b,axis=1),'\\n') # 1 --> row"
   ]
  },
  {
   "cell_type": "markdown",
   "metadata": {
    "id": "laZUb1RQXP9t"
   },
   "source": [
    "8) *argmin*"
   ]
  },
  {
   "cell_type": "code",
   "execution_count": null,
   "metadata": {
    "colab": {
     "base_uri": "https://localhost:8080/"
    },
    "executionInfo": {
     "elapsed": 52,
     "status": "ok",
     "timestamp": 1701992686560,
     "user": {
      "displayName": "Mohsin Raza",
      "userId": "02069157311777040551"
     },
     "user_tz": -300
    },
    "id": "vLGLok9-WpuY",
    "outputId": "4cbe9aea-e319-4e13-f566-0f25215d3a38"
   },
   "outputs": [
    {
     "name": "stdout",
     "output_type": "stream",
     "text": [
      "[76 26 21 11 14 65 51 65 93 54 77 24 96 35 62] \n",
      "\n",
      "3\n"
     ]
    }
   ],
   "source": [
    "print(a,'\\n')\n",
    "print(np.argmin(a))"
   ]
  },
  {
   "cell_type": "markdown",
   "metadata": {
    "id": "Shc-_97mXh1B"
   },
   "source": [
    "9) *np.cumsum*"
   ]
  },
  {
   "cell_type": "code",
   "execution_count": null,
   "metadata": {
    "colab": {
     "base_uri": "https://localhost:8080/"
    },
    "executionInfo": {
     "elapsed": 50,
     "status": "ok",
     "timestamp": 1701992686560,
     "user": {
      "displayName": "Mohsin Raza",
      "userId": "02069157311777040551"
     },
     "user_tz": -300
    },
    "id": "rmIpgWCQXehX",
    "outputId": "03f6efb7-b9c9-4804-dea0-33582bfd6e44"
   },
   "outputs": [
    {
     "name": "stdout",
     "output_type": "stream",
     "text": [
      "[76 26 21 11 14 65 51 65 93 54 77 24 96 35 62] \n",
      "\n",
      "[ 76 102 123 134 148 213 264 329 422 476 553 577 673 708 770]\n"
     ]
    }
   ],
   "source": [
    "print(a,'\\n')\n",
    "print(np.cumsum(a))"
   ]
  },
  {
   "cell_type": "code",
   "execution_count": null,
   "metadata": {
    "colab": {
     "base_uri": "https://localhost:8080/"
    },
    "executionInfo": {
     "elapsed": 48,
     "status": "ok",
     "timestamp": 1701992686560,
     "user": {
      "displayName": "Mohsin Raza",
      "userId": "02069157311777040551"
     },
     "user_tz": -300
    },
    "id": "KcSA3AcMX8Oz",
    "outputId": "c8477007-5fa0-42ec-f98b-a8d52feb7591"
   },
   "outputs": [
    {
     "name": "stdout",
     "output_type": "stream",
     "text": [
      "[[91  2 67 14]\n",
      " [44 80 32  5]\n",
      " [90 21 49 32]\n",
      " [11 76 31  4]\n",
      " [88 14 58 63]\n",
      " [17 92 55 55]] \n",
      "\n",
      "1 \n",
      "\n",
      "[3 0 3 3] \n",
      "\n",
      "[1 3 1 3 1 0] \n",
      "\n"
     ]
    }
   ],
   "source": [
    "print(b,'\\n')\n",
    "print(np.argmin(b),'\\n')\n",
    "print(np.argmin(b,axis=0),'\\n') # 0 --> col\n",
    "print(np.argmin(b,axis=1),'\\n') # 1 --> row"
   ]
  },
  {
   "cell_type": "markdown",
   "metadata": {
    "id": "SaMuOsS0YS-p"
   },
   "source": [
    "10) *cumprod*"
   ]
  },
  {
   "cell_type": "code",
   "execution_count": null,
   "metadata": {
    "colab": {
     "base_uri": "https://localhost:8080/"
    },
    "executionInfo": {
     "elapsed": 48,
     "status": "ok",
     "timestamp": 1701992686561,
     "user": {
      "displayName": "Mohsin Raza",
      "userId": "02069157311777040551"
     },
     "user_tz": -300
    },
    "id": "W7eRALx0YKGr",
    "outputId": "32e8ce50-89e8-4c7f-8aa1-83113b713114"
   },
   "outputs": [
    {
     "name": "stdout",
     "output_type": "stream",
     "text": [
      "[76 26 21 11 14 65 51 65 93 54 77 24 96 35 62] \n",
      "\n",
      "[                  76                 1976                41496\n",
      "               456456              6390384            415374960\n",
      "          21184122960        1376967992400      128058023293200\n",
      "     6915133257832800   532465260853125600 -5667577813234537216\n",
      " -9131891932938575872 -6021568399787778048 -4402359312651206656]\n"
     ]
    }
   ],
   "source": [
    "print(a,'\\n')\n",
    "print(np.cumprod(a))"
   ]
  },
  {
   "cell_type": "code",
   "execution_count": null,
   "metadata": {
    "colab": {
     "base_uri": "https://localhost:8080/"
    },
    "executionInfo": {
     "elapsed": 45,
     "status": "ok",
     "timestamp": 1701992686561,
     "user": {
      "displayName": "Mohsin Raza",
      "userId": "02069157311777040551"
     },
     "user_tz": -300
    },
    "id": "Eki3_YVnYkZJ",
    "outputId": "b10ff376-71ca-44e9-86e7-25007c2f76ee"
   },
   "outputs": [
    {
     "name": "stdout",
     "output_type": "stream",
     "text": [
      "[[91  2 67 14]\n",
      " [44 80 32  5]\n",
      " [90 21 49 32]\n",
      " [11 76 31  4]\n",
      " [88 14 58 63]\n",
      " [17 92 55 55]] \n",
      "\n",
      "[                  91                  182                12194\n",
      "               170716              7511504            600920320\n",
      "          19229450240          96147251200        8653252608000\n",
      "      181718304768000     8904196933632000   284934301876224000\n",
      "  3134277320638464000 -1602596589700907008  5659737940400537600\n",
      "  4192207687892598784   -20604939642339328  -288469154992750592\n",
      "  1715533084130017280 -2601880142066221056 -7338474267706654720\n",
      "  7389898098241175552   616025781654519808 -3012070156420513792]\n"
     ]
    }
   ],
   "source": [
    "print(b,'\\n')\n",
    "print(np.cumprod(b))"
   ]
  },
  {
   "cell_type": "markdown",
   "metadata": {
    "id": "AxJi0KPHC5zr"
   },
   "source": [
    "11) *np.percentile*"
   ]
  },
  {
   "cell_type": "code",
   "execution_count": null,
   "metadata": {
    "colab": {
     "base_uri": "https://localhost:8080/"
    },
    "executionInfo": {
     "elapsed": 43,
     "status": "ok",
     "timestamp": 1701992686561,
     "user": {
      "displayName": "Mohsin Raza",
      "userId": "02069157311777040551"
     },
     "user_tz": -300
    },
    "id": "Jt3RDRKyY0-7",
    "outputId": "957b6625-984a-47e0-f11a-98e0fcfe5e75"
   },
   "outputs": [
    {
     "data": {
      "text/plain": [
       "array([76, 26, 21, 11, 14, 65, 51, 65, 93, 54, 77, 24, 96, 35, 62])"
      ]
     },
     "execution_count": 96,
     "metadata": {},
     "output_type": "execute_result"
    }
   ],
   "source": [
    "a"
   ]
  },
  {
   "cell_type": "code",
   "execution_count": null,
   "metadata": {
    "colab": {
     "base_uri": "https://localhost:8080/"
    },
    "executionInfo": {
     "elapsed": 41,
     "status": "ok",
     "timestamp": 1701992686561,
     "user": {
      "displayName": "Mohsin Raza",
      "userId": "02069157311777040551"
     },
     "user_tz": -300
    },
    "id": "wD95CDvHDCpH",
    "outputId": "d8ff9af5-2340-4d5d-a4fe-c22e37f74f5e"
   },
   "outputs": [
    {
     "name": "stdout",
     "output_type": "stream",
     "text": [
      "96.0\n",
      "11.0\n",
      "54.0\n"
     ]
    }
   ],
   "source": [
    "print(np.percentile(a,100)) # 100 perncentile means max element of array\n",
    "print(np.percentile(a,0)) # 0 perncentile means min element of array\n",
    "print(np.percentile(a,50)) # 50 perncentile means mid element of array"
   ]
  },
  {
   "cell_type": "code",
   "execution_count": null,
   "metadata": {
    "colab": {
     "base_uri": "https://localhost:8080/"
    },
    "executionInfo": {
     "elapsed": 39,
     "status": "ok",
     "timestamp": 1701992686561,
     "user": {
      "displayName": "Mohsin Raza",
      "userId": "02069157311777040551"
     },
     "user_tz": -300
    },
    "id": "rhLDKxYADMgN",
    "outputId": "555b073f-3e05-4386-de07-6926446910cd"
   },
   "outputs": [
    {
     "data": {
      "text/plain": [
       "54.0"
      ]
     },
     "execution_count": 98,
     "metadata": {},
     "output_type": "execute_result"
    }
   ],
   "source": [
    "np.median(a)"
   ]
  },
  {
   "cell_type": "markdown",
   "metadata": {
    "id": "0nNslavpD101"
   },
   "source": [
    "12) *np.histogram*"
   ]
  },
  {
   "cell_type": "code",
   "execution_count": null,
   "metadata": {
    "colab": {
     "base_uri": "https://localhost:8080/"
    },
    "executionInfo": {
     "elapsed": 37,
     "status": "ok",
     "timestamp": 1701992686561,
     "user": {
      "displayName": "Mohsin Raza",
      "userId": "02069157311777040551"
     },
     "user_tz": -300
    },
    "id": "ZMiFo37tDsNy",
    "outputId": "3f65ba5a-2292-43bd-9c67-af556a32e53c"
   },
   "outputs": [
    {
     "data": {
      "text/plain": [
       "array([76, 26, 21, 11, 14, 65, 51, 65, 93, 54, 77, 24, 96, 35, 62])"
      ]
     },
     "execution_count": 99,
     "metadata": {},
     "output_type": "execute_result"
    }
   ],
   "source": [
    "# for frequncy count and data graph\n",
    "a"
   ]
  },
  {
   "cell_type": "code",
   "execution_count": null,
   "metadata": {
    "colab": {
     "base_uri": "https://localhost:8080/"
    },
    "executionInfo": {
     "elapsed": 35,
     "status": "ok",
     "timestamp": 1701992686561,
     "user": {
      "displayName": "Mohsin Raza",
      "userId": "02069157311777040551"
     },
     "user_tz": -300
    },
    "id": "UhQ95scSEIz1",
    "outputId": "4c9a2657-b441-4f6f-96b2-e3871eef8ff3"
   },
   "outputs": [
    {
     "data": {
      "text/plain": [
       "(array([4, 2, 5, 4]), array([  0,  25,  50,  75, 100]))"
      ]
     },
     "execution_count": 100,
     "metadata": {},
     "output_type": "execute_result"
    }
   ],
   "source": [
    "np.histogram(a,bins=[0,25,50,75,100])"
   ]
  },
  {
   "cell_type": "markdown",
   "metadata": {
    "id": "XLAMSQaVEvEJ"
   },
   "source": [
    "13) *corrcoef*"
   ]
  },
  {
   "cell_type": "code",
   "execution_count": null,
   "metadata": {
    "colab": {
     "base_uri": "https://localhost:8080/"
    },
    "executionInfo": {
     "elapsed": 34,
     "status": "ok",
     "timestamp": 1701992686562,
     "user": {
      "displayName": "Mohsin Raza",
      "userId": "02069157311777040551"
     },
     "user_tz": -300
    },
    "id": "binE6RxNEc0P",
    "outputId": "e27070df-4412-404f-e754-a81348ffd8b4"
   },
   "outputs": [
    {
     "data": {
      "text/plain": [
       "array([[1.        , 0.25344572],\n",
       "       [0.25344572, 1.        ]])"
      ]
     },
     "execution_count": 101,
     "metadata": {},
     "output_type": "execute_result"
    }
   ],
   "source": [
    "# corelation dependncies on one another (-1 to 1)\n",
    "salary = np.array([20000,40000,25000,35000,60000])\n",
    "experience = np.array([1,3,2,4,2])\n",
    "\n",
    "np.corrcoef(salary,experience)"
   ]
  },
  {
   "cell_type": "markdown",
   "metadata": {
    "id": "9SEy0M4aGXGH"
   },
   "source": [
    "14) *np.isin*"
   ]
  },
  {
   "cell_type": "code",
   "execution_count": null,
   "metadata": {
    "colab": {
     "base_uri": "https://localhost:8080/"
    },
    "executionInfo": {
     "elapsed": 32,
     "status": "ok",
     "timestamp": 1701992686562,
     "user": {
      "displayName": "Mohsin Raza",
      "userId": "02069157311777040551"
     },
     "user_tz": -300
    },
    "id": "sd6ecUjuF44q",
    "outputId": "cf7eae9e-9126-4848-966c-2ab344a04dd2"
   },
   "outputs": [
    {
     "data": {
      "text/plain": [
       "array([76, 26, 21, 11, 14, 65, 51, 65, 93, 54, 77, 24, 96, 35, 62])"
      ]
     },
     "execution_count": 102,
     "metadata": {},
     "output_type": "execute_result"
    }
   ],
   "source": [
    "# use to search for multiple items\n",
    "a"
   ]
  },
  {
   "cell_type": "code",
   "execution_count": null,
   "metadata": {
    "colab": {
     "base_uri": "https://localhost:8080/"
    },
    "executionInfo": {
     "elapsed": 30,
     "status": "ok",
     "timestamp": 1701992686562,
     "user": {
      "displayName": "Mohsin Raza",
      "userId": "02069157311777040551"
     },
     "user_tz": -300
    },
    "id": "_4ulsvYYGj3a",
    "outputId": "ba9c1ae6-a163-4c09-8ad1-2f172ee97837"
   },
   "outputs": [
    {
     "name": "stdout",
     "output_type": "stream",
     "text": [
      "[False False False False False False False False False False False False\n",
      " False False False] \n",
      "\n"
     ]
    },
    {
     "data": {
      "text/plain": [
       "array([], dtype=int64)"
      ]
     },
     "execution_count": 103,
     "metadata": {},
     "output_type": "execute_result"
    }
   ],
   "source": [
    "items = [10,20,30,40,50,60,70,80,90,100]\n",
    "\n",
    "print(np.isin(a,items),'\\n')\n",
    "a[np.isin(a,items)]"
   ]
  },
  {
   "cell_type": "markdown",
   "metadata": {
    "id": "omY2diG8HG7d"
   },
   "source": [
    "15) *flip*"
   ]
  },
  {
   "cell_type": "code",
   "execution_count": null,
   "metadata": {
    "colab": {
     "base_uri": "https://localhost:8080/"
    },
    "executionInfo": {
     "elapsed": 28,
     "status": "ok",
     "timestamp": 1701992686562,
     "user": {
      "displayName": "Mohsin Raza",
      "userId": "02069157311777040551"
     },
     "user_tz": -300
    },
    "id": "2rFpo41IGzhX",
    "outputId": "5f0d5efb-b380-481b-92ec-d9d5069b7fd6"
   },
   "outputs": [
    {
     "name": "stdout",
     "output_type": "stream",
     "text": [
      "[76 26 21 11 14 65 51 65 93 54 77 24 96 35 62]\n"
     ]
    },
    {
     "data": {
      "text/plain": [
       "array([62, 35, 96, 24, 77, 54, 93, 65, 51, 65, 14, 11, 21, 26, 76])"
      ]
     },
     "execution_count": 104,
     "metadata": {},
     "output_type": "execute_result"
    }
   ],
   "source": [
    "print(a)\n",
    "np.flip(a)"
   ]
  },
  {
   "cell_type": "code",
   "execution_count": null,
   "metadata": {
    "colab": {
     "base_uri": "https://localhost:8080/"
    },
    "executionInfo": {
     "elapsed": 26,
     "status": "ok",
     "timestamp": 1701992686562,
     "user": {
      "displayName": "Mohsin Raza",
      "userId": "02069157311777040551"
     },
     "user_tz": -300
    },
    "id": "5nL6u5K6HPsy",
    "outputId": "7a6be922-7ea5-4a46-a136-eab98ea7fca3"
   },
   "outputs": [
    {
     "name": "stdout",
     "output_type": "stream",
     "text": [
      "[[91  2 67 14]\n",
      " [44 80 32  5]\n",
      " [90 21 49 32]\n",
      " [11 76 31  4]\n",
      " [88 14 58 63]\n",
      " [17 92 55 55]] \n",
      "\n",
      "[[55 55 92 17]\n",
      " [63 58 14 88]\n",
      " [ 4 31 76 11]\n",
      " [32 49 21 90]\n",
      " [ 5 32 80 44]\n",
      " [14 67  2 91]] \n",
      "\n",
      "[[17 92 55 55]\n",
      " [88 14 58 63]\n",
      " [11 76 31  4]\n",
      " [90 21 49 32]\n",
      " [44 80 32  5]\n",
      " [91  2 67 14]] \n",
      "\n",
      "[[14 67  2 91]\n",
      " [ 5 32 80 44]\n",
      " [32 49 21 90]\n",
      " [ 4 31 76 11]\n",
      " [63 58 14 88]\n",
      " [55 55 92 17]]\n"
     ]
    }
   ],
   "source": [
    "print(b,'\\n')\n",
    "print(np.flip(b),'\\n')        # colum flip than row flip both\n",
    "print(np.flip(b,axis=0),'\\n') # axis=0 --> column flip\n",
    "print(np.flip(b,axis=1))      # axis=1 --> row flip"
   ]
  },
  {
   "cell_type": "markdown",
   "metadata": {
    "id": "TUolo13oIcvl"
   },
   "source": [
    "16) *np.put*"
   ]
  },
  {
   "cell_type": "code",
   "execution_count": null,
   "metadata": {
    "colab": {
     "base_uri": "https://localhost:8080/"
    },
    "executionInfo": {
     "elapsed": 23,
     "status": "ok",
     "timestamp": 1701992686562,
     "user": {
      "displayName": "Mohsin Raza",
      "userId": "02069157311777040551"
     },
     "user_tz": -300
    },
    "id": "JLE-ZWJwHqPZ",
    "outputId": "73c1083b-cad8-4a3b-f049-c5483f62b61f"
   },
   "outputs": [
    {
     "data": {
      "text/plain": [
       "array([76, 26, 21, 11, 14, 65, 51, 65, 93, 54, 77, 24, 96, 35, 62])"
      ]
     },
     "execution_count": 106,
     "metadata": {},
     "output_type": "execute_result"
    }
   ],
   "source": [
    "# changing values in array permenently\n",
    "z = a.copy()\n",
    "z"
   ]
  },
  {
   "cell_type": "code",
   "execution_count": null,
   "metadata": {
    "colab": {
     "base_uri": "https://localhost:8080/"
    },
    "executionInfo": {
     "elapsed": 22,
     "status": "ok",
     "timestamp": 1701992686563,
     "user": {
      "displayName": "Mohsin Raza",
      "userId": "02069157311777040551"
     },
     "user_tz": -300
    },
    "id": "xBseYqPGJAB9",
    "outputId": "bcfbf094-3b61-484e-e03c-fad52cde1baf"
   },
   "outputs": [
    {
     "data": {
      "text/plain": [
       "array([22, 26, 21, 11, 14,  4, 51, 65, 93, 54, 77, 24, 96, 35, 62])"
      ]
     },
     "execution_count": 107,
     "metadata": {},
     "output_type": "execute_result"
    }
   ],
   "source": [
    "np.put(z,[0,5],[22,4]) # (z,index number of changing values, values for giving index for changing)\n",
    "z"
   ]
  },
  {
   "cell_type": "markdown",
   "metadata": {
    "id": "rtmd0v4nJyBU"
   },
   "source": [
    "17) *np.delete*"
   ]
  },
  {
   "cell_type": "code",
   "execution_count": null,
   "metadata": {
    "colab": {
     "base_uri": "https://localhost:8080/"
    },
    "executionInfo": {
     "elapsed": 20,
     "status": "ok",
     "timestamp": 1701992686563,
     "user": {
      "displayName": "Mohsin Raza",
      "userId": "02069157311777040551"
     },
     "user_tz": -300
    },
    "id": "vgbQG7LjJSOT",
    "outputId": "d09db34f-75ce-47a1-e838-5d72eaadb1c9"
   },
   "outputs": [
    {
     "name": "stdout",
     "output_type": "stream",
     "text": [
      "[22 26 21 11 14  4 51 65 93 54 77 24 96 35 62] \n",
      "\n"
     ]
    },
    {
     "data": {
      "text/plain": [
       "array([26, 21, 11,  4, 51, 65, 93, 54, 77, 24, 96, 35, 62])"
      ]
     },
     "execution_count": 108,
     "metadata": {},
     "output_type": "execute_result"
    }
   ],
   "source": [
    "print(z, '\\n')\n",
    "np.delete(z, [0,4]) # (z, index number for deleting any element)"
   ]
  },
  {
   "cell_type": "markdown",
   "metadata": {
    "id": "vx-gpiisKk2U"
   },
   "source": [
    "18) **Set Functions**\n",
    "\n",
    "*   np.union1D\n",
    "*   np.intersect1D\n",
    "*   np.setdiff1D\n",
    "*   np.setxor1D\n",
    "*   np.in1D"
   ]
  },
  {
   "cell_type": "code",
   "execution_count": null,
   "metadata": {
    "id": "V05s9yN0KL2d"
   },
   "outputs": [],
   "source": [
    "m = np.array([1,2,3,4,5])\n",
    "n = np.array([3,4,5,6,7])"
   ]
  },
  {
   "cell_type": "code",
   "execution_count": null,
   "metadata": {
    "colab": {
     "base_uri": "https://localhost:8080/"
    },
    "executionInfo": {
     "elapsed": 17,
     "status": "ok",
     "timestamp": 1701992686563,
     "user": {
      "displayName": "Mohsin Raza",
      "userId": "02069157311777040551"
     },
     "user_tz": -300
    },
    "id": "mFQi-WVcNBXu",
    "outputId": "187999c2-3a6e-4d8b-8b95-01be0cdd3fdd"
   },
   "outputs": [
    {
     "name": "stdout",
     "output_type": "stream",
     "text": [
      "[1 2 3 4 5 6 7] \n",
      "\n",
      "[3 4 5] \n",
      "\n",
      "[1 2] \n",
      "\n",
      "[6 7] \n",
      "\n",
      "[1 2 6 7] \n",
      "\n",
      "[ True False False False False] \n",
      "\n",
      "[1]\n"
     ]
    }
   ],
   "source": [
    "print(np.union1d(m,n),'\\n')\n",
    "print(np.intersect1d(m,n),'\\n')\n",
    "print(np.setdiff1d(m,n),'\\n')\n",
    "print(np.setdiff1d(n,m),'\\n')\n",
    "print(np.setxor1d(m,n),'\\n')\n",
    "print(np.in1d(m,1),'\\n')\n",
    "print(m[np.in1d(m,1)])"
   ]
  },
  {
   "cell_type": "markdown",
   "metadata": {
    "id": "1oZNsBCnOG_h"
   },
   "source": [
    "19) *np.clip*"
   ]
  },
  {
   "cell_type": "code",
   "execution_count": null,
   "metadata": {
    "colab": {
     "base_uri": "https://localhost:8080/"
    },
    "executionInfo": {
     "elapsed": 15,
     "status": "ok",
     "timestamp": 1701992686563,
     "user": {
      "displayName": "Mohsin Raza",
      "userId": "02069157311777040551"
     },
     "user_tz": -300
    },
    "id": "PuVWPbjiNuVH",
    "outputId": "3f8a734c-0d90-41f2-b8c8-690bd8d66160"
   },
   "outputs": [
    {
     "data": {
      "text/plain": [
       "array([76, 26, 21, 11, 14, 65, 51, 65, 93, 54, 77, 24, 96, 35, 62])"
      ]
     },
     "execution_count": 111,
     "metadata": {},
     "output_type": "execute_result"
    }
   ],
   "source": [
    "a"
   ]
  },
  {
   "cell_type": "code",
   "execution_count": null,
   "metadata": {
    "colab": {
     "base_uri": "https://localhost:8080/"
    },
    "executionInfo": {
     "elapsed": 14,
     "status": "ok",
     "timestamp": 1701992686564,
     "user": {
      "displayName": "Mohsin Raza",
      "userId": "02069157311777040551"
     },
     "user_tz": -300
    },
    "id": "tt7BouLhOh8G",
    "outputId": "656da93c-4af8-40f3-8d69-75d52617db32"
   },
   "outputs": [
    {
     "data": {
      "text/plain": [
       "array([75, 26, 25, 25, 25, 65, 51, 65, 75, 54, 75, 25, 75, 35, 62])"
      ]
     },
     "execution_count": 112,
     "metadata": {},
     "output_type": "execute_result"
    }
   ],
   "source": [
    "np.clip(a,a_min=25,a_max=75)\n",
    "# a_min replase smallest element of array a with 25 and elements > 25 becomes 25) and (a_max relpace the largest element of array with 75 and elements > 75 becomes 75)"
   ]
  }
 ],
 "metadata": {
  "colab": {
   "authorship_tag": "ABX9TyNJqFSk4qySVNZbf+OlbThs",
   "provenance": []
  },
  "kernelspec": {
   "display_name": "Python 3 (ipykernel)",
   "language": "python",
   "name": "python3"
  },
  "language_info": {
   "codemirror_mode": {
    "name": "ipython",
    "version": 3
   },
   "file_extension": ".py",
   "mimetype": "text/x-python",
   "name": "python",
   "nbconvert_exporter": "python",
   "pygments_lexer": "ipython3",
   "version": "3.12.4"
  }
 },
 "nbformat": 4,
 "nbformat_minor": 4
}
